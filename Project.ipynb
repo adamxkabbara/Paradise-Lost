{
 "cells": [
  {
   "cell_type": "code",
   "execution_count": 1,
   "metadata": {},
<<<<<<< Updated upstream
   "outputs": [],
   "source": [
    "# Imports used the the project\n",
    "\n",
    "# Display plots directly in the notebook instead of in a new window\n",
    "%matplotlib inline\n",
    "\n",
    "# Import libraries\n",
    "import numpy as np\n",
    "import pandas as pd\n",
    "import matplotlib.pyplot as plt\n",
    "import seaborn as sns"
   ]
  },
  {
   "cell_type": "code",
   "execution_count": 2,
   "metadata": {},
   "outputs": [],
   "source": [
    "# Configure libraries\n",
    "# The seaborn library makes plots look nicer\n",
    "sns.set()\n",
    "sns.set_context('talk')\n",
    "\n",
    "# Don't display too many rows/cols of DataFrames\n",
    "pd.options.display.max_rows = 7\n",
    "pd.options.display.max_columns = 8\n",
    "\n",
    "# Round decimals when displaying DataFrames\n",
    "pd.set_option('precision', 2)"
   ]
  },
  {
   "cell_type": "markdown",
   "metadata": {},
   "source": [
    "# Data Wrangling"
   ]
  },
  {
   "cell_type": "code",
   "execution_count": 4,
   "metadata": {},
   "outputs": [],
   "source": [
    "df_airports = pd.read_csv(\"Airports.csv\")"
   ]
  },
  {
   "cell_type": "code",
   "execution_count": 7,
   "metadata": {},
   "outputs": [
    {
     "data": {
      "text/html": [
       "<div>\n",
       "<style scoped>\n",
       "    .dataframe tbody tr th:only-of-type {\n",
       "        vertical-align: middle;\n",
       "    }\n",
       "\n",
       "    .dataframe tbody tr th {\n",
       "        vertical-align: top;\n",
       "    }\n",
       "\n",
       "    .dataframe thead th {\n",
       "        text-align: right;\n",
       "    }\n",
       "</style>\n",
       "<table border=\"1\" class=\"dataframe\">\n",
       "  <thead>\n",
       "    <tr style=\"text-align: right;\">\n",
       "      <th></th>\n",
       "      <th>Origin_airport</th>\n",
       "      <th>Destination_airport</th>\n",
       "      <th>Origin_city</th>\n",
       "      <th>Destination_city</th>\n",
       "      <th>...</th>\n",
       "      <th>Distance</th>\n",
       "      <th>Fly_date</th>\n",
       "      <th>Origin_population</th>\n",
       "      <th>Destination_population</th>\n",
       "    </tr>\n",
       "  </thead>\n",
       "  <tbody>\n",
       "    <tr>\n",
       "      <th>0</th>\n",
       "      <td>MHK</td>\n",
       "      <td>AMW</td>\n",
       "      <td>Manhattan, KS</td>\n",
       "      <td>Ames, IA</td>\n",
       "      <td>...</td>\n",
       "      <td>254</td>\n",
       "      <td>200810</td>\n",
       "      <td>122049</td>\n",
       "      <td>86219</td>\n",
       "    </tr>\n",
       "    <tr>\n",
       "      <th>1</th>\n",
       "      <td>EUG</td>\n",
       "      <td>RDM</td>\n",
       "      <td>Eugene, OR</td>\n",
       "      <td>Bend, OR</td>\n",
       "      <td>...</td>\n",
       "      <td>103</td>\n",
       "      <td>199011</td>\n",
       "      <td>284093</td>\n",
       "      <td>76034</td>\n",
       "    </tr>\n",
       "    <tr>\n",
       "      <th>2</th>\n",
       "      <td>EUG</td>\n",
       "      <td>RDM</td>\n",
       "      <td>Eugene, OR</td>\n",
       "      <td>Bend, OR</td>\n",
       "      <td>...</td>\n",
       "      <td>103</td>\n",
       "      <td>199012</td>\n",
       "      <td>284093</td>\n",
       "      <td>76034</td>\n",
       "    </tr>\n",
       "    <tr>\n",
       "      <th>...</th>\n",
       "      <td>...</td>\n",
       "      <td>...</td>\n",
       "      <td>...</td>\n",
       "      <td>...</td>\n",
       "      <td>...</td>\n",
       "      <td>...</td>\n",
       "      <td>...</td>\n",
       "      <td>...</td>\n",
       "      <td>...</td>\n",
       "    </tr>\n",
       "    <tr>\n",
       "      <th>3606800</th>\n",
       "      <td>STL</td>\n",
       "      <td>TBN</td>\n",
       "      <td>St. Louis, MO</td>\n",
       "      <td>Fort Leonard Wood, MO</td>\n",
       "      <td>...</td>\n",
       "      <td>119</td>\n",
       "      <td>200908</td>\n",
       "      <td>2828990</td>\n",
       "      <td>46457</td>\n",
       "    </tr>\n",
       "    <tr>\n",
       "      <th>3606801</th>\n",
       "      <td>CGI</td>\n",
       "      <td>TBN</td>\n",
       "      <td>Cape Girardeau, MO</td>\n",
       "      <td>Fort Leonard Wood, MO</td>\n",
       "      <td>...</td>\n",
       "      <td>146</td>\n",
       "      <td>200908</td>\n",
       "      <td>93712</td>\n",
       "      <td>46457</td>\n",
       "    </tr>\n",
       "    <tr>\n",
       "      <th>3606802</th>\n",
       "      <td>FWA</td>\n",
       "      <td>OH1</td>\n",
       "      <td>Fort Wayne, IN</td>\n",
       "      <td>Washington Court House, OH</td>\n",
       "      <td>...</td>\n",
       "      <td>135</td>\n",
       "      <td>200309</td>\n",
       "      <td>398574</td>\n",
       "      <td>28133</td>\n",
       "    </tr>\n",
       "  </tbody>\n",
       "</table>\n",
       "<p>3606803 rows × 11 columns</p>\n",
       "</div>"
      ],
      "text/plain": [
       "        Origin_airport Destination_airport         Origin_city  \\\n",
       "0                  MHK                 AMW       Manhattan, KS   \n",
       "1                  EUG                 RDM          Eugene, OR   \n",
       "2                  EUG                 RDM          Eugene, OR   \n",
       "...                ...                 ...                 ...   \n",
       "3606800            STL                 TBN       St. Louis, MO   \n",
       "3606801            CGI                 TBN  Cape Girardeau, MO   \n",
       "3606802            FWA                 OH1      Fort Wayne, IN   \n",
       "\n",
       "                   Destination_city  ...  Distance  Fly_date  \\\n",
       "0                          Ames, IA  ...       254    200810   \n",
       "1                          Bend, OR  ...       103    199011   \n",
       "2                          Bend, OR  ...       103    199012   \n",
       "...                             ...  ...       ...       ...   \n",
       "3606800       Fort Leonard Wood, MO  ...       119    200908   \n",
       "3606801       Fort Leonard Wood, MO  ...       146    200908   \n",
       "3606802  Washington Court House, OH  ...       135    200309   \n",
       "\n",
       "         Origin_population  Destination_population  \n",
       "0                   122049                   86219  \n",
       "1                   284093                   76034  \n",
       "2                   284093                   76034  \n",
       "...                    ...                     ...  \n",
       "3606800            2828990                   46457  \n",
       "3606801              93712                   46457  \n",
       "3606802             398574                   28133  \n",
       "\n",
       "[3606803 rows x 11 columns]"
      ]
     },
     "execution_count": 7,
     "metadata": {},
     "output_type": "execute_result"
    }
   ],
   "source": [
    "df_airports"
=======
   "outputs": [
    {
     "name": "stdout",
     "output_type": "stream",
     "text": [
      "Hello\n"
     ]
    }
   ],
   "source": [
    "print (\"Hello\")"
>>>>>>> Stashed changes
   ]
  },
  {
   "cell_type": "code",
   "execution_count": null,
   "metadata": {},
   "outputs": [],
   "source": []
  }
 ],
 "metadata": {
  "kernelspec": {
   "display_name": "Python 3",
   "language": "python",
   "name": "python3"
  },
  "language_info": {
   "codemirror_mode": {
    "name": "ipython",
    "version": 3
   },
   "file_extension": ".py",
   "mimetype": "text/x-python",
   "name": "python",
   "nbconvert_exporter": "python",
   "pygments_lexer": "ipython3",
   "version": "3.7.1"
  }
 },
 "nbformat": 4,
 "nbformat_minor": 2
}
