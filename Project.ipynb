{
 "cells": [
  {
   "cell_type": "code",
   "execution_count": 1,
   "metadata": {},
   "outputs": [],
   "source": [
    "# Imports used the the project\n",
    "\n",
    "# Display plots directly in the notebook instead of in a new window\n",
    "%matplotlib inline\n",
    "\n",
    "# Import libraries\n",
    "import numpy as np\n",
    "import pandas as pd\n",
    "import matplotlib.pyplot as plt\n",
    "import seaborn as sns"
   ]
  },
  {
   "cell_type": "code",
   "execution_count": 2,
   "metadata": {},
   "outputs": [],
   "source": [
    "# Configure libraries\n",
    "# The seaborn library makes plots look nicer\n",
    "sns.set()\n",
    "sns.set_context('talk')\n",
    "\n",
    "# Don't display too many rows/cols of DataFrames\n",
    "pd.options.display.max_rows = 7\n",
    "pd.options.display.max_columns = 8\n",
    "\n",
    "# Round decimals when displaying DataFrames\n",
    "pd.set_option('precision', 2)"
   ]
  },
  {
   "cell_type": "markdown",
   "metadata": {},
   "source": [
    "# Data Wrangling"
   ]
  },
  {
   "cell_type": "code",
   "execution_count": 3,
   "metadata": {},
   "outputs": [],
   "source": [
    "df_airports = pd.read_csv(\"Airports.csv\")"
   ]
  },
  {
   "cell_type": "code",
   "execution_count": 4,
   "metadata": {},
   "outputs": [
    {
     "name": "stdout",
     "output_type": "stream",
     "text": [
      "<class 'numpy.int64'>\n"
     ]
    }
   ],
   "source": [
    "print(type(df_airports[\"Fly_date\"][0]))"
   ]
  },
  {
   "cell_type": "code",
   "execution_count": 5,
   "metadata": {},
   "outputs": [],
   "source": [
    "df_09 = df_airports[df_airports[\"Fly_date\"]==200909]\n",
    "df_10 = df_airports[df_airports[\"Fly_date\"]==200910]\n",
    "df_11 = df_airports[df_airports[\"Fly_date\"]==200911]\n",
    "df_12 = df_airports[df_airports[\"Fly_date\"]==200912]\n",
    "\n",
    "all_years_df = pd.concat([df_09, df_10, df_11, df_12], axis=0, ignore_index=True, sort=False)"
   ]
  },
  {
   "cell_type": "code",
   "execution_count": 6,
   "metadata": {},
   "outputs": [
    {
     "data": {
      "text/html": [
       "<div>\n",
       "<style scoped>\n",
       "    .dataframe tbody tr th:only-of-type {\n",
       "        vertical-align: middle;\n",
       "    }\n",
       "\n",
       "    .dataframe tbody tr th {\n",
       "        vertical-align: top;\n",
       "    }\n",
       "\n",
       "    .dataframe thead th {\n",
       "        text-align: right;\n",
       "    }\n",
       "</style>\n",
       "<table border=\"1\" class=\"dataframe\">\n",
       "  <thead>\n",
       "    <tr style=\"text-align: right;\">\n",
       "      <th></th>\n",
       "      <th>Origin_airport</th>\n",
       "      <th>Destination_airport</th>\n",
       "      <th>Origin_city</th>\n",
       "      <th>Destination_city</th>\n",
       "      <th>...</th>\n",
       "      <th>Distance</th>\n",
       "      <th>Fly_date</th>\n",
       "      <th>Origin_population</th>\n",
       "      <th>Destination_population</th>\n",
       "    </tr>\n",
       "  </thead>\n",
       "  <tbody>\n",
       "    <tr>\n",
       "      <th>13678</th>\n",
       "      <td>BOS</td>\n",
       "      <td>LAX</td>\n",
       "      <td>Boston, MA</td>\n",
       "      <td>Los Angeles, CA</td>\n",
       "      <td>...</td>\n",
       "      <td>2611</td>\n",
       "      <td>200909</td>\n",
       "      <td>9177360</td>\n",
       "      <td>25749594</td>\n",
       "    </tr>\n",
       "    <tr>\n",
       "      <th>13679</th>\n",
       "      <td>BOS</td>\n",
       "      <td>LAX</td>\n",
       "      <td>Boston, MA</td>\n",
       "      <td>Los Angeles, CA</td>\n",
       "      <td>...</td>\n",
       "      <td>2611</td>\n",
       "      <td>200909</td>\n",
       "      <td>9177360</td>\n",
       "      <td>25749594</td>\n",
       "    </tr>\n",
       "    <tr>\n",
       "      <th>13680</th>\n",
       "      <td>BOS</td>\n",
       "      <td>LAX</td>\n",
       "      <td>Boston, MA</td>\n",
       "      <td>Los Angeles, CA</td>\n",
       "      <td>...</td>\n",
       "      <td>2611</td>\n",
       "      <td>200909</td>\n",
       "      <td>9177360</td>\n",
       "      <td>25749594</td>\n",
       "    </tr>\n",
       "    <tr>\n",
       "      <th>...</th>\n",
       "      <td>...</td>\n",
       "      <td>...</td>\n",
       "      <td>...</td>\n",
       "      <td>...</td>\n",
       "      <td>...</td>\n",
       "      <td>...</td>\n",
       "      <td>...</td>\n",
       "      <td>...</td>\n",
       "      <td>...</td>\n",
       "    </tr>\n",
       "    <tr>\n",
       "      <th>67042</th>\n",
       "      <td>MSP</td>\n",
       "      <td>LAX</td>\n",
       "      <td>Minneapolis, MN</td>\n",
       "      <td>Los Angeles, CA</td>\n",
       "      <td>...</td>\n",
       "      <td>1536</td>\n",
       "      <td>200912</td>\n",
       "      <td>3269814</td>\n",
       "      <td>25749594</td>\n",
       "    </tr>\n",
       "    <tr>\n",
       "      <th>67043</th>\n",
       "      <td>MSP</td>\n",
       "      <td>LAX</td>\n",
       "      <td>Minneapolis, MN</td>\n",
       "      <td>Los Angeles, CA</td>\n",
       "      <td>...</td>\n",
       "      <td>1536</td>\n",
       "      <td>200912</td>\n",
       "      <td>3269814</td>\n",
       "      <td>25749594</td>\n",
       "    </tr>\n",
       "    <tr>\n",
       "      <th>67044</th>\n",
       "      <td>LAX</td>\n",
       "      <td>LAX</td>\n",
       "      <td>Los Angeles, CA</td>\n",
       "      <td>Los Angeles, CA</td>\n",
       "      <td>...</td>\n",
       "      <td>0</td>\n",
       "      <td>200912</td>\n",
       "      <td>25749594</td>\n",
       "      <td>25749594</td>\n",
       "    </tr>\n",
       "  </tbody>\n",
       "</table>\n",
       "<p>1562 rows × 11 columns</p>\n",
       "</div>"
      ],
      "text/plain": [
       "      Origin_airport Destination_airport      Origin_city Destination_city  \\\n",
       "13678            BOS                 LAX       Boston, MA  Los Angeles, CA   \n",
       "13679            BOS                 LAX       Boston, MA  Los Angeles, CA   \n",
       "13680            BOS                 LAX       Boston, MA  Los Angeles, CA   \n",
       "...              ...                 ...              ...              ...   \n",
       "67042            MSP                 LAX  Minneapolis, MN  Los Angeles, CA   \n",
       "67043            MSP                 LAX  Minneapolis, MN  Los Angeles, CA   \n",
       "67044            LAX                 LAX  Los Angeles, CA  Los Angeles, CA   \n",
       "\n",
       "                ...            Distance  Fly_date  Origin_population  \\\n",
       "13678           ...                2611    200909            9177360   \n",
       "13679           ...                2611    200909            9177360   \n",
       "13680           ...                2611    200909            9177360   \n",
       "...             ...                 ...       ...                ...   \n",
       "67042           ...                1536    200912            3269814   \n",
       "67043           ...                1536    200912            3269814   \n",
       "67044           ...                   0    200912           25749594   \n",
       "\n",
       "       Destination_population  \n",
       "13678                25749594  \n",
       "13679                25749594  \n",
       "13680                25749594  \n",
       "...                       ...  \n",
       "67042                25749594  \n",
       "67043                25749594  \n",
       "67044                25749594  \n",
       "\n",
       "[1562 rows x 11 columns]"
      ]
     },
     "execution_count": 6,
     "metadata": {},
     "output_type": "execute_result"
    }
   ],
   "source": [
    "la_df = all_years_df[all_years_df[\"Destination_city\"] == \"Los Angeles, CA\"]\n",
    "la_df"
   ]
  },
  {
   "cell_type": "code",
   "execution_count": 7,
   "metadata": {},
   "outputs": [
    {
     "data": {
      "text/html": [
       "<div>\n",
       "<style scoped>\n",
       "    .dataframe tbody tr th:only-of-type {\n",
       "        vertical-align: middle;\n",
       "    }\n",
       "\n",
       "    .dataframe tbody tr th {\n",
       "        vertical-align: top;\n",
       "    }\n",
       "\n",
       "    .dataframe thead th {\n",
       "        text-align: right;\n",
       "    }\n",
       "</style>\n",
       "<table border=\"1\" class=\"dataframe\">\n",
       "  <thead>\n",
       "    <tr style=\"text-align: right;\">\n",
       "      <th></th>\n",
       "      <th>Origin_airport</th>\n",
       "      <th>Destination_airport</th>\n",
       "      <th>Origin_city</th>\n",
       "      <th>Destination_city</th>\n",
       "      <th>...</th>\n",
       "      <th>Distance</th>\n",
       "      <th>Fly_date</th>\n",
       "      <th>Origin_population</th>\n",
       "      <th>Destination_population</th>\n",
       "    </tr>\n",
       "  </thead>\n",
       "  <tbody>\n",
       "    <tr>\n",
       "      <th>7790</th>\n",
       "      <td>CMH</td>\n",
       "      <td>JFK</td>\n",
       "      <td>Columbus, OH</td>\n",
       "      <td>New York, NY</td>\n",
       "      <td>...</td>\n",
       "      <td>483</td>\n",
       "      <td>200909</td>\n",
       "      <td>1801848</td>\n",
       "      <td>38139592</td>\n",
       "    </tr>\n",
       "    <tr>\n",
       "      <th>7791</th>\n",
       "      <td>CMH</td>\n",
       "      <td>JFK</td>\n",
       "      <td>Columbus, OH</td>\n",
       "      <td>New York, NY</td>\n",
       "      <td>...</td>\n",
       "      <td>483</td>\n",
       "      <td>200909</td>\n",
       "      <td>1801848</td>\n",
       "      <td>38139592</td>\n",
       "    </tr>\n",
       "    <tr>\n",
       "      <th>7792</th>\n",
       "      <td>CMH</td>\n",
       "      <td>LGA</td>\n",
       "      <td>Columbus, OH</td>\n",
       "      <td>New York, NY</td>\n",
       "      <td>...</td>\n",
       "      <td>478</td>\n",
       "      <td>200909</td>\n",
       "      <td>1801848</td>\n",
       "      <td>38139592</td>\n",
       "    </tr>\n",
       "    <tr>\n",
       "      <th>...</th>\n",
       "      <td>...</td>\n",
       "      <td>...</td>\n",
       "      <td>...</td>\n",
       "      <td>...</td>\n",
       "      <td>...</td>\n",
       "      <td>...</td>\n",
       "      <td>...</td>\n",
       "      <td>...</td>\n",
       "      <td>...</td>\n",
       "    </tr>\n",
       "    <tr>\n",
       "      <th>60557</th>\n",
       "      <td>PIT</td>\n",
       "      <td>LGA</td>\n",
       "      <td>Pittsburgh, PA</td>\n",
       "      <td>New York, NY</td>\n",
       "      <td>...</td>\n",
       "      <td>335</td>\n",
       "      <td>200912</td>\n",
       "      <td>2354957</td>\n",
       "      <td>38139592</td>\n",
       "    </tr>\n",
       "    <tr>\n",
       "      <th>60558</th>\n",
       "      <td>PIT</td>\n",
       "      <td>JFK</td>\n",
       "      <td>Pittsburgh, PA</td>\n",
       "      <td>New York, NY</td>\n",
       "      <td>...</td>\n",
       "      <td>340</td>\n",
       "      <td>200912</td>\n",
       "      <td>2354957</td>\n",
       "      <td>38139592</td>\n",
       "    </tr>\n",
       "    <tr>\n",
       "      <th>60559</th>\n",
       "      <td>PVD</td>\n",
       "      <td>LGA</td>\n",
       "      <td>Providence, RI</td>\n",
       "      <td>New York, NY</td>\n",
       "      <td>...</td>\n",
       "      <td>143</td>\n",
       "      <td>200912</td>\n",
       "      <td>1600642</td>\n",
       "      <td>38139592</td>\n",
       "    </tr>\n",
       "  </tbody>\n",
       "</table>\n",
       "<p>1981 rows × 11 columns</p>\n",
       "</div>"
      ],
      "text/plain": [
       "      Origin_airport Destination_airport     Origin_city Destination_city  \\\n",
       "7790             CMH                 JFK    Columbus, OH     New York, NY   \n",
       "7791             CMH                 JFK    Columbus, OH     New York, NY   \n",
       "7792             CMH                 LGA    Columbus, OH     New York, NY   \n",
       "...              ...                 ...             ...              ...   \n",
       "60557            PIT                 LGA  Pittsburgh, PA     New York, NY   \n",
       "60558            PIT                 JFK  Pittsburgh, PA     New York, NY   \n",
       "60559            PVD                 LGA  Providence, RI     New York, NY   \n",
       "\n",
       "                ...            Distance  Fly_date  Origin_population  \\\n",
       "7790            ...                 483    200909            1801848   \n",
       "7791            ...                 483    200909            1801848   \n",
       "7792            ...                 478    200909            1801848   \n",
       "...             ...                 ...       ...                ...   \n",
       "60557           ...                 335    200912            2354957   \n",
       "60558           ...                 340    200912            2354957   \n",
       "60559           ...                 143    200912            1600642   \n",
       "\n",
       "       Destination_population  \n",
       "7790                 38139592  \n",
       "7791                 38139592  \n",
       "7792                 38139592  \n",
       "...                       ...  \n",
       "60557                38139592  \n",
       "60558                38139592  \n",
       "60559                38139592  \n",
       "\n",
       "[1981 rows x 11 columns]"
      ]
     },
     "execution_count": 7,
     "metadata": {},
     "output_type": "execute_result"
    }
   ],
   "source": [
    "ny_df = all_years_df[all_years_df[\"Destination_city\"] == \"New York, NY\"]\n",
    "ny_df"
   ]
  },
  {
   "cell_type": "markdown",
   "metadata": {},
   "source": [
    "Los Angeles"
   ]
  },
  {
   "cell_type": "code",
   "execution_count": 8,
   "metadata": {},
   "outputs": [
    {
     "data": {
      "text/html": [
       "<div>\n",
       "<style scoped>\n",
       "    .dataframe tbody tr th:only-of-type {\n",
       "        vertical-align: middle;\n",
       "    }\n",
       "\n",
       "    .dataframe tbody tr th {\n",
       "        vertical-align: top;\n",
       "    }\n",
       "\n",
       "    .dataframe thead th {\n",
       "        text-align: right;\n",
       "    }\n",
       "</style>\n",
       "<table border=\"1\" class=\"dataframe\">\n",
       "  <thead>\n",
       "    <tr style=\"text-align: right;\">\n",
       "      <th></th>\n",
       "      <th>Origin_airport</th>\n",
       "      <th>Destination_airport</th>\n",
       "      <th>Origin_city</th>\n",
       "      <th>Destination_city</th>\n",
       "      <th>...</th>\n",
       "      <th>Distance</th>\n",
       "      <th>Fly_date</th>\n",
       "      <th>Origin_population</th>\n",
       "      <th>Destination_population</th>\n",
       "    </tr>\n",
       "  </thead>\n",
       "  <tbody>\n",
       "    <tr>\n",
       "      <th>3227</th>\n",
       "      <td>MCI</td>\n",
       "      <td>MDW</td>\n",
       "      <td>Kansas City, MO</td>\n",
       "      <td>Chicago, IL</td>\n",
       "      <td>...</td>\n",
       "      <td>405</td>\n",
       "      <td>200909</td>\n",
       "      <td>2067585</td>\n",
       "      <td>19161134</td>\n",
       "    </tr>\n",
       "    <tr>\n",
       "      <th>3228</th>\n",
       "      <td>DCA</td>\n",
       "      <td>ORD</td>\n",
       "      <td>Washington, DC</td>\n",
       "      <td>Chicago, IL</td>\n",
       "      <td>...</td>\n",
       "      <td>612</td>\n",
       "      <td>200909</td>\n",
       "      <td>10952482</td>\n",
       "      <td>19161134</td>\n",
       "    </tr>\n",
       "    <tr>\n",
       "      <th>3229</th>\n",
       "      <td>DCA</td>\n",
       "      <td>ORD</td>\n",
       "      <td>Washington, DC</td>\n",
       "      <td>Chicago, IL</td>\n",
       "      <td>...</td>\n",
       "      <td>612</td>\n",
       "      <td>200909</td>\n",
       "      <td>10952482</td>\n",
       "      <td>19161134</td>\n",
       "    </tr>\n",
       "    <tr>\n",
       "      <th>...</th>\n",
       "      <td>...</td>\n",
       "      <td>...</td>\n",
       "      <td>...</td>\n",
       "      <td>...</td>\n",
       "      <td>...</td>\n",
       "      <td>...</td>\n",
       "      <td>...</td>\n",
       "      <td>...</td>\n",
       "      <td>...</td>\n",
       "    </tr>\n",
       "    <tr>\n",
       "      <th>55862</th>\n",
       "      <td>SFO</td>\n",
       "      <td>ORD</td>\n",
       "      <td>San Francisco, CA</td>\n",
       "      <td>Chicago, IL</td>\n",
       "      <td>...</td>\n",
       "      <td>1846</td>\n",
       "      <td>200912</td>\n",
       "      <td>8635706</td>\n",
       "      <td>19161134</td>\n",
       "    </tr>\n",
       "    <tr>\n",
       "      <th>55863</th>\n",
       "      <td>SFO</td>\n",
       "      <td>ORD</td>\n",
       "      <td>San Francisco, CA</td>\n",
       "      <td>Chicago, IL</td>\n",
       "      <td>...</td>\n",
       "      <td>1846</td>\n",
       "      <td>200912</td>\n",
       "      <td>8635706</td>\n",
       "      <td>19161134</td>\n",
       "    </tr>\n",
       "    <tr>\n",
       "      <th>55864</th>\n",
       "      <td>IND</td>\n",
       "      <td>MDW</td>\n",
       "      <td>Indianapolis, IN</td>\n",
       "      <td>Chicago, IL</td>\n",
       "      <td>...</td>\n",
       "      <td>162</td>\n",
       "      <td>200912</td>\n",
       "      <td>1743658</td>\n",
       "      <td>19161134</td>\n",
       "    </tr>\n",
       "  </tbody>\n",
       "</table>\n",
       "<p>3540 rows × 11 columns</p>\n",
       "</div>"
      ],
      "text/plain": [
       "      Origin_airport Destination_airport        Origin_city Destination_city  \\\n",
       "3227             MCI                 MDW    Kansas City, MO      Chicago, IL   \n",
       "3228             DCA                 ORD     Washington, DC      Chicago, IL   \n",
       "3229             DCA                 ORD     Washington, DC      Chicago, IL   \n",
       "...              ...                 ...                ...              ...   \n",
       "55862            SFO                 ORD  San Francisco, CA      Chicago, IL   \n",
       "55863            SFO                 ORD  San Francisco, CA      Chicago, IL   \n",
       "55864            IND                 MDW   Indianapolis, IN      Chicago, IL   \n",
       "\n",
       "                ...            Distance  Fly_date  Origin_population  \\\n",
       "3227            ...                 405    200909            2067585   \n",
       "3228            ...                 612    200909           10952482   \n",
       "3229            ...                 612    200909           10952482   \n",
       "...             ...                 ...       ...                ...   \n",
       "55862           ...                1846    200912            8635706   \n",
       "55863           ...                1846    200912            8635706   \n",
       "55864           ...                 162    200912            1743658   \n",
       "\n",
       "       Destination_population  \n",
       "3227                 19161134  \n",
       "3228                 19161134  \n",
       "3229                 19161134  \n",
       "...                       ...  \n",
       "55862                19161134  \n",
       "55863                19161134  \n",
       "55864                19161134  \n",
       "\n",
       "[3540 rows x 11 columns]"
      ]
     },
     "execution_count": 8,
     "metadata": {},
     "output_type": "execute_result"
    }
   ],
   "source": [
    "ch_df = all_years_df[all_years_df[\"Destination_city\"] == \"Chicago, IL\"]\n",
    "ch_df"
   ]
  },
  {
   "cell_type": "code",
   "execution_count": 9,
   "metadata": {},
   "outputs": [
    {
     "data": {
      "text/html": [
       "<div>\n",
       "<style scoped>\n",
       "    .dataframe tbody tr th:only-of-type {\n",
       "        vertical-align: middle;\n",
       "    }\n",
       "\n",
       "    .dataframe tbody tr th {\n",
       "        vertical-align: top;\n",
       "    }\n",
       "\n",
       "    .dataframe thead th {\n",
       "        text-align: right;\n",
       "    }\n",
       "</style>\n",
       "<table border=\"1\" class=\"dataframe\">\n",
       "  <thead>\n",
       "    <tr style=\"text-align: right;\">\n",
       "      <th></th>\n",
       "      <th>Origin_airport</th>\n",
       "      <th>Destination_airport</th>\n",
       "      <th>Origin_city</th>\n",
       "      <th>Destination_city</th>\n",
       "      <th>...</th>\n",
       "      <th>Distance</th>\n",
       "      <th>Fly_date</th>\n",
       "      <th>Origin_population</th>\n",
       "      <th>Destination_population</th>\n",
       "    </tr>\n",
       "  </thead>\n",
       "  <tbody>\n",
       "    <tr>\n",
       "      <th>5969</th>\n",
       "      <td>PBI</td>\n",
       "      <td>SFB</td>\n",
       "      <td>West Palm Beach, FL</td>\n",
       "      <td>Orlando, FL</td>\n",
       "      <td>...</td>\n",
       "      <td>160</td>\n",
       "      <td>200909</td>\n",
       "      <td>5547051</td>\n",
       "      <td>2082421</td>\n",
       "    </tr>\n",
       "    <tr>\n",
       "      <th>5970</th>\n",
       "      <td>FLL</td>\n",
       "      <td>MCO</td>\n",
       "      <td>Fort Lauderdale, FL</td>\n",
       "      <td>Orlando, FL</td>\n",
       "      <td>...</td>\n",
       "      <td>178</td>\n",
       "      <td>200909</td>\n",
       "      <td>5547051</td>\n",
       "      <td>2082421</td>\n",
       "    </tr>\n",
       "    <tr>\n",
       "      <th>5971</th>\n",
       "      <td>FLL</td>\n",
       "      <td>MCO</td>\n",
       "      <td>Fort Lauderdale, FL</td>\n",
       "      <td>Orlando, FL</td>\n",
       "      <td>...</td>\n",
       "      <td>178</td>\n",
       "      <td>200909</td>\n",
       "      <td>5547051</td>\n",
       "      <td>2082421</td>\n",
       "    </tr>\n",
       "    <tr>\n",
       "      <th>...</th>\n",
       "      <td>...</td>\n",
       "      <td>...</td>\n",
       "      <td>...</td>\n",
       "      <td>...</td>\n",
       "      <td>...</td>\n",
       "      <td>...</td>\n",
       "      <td>...</td>\n",
       "      <td>...</td>\n",
       "      <td>...</td>\n",
       "    </tr>\n",
       "    <tr>\n",
       "      <th>58300</th>\n",
       "      <td>CLT</td>\n",
       "      <td>MCO</td>\n",
       "      <td>Charlotte, NC</td>\n",
       "      <td>Orlando, FL</td>\n",
       "      <td>...</td>\n",
       "      <td>468</td>\n",
       "      <td>200912</td>\n",
       "      <td>1745524</td>\n",
       "      <td>2082421</td>\n",
       "    </tr>\n",
       "    <tr>\n",
       "      <th>58301</th>\n",
       "      <td>CLT</td>\n",
       "      <td>MCO</td>\n",
       "      <td>Charlotte, NC</td>\n",
       "      <td>Orlando, FL</td>\n",
       "      <td>...</td>\n",
       "      <td>468</td>\n",
       "      <td>200912</td>\n",
       "      <td>1745524</td>\n",
       "      <td>2082421</td>\n",
       "    </tr>\n",
       "    <tr>\n",
       "      <th>58302</th>\n",
       "      <td>CLT</td>\n",
       "      <td>MCO</td>\n",
       "      <td>Charlotte, NC</td>\n",
       "      <td>Orlando, FL</td>\n",
       "      <td>...</td>\n",
       "      <td>468</td>\n",
       "      <td>200912</td>\n",
       "      <td>1745524</td>\n",
       "      <td>2082421</td>\n",
       "    </tr>\n",
       "  </tbody>\n",
       "</table>\n",
       "<p>1200 rows × 11 columns</p>\n",
       "</div>"
      ],
      "text/plain": [
       "      Origin_airport Destination_airport          Origin_city  \\\n",
       "5969             PBI                 SFB  West Palm Beach, FL   \n",
       "5970             FLL                 MCO  Fort Lauderdale, FL   \n",
       "5971             FLL                 MCO  Fort Lauderdale, FL   \n",
       "...              ...                 ...                  ...   \n",
       "58300            CLT                 MCO        Charlotte, NC   \n",
       "58301            CLT                 MCO        Charlotte, NC   \n",
       "58302            CLT                 MCO        Charlotte, NC   \n",
       "\n",
       "      Destination_city           ...            Distance  Fly_date  \\\n",
       "5969       Orlando, FL           ...                 160    200909   \n",
       "5970       Orlando, FL           ...                 178    200909   \n",
       "5971       Orlando, FL           ...                 178    200909   \n",
       "...                ...           ...                 ...       ...   \n",
       "58300      Orlando, FL           ...                 468    200912   \n",
       "58301      Orlando, FL           ...                 468    200912   \n",
       "58302      Orlando, FL           ...                 468    200912   \n",
       "\n",
       "       Origin_population  Destination_population  \n",
       "5969             5547051                 2082421  \n",
       "5970             5547051                 2082421  \n",
       "5971             5547051                 2082421  \n",
       "...                  ...                     ...  \n",
       "58300            1745524                 2082421  \n",
       "58301            1745524                 2082421  \n",
       "58302            1745524                 2082421  \n",
       "\n",
       "[1200 rows x 11 columns]"
      ]
     },
     "execution_count": 9,
     "metadata": {},
     "output_type": "execute_result"
    }
   ],
   "source": [
    "orl_df = all_years_df[all_years_df[\"Destination_city\"] == \"Orlando, FL\"]\n",
    "orl_df"
   ]
  },
  {
   "cell_type": "code",
   "execution_count": 10,
   "metadata": {},
   "outputs": [
    {
     "data": {
      "text/html": [
       "<div>\n",
       "<style scoped>\n",
       "    .dataframe tbody tr th:only-of-type {\n",
       "        vertical-align: middle;\n",
       "    }\n",
       "\n",
       "    .dataframe tbody tr th {\n",
       "        vertical-align: top;\n",
       "    }\n",
       "\n",
       "    .dataframe thead th {\n",
       "        text-align: right;\n",
       "    }\n",
       "</style>\n",
       "<table border=\"1\" class=\"dataframe\">\n",
       "  <thead>\n",
       "    <tr style=\"text-align: right;\">\n",
       "      <th></th>\n",
       "      <th>Origin_airport</th>\n",
       "      <th>Destination_airport</th>\n",
       "      <th>Origin_city</th>\n",
       "      <th>Destination_city</th>\n",
       "      <th>...</th>\n",
       "      <th>Distance</th>\n",
       "      <th>Fly_date</th>\n",
       "      <th>Origin_population</th>\n",
       "      <th>Destination_population</th>\n",
       "    </tr>\n",
       "  </thead>\n",
       "  <tbody>\n",
       "    <tr>\n",
       "      <th>6785</th>\n",
       "      <td>LWS</td>\n",
       "      <td>SEA</td>\n",
       "      <td>Lewiston, ID</td>\n",
       "      <td>Seattle, WA</td>\n",
       "      <td>...</td>\n",
       "      <td>261</td>\n",
       "      <td>200909</td>\n",
       "      <td>60643</td>\n",
       "      <td>6815696</td>\n",
       "    </tr>\n",
       "    <tr>\n",
       "      <th>6786</th>\n",
       "      <td>HNL</td>\n",
       "      <td>SEA</td>\n",
       "      <td>Honolulu, HI</td>\n",
       "      <td>Seattle, WA</td>\n",
       "      <td>...</td>\n",
       "      <td>2677</td>\n",
       "      <td>200909</td>\n",
       "      <td>907574</td>\n",
       "      <td>6815696</td>\n",
       "    </tr>\n",
       "    <tr>\n",
       "      <th>6787</th>\n",
       "      <td>MSO</td>\n",
       "      <td>SEA</td>\n",
       "      <td>Missoula, MT</td>\n",
       "      <td>Seattle, WA</td>\n",
       "      <td>...</td>\n",
       "      <td>389</td>\n",
       "      <td>200909</td>\n",
       "      <td>108623</td>\n",
       "      <td>6815696</td>\n",
       "    </tr>\n",
       "    <tr>\n",
       "      <th>...</th>\n",
       "      <td>...</td>\n",
       "      <td>...</td>\n",
       "      <td>...</td>\n",
       "      <td>...</td>\n",
       "      <td>...</td>\n",
       "      <td>...</td>\n",
       "      <td>...</td>\n",
       "      <td>...</td>\n",
       "      <td>...</td>\n",
       "    </tr>\n",
       "    <tr>\n",
       "      <th>59272</th>\n",
       "      <td>ORD</td>\n",
       "      <td>SEA</td>\n",
       "      <td>Chicago, IL</td>\n",
       "      <td>Seattle, WA</td>\n",
       "      <td>...</td>\n",
       "      <td>1721</td>\n",
       "      <td>200912</td>\n",
       "      <td>19161134</td>\n",
       "      <td>6815696</td>\n",
       "    </tr>\n",
       "    <tr>\n",
       "      <th>59273</th>\n",
       "      <td>ORD</td>\n",
       "      <td>SEA</td>\n",
       "      <td>Chicago, IL</td>\n",
       "      <td>Seattle, WA</td>\n",
       "      <td>...</td>\n",
       "      <td>1721</td>\n",
       "      <td>200912</td>\n",
       "      <td>19161134</td>\n",
       "      <td>6815696</td>\n",
       "    </tr>\n",
       "    <tr>\n",
       "      <th>59274</th>\n",
       "      <td>ELP</td>\n",
       "      <td>SEA</td>\n",
       "      <td>El Paso, TX</td>\n",
       "      <td>Seattle, WA</td>\n",
       "      <td>...</td>\n",
       "      <td>1368</td>\n",
       "      <td>200912</td>\n",
       "      <td>751296</td>\n",
       "      <td>6815696</td>\n",
       "    </tr>\n",
       "  </tbody>\n",
       "</table>\n",
       "<p>1168 rows × 11 columns</p>\n",
       "</div>"
      ],
      "text/plain": [
       "      Origin_airport Destination_airport   Origin_city Destination_city  \\\n",
       "6785             LWS                 SEA  Lewiston, ID      Seattle, WA   \n",
       "6786             HNL                 SEA  Honolulu, HI      Seattle, WA   \n",
       "6787             MSO                 SEA  Missoula, MT      Seattle, WA   \n",
       "...              ...                 ...           ...              ...   \n",
       "59272            ORD                 SEA   Chicago, IL      Seattle, WA   \n",
       "59273            ORD                 SEA   Chicago, IL      Seattle, WA   \n",
       "59274            ELP                 SEA   El Paso, TX      Seattle, WA   \n",
       "\n",
       "                ...            Distance  Fly_date  Origin_population  \\\n",
       "6785            ...                 261    200909              60643   \n",
       "6786            ...                2677    200909             907574   \n",
       "6787            ...                 389    200909             108623   \n",
       "...             ...                 ...       ...                ...   \n",
       "59272           ...                1721    200912           19161134   \n",
       "59273           ...                1721    200912           19161134   \n",
       "59274           ...                1368    200912             751296   \n",
       "\n",
       "       Destination_population  \n",
       "6785                  6815696  \n",
       "6786                  6815696  \n",
       "6787                  6815696  \n",
       "...                       ...  \n",
       "59272                 6815696  \n",
       "59273                 6815696  \n",
       "59274                 6815696  \n",
       "\n",
       "[1168 rows x 11 columns]"
      ]
     },
     "execution_count": 10,
     "metadata": {},
     "output_type": "execute_result"
    }
   ],
   "source": [
    "sea_df = all_years_df[all_years_df[\"Destination_city\"] == \"Seattle, WA\"]\n",
    "sea_df"
   ]
  },
  {
   "cell_type": "markdown",
   "metadata": {},
   "source": [
    "Sample Airport Datasets"
   ]
  },
  {
   "cell_type": "code",
   "execution_count": 11,
   "metadata": {
    "scrolled": true
   },
   "outputs": [
    {
     "data": {
      "text/html": [
       "<div>\n",
       "<style scoped>\n",
       "    .dataframe tbody tr th:only-of-type {\n",
       "        vertical-align: middle;\n",
       "    }\n",
       "\n",
       "    .dataframe tbody tr th {\n",
       "        vertical-align: top;\n",
       "    }\n",
       "\n",
       "    .dataframe thead th {\n",
       "        text-align: right;\n",
       "    }\n",
       "</style>\n",
       "<table border=\"1\" class=\"dataframe\">\n",
       "  <thead>\n",
       "    <tr style=\"text-align: right;\">\n",
       "      <th></th>\n",
       "      <th>Origin_airport</th>\n",
       "      <th>Destination_airport</th>\n",
       "      <th>Origin_city</th>\n",
       "      <th>Destination_city</th>\n",
       "      <th>...</th>\n",
       "      <th>Distance</th>\n",
       "      <th>Fly_date</th>\n",
       "      <th>Origin_population</th>\n",
       "      <th>Destination_population</th>\n",
       "    </tr>\n",
       "  </thead>\n",
       "  <tbody>\n",
       "    <tr>\n",
       "      <th>13678</th>\n",
       "      <td>BOS</td>\n",
       "      <td>LAX</td>\n",
       "      <td>Boston, MA</td>\n",
       "      <td>Los Angeles, CA</td>\n",
       "      <td>...</td>\n",
       "      <td>2611</td>\n",
       "      <td>200909</td>\n",
       "      <td>9177360</td>\n",
       "      <td>25749594</td>\n",
       "    </tr>\n",
       "    <tr>\n",
       "      <th>13679</th>\n",
       "      <td>BOS</td>\n",
       "      <td>LAX</td>\n",
       "      <td>Boston, MA</td>\n",
       "      <td>Los Angeles, CA</td>\n",
       "      <td>...</td>\n",
       "      <td>2611</td>\n",
       "      <td>200909</td>\n",
       "      <td>9177360</td>\n",
       "      <td>25749594</td>\n",
       "    </tr>\n",
       "    <tr>\n",
       "      <th>13680</th>\n",
       "      <td>BOS</td>\n",
       "      <td>LAX</td>\n",
       "      <td>Boston, MA</td>\n",
       "      <td>Los Angeles, CA</td>\n",
       "      <td>...</td>\n",
       "      <td>2611</td>\n",
       "      <td>200909</td>\n",
       "      <td>9177360</td>\n",
       "      <td>25749594</td>\n",
       "    </tr>\n",
       "    <tr>\n",
       "      <th>13681</th>\n",
       "      <td>BOS</td>\n",
       "      <td>LAX</td>\n",
       "      <td>Boston, MA</td>\n",
       "      <td>Los Angeles, CA</td>\n",
       "      <td>...</td>\n",
       "      <td>2611</td>\n",
       "      <td>200909</td>\n",
       "      <td>9177360</td>\n",
       "      <td>25749594</td>\n",
       "    </tr>\n",
       "    <tr>\n",
       "      <th>13682</th>\n",
       "      <td>BOS</td>\n",
       "      <td>LAX</td>\n",
       "      <td>Boston, MA</td>\n",
       "      <td>Los Angeles, CA</td>\n",
       "      <td>...</td>\n",
       "      <td>2611</td>\n",
       "      <td>200909</td>\n",
       "      <td>9177360</td>\n",
       "      <td>25749594</td>\n",
       "    </tr>\n",
       "  </tbody>\n",
       "</table>\n",
       "<p>5 rows × 11 columns</p>\n",
       "</div>"
      ],
      "text/plain": [
       "      Origin_airport Destination_airport Origin_city Destination_city  \\\n",
       "13678            BOS                 LAX  Boston, MA  Los Angeles, CA   \n",
       "13679            BOS                 LAX  Boston, MA  Los Angeles, CA   \n",
       "13680            BOS                 LAX  Boston, MA  Los Angeles, CA   \n",
       "13681            BOS                 LAX  Boston, MA  Los Angeles, CA   \n",
       "13682            BOS                 LAX  Boston, MA  Los Angeles, CA   \n",
       "\n",
       "                ...            Distance  Fly_date  Origin_population  \\\n",
       "13678           ...                2611    200909            9177360   \n",
       "13679           ...                2611    200909            9177360   \n",
       "13680           ...                2611    200909            9177360   \n",
       "13681           ...                2611    200909            9177360   \n",
       "13682           ...                2611    200909            9177360   \n",
       "\n",
       "       Destination_population  \n",
       "13678                25749594  \n",
       "13679                25749594  \n",
       "13680                25749594  \n",
       "13681                25749594  \n",
       "13682                25749594  \n",
       "\n",
       "[5 rows x 11 columns]"
      ]
     },
     "execution_count": 11,
     "metadata": {},
     "output_type": "execute_result"
    }
   ],
   "source": [
    "la_df.head()"
   ]
  },
  {
   "cell_type": "code",
   "execution_count": 12,
   "metadata": {},
   "outputs": [
    {
     "data": {
      "text/html": [
       "<div>\n",
       "<style scoped>\n",
       "    .dataframe tbody tr th:only-of-type {\n",
       "        vertical-align: middle;\n",
       "    }\n",
       "\n",
       "    .dataframe tbody tr th {\n",
       "        vertical-align: top;\n",
       "    }\n",
       "\n",
       "    .dataframe thead th {\n",
       "        text-align: right;\n",
       "    }\n",
       "</style>\n",
       "<table border=\"1\" class=\"dataframe\">\n",
       "  <thead>\n",
       "    <tr style=\"text-align: right;\">\n",
       "      <th></th>\n",
       "      <th>Origin_airport</th>\n",
       "      <th>Destination_airport</th>\n",
       "      <th>Origin_city</th>\n",
       "      <th>Destination_city</th>\n",
       "      <th>...</th>\n",
       "      <th>Distance</th>\n",
       "      <th>Fly_date</th>\n",
       "      <th>Origin_population</th>\n",
       "      <th>Destination_population</th>\n",
       "    </tr>\n",
       "  </thead>\n",
       "  <tbody>\n",
       "    <tr>\n",
       "      <th>6785</th>\n",
       "      <td>LWS</td>\n",
       "      <td>SEA</td>\n",
       "      <td>Lewiston, ID</td>\n",
       "      <td>Seattle, WA</td>\n",
       "      <td>...</td>\n",
       "      <td>261</td>\n",
       "      <td>200909</td>\n",
       "      <td>60643</td>\n",
       "      <td>6815696</td>\n",
       "    </tr>\n",
       "    <tr>\n",
       "      <th>6786</th>\n",
       "      <td>HNL</td>\n",
       "      <td>SEA</td>\n",
       "      <td>Honolulu, HI</td>\n",
       "      <td>Seattle, WA</td>\n",
       "      <td>...</td>\n",
       "      <td>2677</td>\n",
       "      <td>200909</td>\n",
       "      <td>907574</td>\n",
       "      <td>6815696</td>\n",
       "    </tr>\n",
       "    <tr>\n",
       "      <th>6787</th>\n",
       "      <td>MSO</td>\n",
       "      <td>SEA</td>\n",
       "      <td>Missoula, MT</td>\n",
       "      <td>Seattle, WA</td>\n",
       "      <td>...</td>\n",
       "      <td>389</td>\n",
       "      <td>200909</td>\n",
       "      <td>108623</td>\n",
       "      <td>6815696</td>\n",
       "    </tr>\n",
       "    <tr>\n",
       "      <th>6788</th>\n",
       "      <td>HNL</td>\n",
       "      <td>SEA</td>\n",
       "      <td>Honolulu, HI</td>\n",
       "      <td>Seattle, WA</td>\n",
       "      <td>...</td>\n",
       "      <td>2677</td>\n",
       "      <td>200909</td>\n",
       "      <td>907574</td>\n",
       "      <td>6815696</td>\n",
       "    </tr>\n",
       "    <tr>\n",
       "      <th>6789</th>\n",
       "      <td>HNL</td>\n",
       "      <td>SEA</td>\n",
       "      <td>Honolulu, HI</td>\n",
       "      <td>Seattle, WA</td>\n",
       "      <td>...</td>\n",
       "      <td>2677</td>\n",
       "      <td>200909</td>\n",
       "      <td>907574</td>\n",
       "      <td>6815696</td>\n",
       "    </tr>\n",
       "  </tbody>\n",
       "</table>\n",
       "<p>5 rows × 11 columns</p>\n",
       "</div>"
      ],
      "text/plain": [
       "     Origin_airport Destination_airport   Origin_city Destination_city  \\\n",
       "6785            LWS                 SEA  Lewiston, ID      Seattle, WA   \n",
       "6786            HNL                 SEA  Honolulu, HI      Seattle, WA   \n",
       "6787            MSO                 SEA  Missoula, MT      Seattle, WA   \n",
       "6788            HNL                 SEA  Honolulu, HI      Seattle, WA   \n",
       "6789            HNL                 SEA  Honolulu, HI      Seattle, WA   \n",
       "\n",
       "               ...            Distance  Fly_date  Origin_population  \\\n",
       "6785           ...                 261    200909              60643   \n",
       "6786           ...                2677    200909             907574   \n",
       "6787           ...                 389    200909             108623   \n",
       "6788           ...                2677    200909             907574   \n",
       "6789           ...                2677    200909             907574   \n",
       "\n",
       "      Destination_population  \n",
       "6785                 6815696  \n",
       "6786                 6815696  \n",
       "6787                 6815696  \n",
       "6788                 6815696  \n",
       "6789                 6815696  \n",
       "\n",
       "[5 rows x 11 columns]"
      ]
     },
     "execution_count": 12,
     "metadata": {},
     "output_type": "execute_result"
    }
   ],
   "source": [
    "sea_df.head()"
   ]
  },
  {
   "cell_type": "code",
   "execution_count": 13,
   "metadata": {},
   "outputs": [
    {
     "data": {
      "text/html": [
       "<div>\n",
       "<style scoped>\n",
       "    .dataframe tbody tr th:only-of-type {\n",
       "        vertical-align: middle;\n",
       "    }\n",
       "\n",
       "    .dataframe tbody tr th {\n",
       "        vertical-align: top;\n",
       "    }\n",
       "\n",
       "    .dataframe thead th {\n",
       "        text-align: right;\n",
       "    }\n",
       "</style>\n",
       "<table border=\"1\" class=\"dataframe\">\n",
       "  <thead>\n",
       "    <tr style=\"text-align: right;\">\n",
       "      <th></th>\n",
       "      <th>Origin_airport</th>\n",
       "      <th>Destination_airport</th>\n",
       "      <th>Origin_city</th>\n",
       "      <th>Destination_city</th>\n",
       "      <th>...</th>\n",
       "      <th>Distance</th>\n",
       "      <th>Fly_date</th>\n",
       "      <th>Origin_population</th>\n",
       "      <th>Destination_population</th>\n",
       "    </tr>\n",
       "  </thead>\n",
       "  <tbody>\n",
       "    <tr>\n",
       "      <th>3227</th>\n",
       "      <td>MCI</td>\n",
       "      <td>MDW</td>\n",
       "      <td>Kansas City, MO</td>\n",
       "      <td>Chicago, IL</td>\n",
       "      <td>...</td>\n",
       "      <td>405</td>\n",
       "      <td>200909</td>\n",
       "      <td>2067585</td>\n",
       "      <td>19161134</td>\n",
       "    </tr>\n",
       "    <tr>\n",
       "      <th>3228</th>\n",
       "      <td>DCA</td>\n",
       "      <td>ORD</td>\n",
       "      <td>Washington, DC</td>\n",
       "      <td>Chicago, IL</td>\n",
       "      <td>...</td>\n",
       "      <td>612</td>\n",
       "      <td>200909</td>\n",
       "      <td>10952482</td>\n",
       "      <td>19161134</td>\n",
       "    </tr>\n",
       "    <tr>\n",
       "      <th>3229</th>\n",
       "      <td>DCA</td>\n",
       "      <td>ORD</td>\n",
       "      <td>Washington, DC</td>\n",
       "      <td>Chicago, IL</td>\n",
       "      <td>...</td>\n",
       "      <td>612</td>\n",
       "      <td>200909</td>\n",
       "      <td>10952482</td>\n",
       "      <td>19161134</td>\n",
       "    </tr>\n",
       "    <tr>\n",
       "      <th>3230</th>\n",
       "      <td>DCA</td>\n",
       "      <td>ORD</td>\n",
       "      <td>Washington, DC</td>\n",
       "      <td>Chicago, IL</td>\n",
       "      <td>...</td>\n",
       "      <td>612</td>\n",
       "      <td>200909</td>\n",
       "      <td>10952482</td>\n",
       "      <td>19161134</td>\n",
       "    </tr>\n",
       "    <tr>\n",
       "      <th>3231</th>\n",
       "      <td>DCA</td>\n",
       "      <td>ORD</td>\n",
       "      <td>Washington, DC</td>\n",
       "      <td>Chicago, IL</td>\n",
       "      <td>...</td>\n",
       "      <td>612</td>\n",
       "      <td>200909</td>\n",
       "      <td>10952482</td>\n",
       "      <td>19161134</td>\n",
       "    </tr>\n",
       "  </tbody>\n",
       "</table>\n",
       "<p>5 rows × 11 columns</p>\n",
       "</div>"
      ],
      "text/plain": [
       "     Origin_airport Destination_airport      Origin_city Destination_city  \\\n",
       "3227            MCI                 MDW  Kansas City, MO      Chicago, IL   \n",
       "3228            DCA                 ORD   Washington, DC      Chicago, IL   \n",
       "3229            DCA                 ORD   Washington, DC      Chicago, IL   \n",
       "3230            DCA                 ORD   Washington, DC      Chicago, IL   \n",
       "3231            DCA                 ORD   Washington, DC      Chicago, IL   \n",
       "\n",
       "               ...            Distance  Fly_date  Origin_population  \\\n",
       "3227           ...                 405    200909            2067585   \n",
       "3228           ...                 612    200909           10952482   \n",
       "3229           ...                 612    200909           10952482   \n",
       "3230           ...                 612    200909           10952482   \n",
       "3231           ...                 612    200909           10952482   \n",
       "\n",
       "      Destination_population  \n",
       "3227                19161134  \n",
       "3228                19161134  \n",
       "3229                19161134  \n",
       "3230                19161134  \n",
       "3231                19161134  \n",
       "\n",
       "[5 rows x 11 columns]"
      ]
     },
     "execution_count": 13,
     "metadata": {},
     "output_type": "execute_result"
    }
   ],
   "source": [
    "ch_df.head()"
   ]
  },
  {
   "cell_type": "code",
   "execution_count": 14,
   "metadata": {},
   "outputs": [
    {
     "data": {
      "text/html": [
       "<div>\n",
       "<style scoped>\n",
       "    .dataframe tbody tr th:only-of-type {\n",
       "        vertical-align: middle;\n",
       "    }\n",
       "\n",
       "    .dataframe tbody tr th {\n",
       "        vertical-align: top;\n",
       "    }\n",
       "\n",
       "    .dataframe thead th {\n",
       "        text-align: right;\n",
       "    }\n",
       "</style>\n",
       "<table border=\"1\" class=\"dataframe\">\n",
       "  <thead>\n",
       "    <tr style=\"text-align: right;\">\n",
       "      <th></th>\n",
       "      <th>Origin_airport</th>\n",
       "      <th>Destination_airport</th>\n",
       "      <th>Origin_city</th>\n",
       "      <th>Destination_city</th>\n",
       "      <th>...</th>\n",
       "      <th>Distance</th>\n",
       "      <th>Fly_date</th>\n",
       "      <th>Origin_population</th>\n",
       "      <th>Destination_population</th>\n",
       "    </tr>\n",
       "  </thead>\n",
       "  <tbody>\n",
       "    <tr>\n",
       "      <th>7790</th>\n",
       "      <td>CMH</td>\n",
       "      <td>JFK</td>\n",
       "      <td>Columbus, OH</td>\n",
       "      <td>New York, NY</td>\n",
       "      <td>...</td>\n",
       "      <td>483</td>\n",
       "      <td>200909</td>\n",
       "      <td>1801848</td>\n",
       "      <td>38139592</td>\n",
       "    </tr>\n",
       "    <tr>\n",
       "      <th>7791</th>\n",
       "      <td>CMH</td>\n",
       "      <td>JFK</td>\n",
       "      <td>Columbus, OH</td>\n",
       "      <td>New York, NY</td>\n",
       "      <td>...</td>\n",
       "      <td>483</td>\n",
       "      <td>200909</td>\n",
       "      <td>1801848</td>\n",
       "      <td>38139592</td>\n",
       "    </tr>\n",
       "    <tr>\n",
       "      <th>7792</th>\n",
       "      <td>CMH</td>\n",
       "      <td>LGA</td>\n",
       "      <td>Columbus, OH</td>\n",
       "      <td>New York, NY</td>\n",
       "      <td>...</td>\n",
       "      <td>478</td>\n",
       "      <td>200909</td>\n",
       "      <td>1801848</td>\n",
       "      <td>38139592</td>\n",
       "    </tr>\n",
       "    <tr>\n",
       "      <th>7793</th>\n",
       "      <td>CMH</td>\n",
       "      <td>LGA</td>\n",
       "      <td>Columbus, OH</td>\n",
       "      <td>New York, NY</td>\n",
       "      <td>...</td>\n",
       "      <td>478</td>\n",
       "      <td>200909</td>\n",
       "      <td>1801848</td>\n",
       "      <td>38139592</td>\n",
       "    </tr>\n",
       "    <tr>\n",
       "      <th>7794</th>\n",
       "      <td>BDL</td>\n",
       "      <td>JFK</td>\n",
       "      <td>Hartford, CT</td>\n",
       "      <td>New York, NY</td>\n",
       "      <td>...</td>\n",
       "      <td>106</td>\n",
       "      <td>200909</td>\n",
       "      <td>1195998</td>\n",
       "      <td>38139592</td>\n",
       "    </tr>\n",
       "  </tbody>\n",
       "</table>\n",
       "<p>5 rows × 11 columns</p>\n",
       "</div>"
      ],
      "text/plain": [
       "     Origin_airport Destination_airport   Origin_city Destination_city  \\\n",
       "7790            CMH                 JFK  Columbus, OH     New York, NY   \n",
       "7791            CMH                 JFK  Columbus, OH     New York, NY   \n",
       "7792            CMH                 LGA  Columbus, OH     New York, NY   \n",
       "7793            CMH                 LGA  Columbus, OH     New York, NY   \n",
       "7794            BDL                 JFK  Hartford, CT     New York, NY   \n",
       "\n",
       "               ...            Distance  Fly_date  Origin_population  \\\n",
       "7790           ...                 483    200909            1801848   \n",
       "7791           ...                 483    200909            1801848   \n",
       "7792           ...                 478    200909            1801848   \n",
       "7793           ...                 478    200909            1801848   \n",
       "7794           ...                 106    200909            1195998   \n",
       "\n",
       "      Destination_population  \n",
       "7790                38139592  \n",
       "7791                38139592  \n",
       "7792                38139592  \n",
       "7793                38139592  \n",
       "7794                38139592  \n",
       "\n",
       "[5 rows x 11 columns]"
      ]
     },
     "execution_count": 14,
     "metadata": {},
     "output_type": "execute_result"
    }
   ],
   "source": [
    "ny_df.head()"
   ]
  },
  {
   "cell_type": "code",
   "execution_count": 15,
   "metadata": {},
   "outputs": [
    {
     "data": {
      "text/html": [
       "<div>\n",
       "<style scoped>\n",
       "    .dataframe tbody tr th:only-of-type {\n",
       "        vertical-align: middle;\n",
       "    }\n",
       "\n",
       "    .dataframe tbody tr th {\n",
       "        vertical-align: top;\n",
       "    }\n",
       "\n",
       "    .dataframe thead th {\n",
       "        text-align: right;\n",
       "    }\n",
       "</style>\n",
       "<table border=\"1\" class=\"dataframe\">\n",
       "  <thead>\n",
       "    <tr style=\"text-align: right;\">\n",
       "      <th></th>\n",
       "      <th>Origin_airport</th>\n",
       "      <th>Destination_airport</th>\n",
       "      <th>Origin_city</th>\n",
       "      <th>Destination_city</th>\n",
       "      <th>...</th>\n",
       "      <th>Distance</th>\n",
       "      <th>Fly_date</th>\n",
       "      <th>Origin_population</th>\n",
       "      <th>Destination_population</th>\n",
       "    </tr>\n",
       "  </thead>\n",
       "  <tbody>\n",
       "    <tr>\n",
       "      <th>5969</th>\n",
       "      <td>PBI</td>\n",
       "      <td>SFB</td>\n",
       "      <td>West Palm Beach, FL</td>\n",
       "      <td>Orlando, FL</td>\n",
       "      <td>...</td>\n",
       "      <td>160</td>\n",
       "      <td>200909</td>\n",
       "      <td>5547051</td>\n",
       "      <td>2082421</td>\n",
       "    </tr>\n",
       "    <tr>\n",
       "      <th>5970</th>\n",
       "      <td>FLL</td>\n",
       "      <td>MCO</td>\n",
       "      <td>Fort Lauderdale, FL</td>\n",
       "      <td>Orlando, FL</td>\n",
       "      <td>...</td>\n",
       "      <td>178</td>\n",
       "      <td>200909</td>\n",
       "      <td>5547051</td>\n",
       "      <td>2082421</td>\n",
       "    </tr>\n",
       "    <tr>\n",
       "      <th>5971</th>\n",
       "      <td>FLL</td>\n",
       "      <td>MCO</td>\n",
       "      <td>Fort Lauderdale, FL</td>\n",
       "      <td>Orlando, FL</td>\n",
       "      <td>...</td>\n",
       "      <td>178</td>\n",
       "      <td>200909</td>\n",
       "      <td>5547051</td>\n",
       "      <td>2082421</td>\n",
       "    </tr>\n",
       "    <tr>\n",
       "      <th>5972</th>\n",
       "      <td>FLL</td>\n",
       "      <td>MCO</td>\n",
       "      <td>Fort Lauderdale, FL</td>\n",
       "      <td>Orlando, FL</td>\n",
       "      <td>...</td>\n",
       "      <td>178</td>\n",
       "      <td>200909</td>\n",
       "      <td>5547051</td>\n",
       "      <td>2082421</td>\n",
       "    </tr>\n",
       "    <tr>\n",
       "      <th>5973</th>\n",
       "      <td>SLC</td>\n",
       "      <td>MCO</td>\n",
       "      <td>Salt Lake City, UT</td>\n",
       "      <td>Orlando, FL</td>\n",
       "      <td>...</td>\n",
       "      <td>1929</td>\n",
       "      <td>200909</td>\n",
       "      <td>1130293</td>\n",
       "      <td>2082421</td>\n",
       "    </tr>\n",
       "  </tbody>\n",
       "</table>\n",
       "<p>5 rows × 11 columns</p>\n",
       "</div>"
      ],
      "text/plain": [
       "     Origin_airport Destination_airport          Origin_city Destination_city  \\\n",
       "5969            PBI                 SFB  West Palm Beach, FL      Orlando, FL   \n",
       "5970            FLL                 MCO  Fort Lauderdale, FL      Orlando, FL   \n",
       "5971            FLL                 MCO  Fort Lauderdale, FL      Orlando, FL   \n",
       "5972            FLL                 MCO  Fort Lauderdale, FL      Orlando, FL   \n",
       "5973            SLC                 MCO   Salt Lake City, UT      Orlando, FL   \n",
       "\n",
       "               ...            Distance  Fly_date  Origin_population  \\\n",
       "5969           ...                 160    200909            5547051   \n",
       "5970           ...                 178    200909            5547051   \n",
       "5971           ...                 178    200909            5547051   \n",
       "5972           ...                 178    200909            5547051   \n",
       "5973           ...                1929    200909            1130293   \n",
       "\n",
       "      Destination_population  \n",
       "5969                 2082421  \n",
       "5970                 2082421  \n",
       "5971                 2082421  \n",
       "5972                 2082421  \n",
       "5973                 2082421  \n",
       "\n",
       "[5 rows x 11 columns]"
      ]
     },
     "execution_count": 15,
     "metadata": {},
     "output_type": "execute_result"
    }
   ],
   "source": [
    "orl_df.head()"
   ]
  },
  {
   "cell_type": "markdown",
   "metadata": {},
   "source": [
    "# DATA EXPLORATION"
   ]
  },
  {
   "cell_type": "code",
   "execution_count": 16,
   "metadata": {
    "scrolled": true
   },
   "outputs": [
    {
     "data": {
      "text/plain": [
       "San Francisco, CA    65\n",
       "Anchorage, AK        65\n",
       "Phoenix, AZ          62\n",
       "                     ..\n",
       "St. George, UT        1\n",
       "Little Rock, AR       1\n",
       "Pullman, WA           1\n",
       "Name: Origin_city, Length: 98, dtype: int64"
      ]
     },
     "execution_count": 16,
     "metadata": {},
     "output_type": "execute_result"
    }
   ],
   "source": [
    "la_df['Origin_city'].value_counts()"
   ]
  },
  {
   "cell_type": "code",
   "execution_count": 17,
   "metadata": {},
   "outputs": [
    {
     "data": {
      "text/plain": [
       "Portland, OR       50\n",
       "Spokane, WA        50\n",
       "Phoenix, AZ        47\n",
       "                   ..\n",
       "San Antonio, TX     1\n",
       "Eureka, CA          1\n",
       "El Paso, TX         1\n",
       "Name: Origin_city, Length: 90, dtype: int64"
      ]
     },
     "execution_count": 17,
     "metadata": {},
     "output_type": "execute_result"
    }
   ],
   "source": [
    "sea_df['Origin_city'].value_counts()"
   ]
  },
  {
   "cell_type": "code",
   "execution_count": 18,
   "metadata": {},
   "outputs": [
    {
     "data": {
      "text/plain": [
       "Detroit, MI       103\n",
       "Atlanta, GA       101\n",
       "Anchorage, AK      99\n",
       "                 ... \n",
       "Shreveport, LA      1\n",
       "Alexandria, LA      1\n",
       "Asheville, NC       1\n",
       "Name: Origin_city, Length: 142, dtype: int64"
      ]
     },
     "execution_count": 18,
     "metadata": {},
     "output_type": "execute_result"
    }
   ],
   "source": [
    "ch_df['Origin_city'].value_counts()"
   ]
  },
  {
   "cell_type": "code",
   "execution_count": 19,
   "metadata": {},
   "outputs": [
    {
     "data": {
      "text/plain": [
       "Chicago, IL        108\n",
       "Washington, DC     100\n",
       "Boston, MA          66\n",
       "                  ... \n",
       "Columbia, MO         1\n",
       "Albuquerque, NM      1\n",
       "El Paso, TX          1\n",
       "Name: Origin_city, Length: 93, dtype: int64"
      ]
     },
     "execution_count": 19,
     "metadata": {},
     "output_type": "execute_result"
    }
   ],
   "source": [
    "ny_df['Origin_city'].value_counts()"
   ]
  },
  {
   "cell_type": "code",
   "execution_count": 20,
   "metadata": {},
   "outputs": [
    {
     "data": {
      "text/plain": [
       "Washington, DC      55\n",
       "Philadelphia, PA    47\n",
       "Houston, TX         45\n",
       "                    ..\n",
       "Myrtle Beach, SC     1\n",
       "Savannah, GA         1\n",
       "Hattiesburg, MS      1\n",
       "Name: Origin_city, Length: 111, dtype: int64"
      ]
     },
     "execution_count": 20,
     "metadata": {},
     "output_type": "execute_result"
    }
   ],
   "source": [
    "orl_df['Origin_city'].value_counts()"
   ]
  },
  {
   "cell_type": "code",
   "execution_count": 35,
   "metadata": {},
   "outputs": [],
   "source": [
    "test_orl = orl_df['Origin_city'].value_counts()"
   ]
  },
  {
   "cell_type": "code",
   "execution_count": 36,
   "metadata": {},
   "outputs": [
    {
     "data": {
      "text/plain": [
       "55"
      ]
     },
     "execution_count": 36,
     "metadata": {},
     "output_type": "execute_result"
    }
   ],
   "source": [
    "test_orl[0]"
   ]
  },
  {
   "cell_type": "markdown",
   "metadata": {},
   "source": [
    "# DATA ANALYSIS IDEAS"
   ]
  },
  {
   "cell_type": "markdown",
   "metadata": {},
   "source": [
    "1. BAR CHART/HISTOGRAM FOR EACH CITY OVER 4 MONTHS\n",
    "2. BAR CHART/HISTOGRAM FOR EACH MONTH ACROSS 5 CITIES\n",
    "3. AVERAGE DISTANCE FOR EACH CITY AND OVERALL\n",
    "4. MODEL WHICH CITY LIKELY WENT TO IF COMING FROM X\n",
    "5. <b>RELATIONSHIP BETWEEN WEATHER FACTOR AND CHANGE IN BOOKED FLIGHTS</b>"
   ]
  },
  {
   "cell_type": "code",
   "execution_count": 82,
   "metadata": {},
   "outputs": [],
   "source": [
    "la_we = pd.read_csv(\"./WEATHERDATA/USEABLE DATA/LAX.csv\")\n",
    "sea_we= pd.read_csv(\"./WEATHERDATA/USEABLE DATA/SEA.csv\")\n",
    "chi_we= pd.read_csv(\"./WEATHERDATA/USEABLE DATA/CHI.csv\")\n",
    "nyc_we= pd.read_csv(\"./WEATHERDATA/USEABLE DATA/NYC.csv\")\n",
    "orl_we= pd.read_csv(\"./WEATHERDATA/USEABLE DATA/ORL.csv\")"
   ]
  },
  {
   "cell_type": "code",
   "execution_count": 83,
   "metadata": {},
   "outputs": [],
   "source": [
    "la_we = la_we.drop(columns = 'Unnamed: 0')\n",
    "sea_we = sea_we.drop(columns = 'Unnamed: 0')\n",
    "chi_we = chi_we.drop(columns = 'Unnamed: 0')\n",
    "nyc_we = nyc_we.drop(columns = 'Unnamed: 0')\n",
    "orl_we = orl_we.drop(columns = 'Unnamed: 0')"
   ]
  },
  {
   "cell_type": "code",
   "execution_count": 91,
   "metadata": {},
   "outputs": [],
   "source": [
    "chi_we = chi_we.drop(columns = 'Unnamed: 0.1')"
   ]
  },
  {
   "cell_type": "code",
   "execution_count": null,
   "metadata": {},
   "outputs": [],
   "source": [
    "nyc_we = nyc_we.drop(columns = 'Unnamed: 0.1')\n",
    "orl_we = orl_we.drop(columns = 'Unnamed: 0')"
   ]
  },
  {
   "cell_type": "code",
   "execution_count": 84,
   "metadata": {
    "scrolled": true
   },
   "outputs": [
    {
     "data": {
      "text/html": [
       "<div>\n",
       "<style scoped>\n",
       "    .dataframe tbody tr th:only-of-type {\n",
       "        vertical-align: middle;\n",
       "    }\n",
       "\n",
       "    .dataframe tbody tr th {\n",
       "        vertical-align: top;\n",
       "    }\n",
       "\n",
       "    .dataframe thead th {\n",
       "        text-align: right;\n",
       "    }\n",
       "</style>\n",
       "<table border=\"1\" class=\"dataframe\">\n",
       "  <thead>\n",
       "    <tr style=\"text-align: right;\">\n",
       "      <th></th>\n",
       "      <th>Origin_airport</th>\n",
       "      <th>Destination_airport</th>\n",
       "      <th>Origin_city</th>\n",
       "      <th>Destination_city</th>\n",
       "      <th>...</th>\n",
       "      <th>Distance</th>\n",
       "      <th>Fly_date</th>\n",
       "      <th>Origin_population</th>\n",
       "      <th>Destination_population</th>\n",
       "    </tr>\n",
       "  </thead>\n",
       "  <tbody>\n",
       "    <tr>\n",
       "      <th>13678</th>\n",
       "      <td>BOS</td>\n",
       "      <td>LAX</td>\n",
       "      <td>Boston, MA</td>\n",
       "      <td>Los Angeles, CA</td>\n",
       "      <td>...</td>\n",
       "      <td>2611</td>\n",
       "      <td>200909</td>\n",
       "      <td>9177360</td>\n",
       "      <td>25749594</td>\n",
       "    </tr>\n",
       "    <tr>\n",
       "      <th>13679</th>\n",
       "      <td>BOS</td>\n",
       "      <td>LAX</td>\n",
       "      <td>Boston, MA</td>\n",
       "      <td>Los Angeles, CA</td>\n",
       "      <td>...</td>\n",
       "      <td>2611</td>\n",
       "      <td>200909</td>\n",
       "      <td>9177360</td>\n",
       "      <td>25749594</td>\n",
       "    </tr>\n",
       "    <tr>\n",
       "      <th>13680</th>\n",
       "      <td>BOS</td>\n",
       "      <td>LAX</td>\n",
       "      <td>Boston, MA</td>\n",
       "      <td>Los Angeles, CA</td>\n",
       "      <td>...</td>\n",
       "      <td>2611</td>\n",
       "      <td>200909</td>\n",
       "      <td>9177360</td>\n",
       "      <td>25749594</td>\n",
       "    </tr>\n",
       "    <tr>\n",
       "      <th>13681</th>\n",
       "      <td>BOS</td>\n",
       "      <td>LAX</td>\n",
       "      <td>Boston, MA</td>\n",
       "      <td>Los Angeles, CA</td>\n",
       "      <td>...</td>\n",
       "      <td>2611</td>\n",
       "      <td>200909</td>\n",
       "      <td>9177360</td>\n",
       "      <td>25749594</td>\n",
       "    </tr>\n",
       "    <tr>\n",
       "      <th>13682</th>\n",
       "      <td>BOS</td>\n",
       "      <td>LAX</td>\n",
       "      <td>Boston, MA</td>\n",
       "      <td>Los Angeles, CA</td>\n",
       "      <td>...</td>\n",
       "      <td>2611</td>\n",
       "      <td>200909</td>\n",
       "      <td>9177360</td>\n",
       "      <td>25749594</td>\n",
       "    </tr>\n",
       "  </tbody>\n",
       "</table>\n",
       "<p>5 rows × 11 columns</p>\n",
       "</div>"
      ],
      "text/plain": [
       "      Origin_airport Destination_airport Origin_city Destination_city  \\\n",
       "13678            BOS                 LAX  Boston, MA  Los Angeles, CA   \n",
       "13679            BOS                 LAX  Boston, MA  Los Angeles, CA   \n",
       "13680            BOS                 LAX  Boston, MA  Los Angeles, CA   \n",
       "13681            BOS                 LAX  Boston, MA  Los Angeles, CA   \n",
       "13682            BOS                 LAX  Boston, MA  Los Angeles, CA   \n",
       "\n",
       "                ...            Distance  Fly_date  Origin_population  \\\n",
       "13678           ...                2611    200909            9177360   \n",
       "13679           ...                2611    200909            9177360   \n",
       "13680           ...                2611    200909            9177360   \n",
       "13681           ...                2611    200909            9177360   \n",
       "13682           ...                2611    200909            9177360   \n",
       "\n",
       "       Destination_population  \n",
       "13678                25749594  \n",
       "13679                25749594  \n",
       "13680                25749594  \n",
       "13681                25749594  \n",
       "13682                25749594  \n",
       "\n",
       "[5 rows x 11 columns]"
      ]
     },
     "execution_count": 84,
     "metadata": {},
     "output_type": "execute_result"
    }
   ],
   "source": [
    "la_df.head()"
   ]
  },
  {
   "cell_type": "code",
   "execution_count": 38,
   "metadata": {},
   "outputs": [
    {
     "data": {
      "text/plain": [
       "200912    436\n",
       "200911    390\n",
       "200910    382\n",
       "200909    354\n",
       "Name: Fly_date, dtype: int64"
      ]
     },
     "execution_count": 38,
     "metadata": {},
     "output_type": "execute_result"
    }
   ],
   "source": [
    "la_df['Fly_date'].value_counts()"
   ]
  },
  {
   "cell_type": "code",
   "execution_count": 55,
   "metadata": {},
   "outputs": [],
   "source": [
    "la_fly_date = la_df['Fly_date'].value_counts()[0:4]"
   ]
  },
  {
   "cell_type": "code",
   "execution_count": 56,
   "metadata": {},
   "outputs": [
    {
     "data": {
      "text/plain": [
       "200912    436\n",
       "200911    390\n",
       "200910    382\n",
       "200909    354\n",
       "Name: Fly_date, dtype: int64"
      ]
     },
     "execution_count": 56,
     "metadata": {},
     "output_type": "execute_result"
    }
   ],
   "source": [
    "la_fly_date"
   ]
  },
  {
   "cell_type": "code",
   "execution_count": 45,
   "metadata": {},
   "outputs": [],
   "source": [
    "fly_dates = (la_df['Fly_date'].unique())"
   ]
  },
  {
   "cell_type": "code",
   "execution_count": 46,
   "metadata": {},
   "outputs": [
    {
     "data": {
      "text/plain": [
       "array([200909, 200910, 200911, 200912])"
      ]
     },
     "execution_count": 46,
     "metadata": {},
     "output_type": "execute_result"
    }
   ],
   "source": [
    "fly_dates"
   ]
  },
  {
   "cell_type": "code",
   "execution_count": 57,
   "metadata": {},
   "outputs": [
    {
     "data": {
      "image/png": "[encoded data removed]",
      "text/plain": [
       "<Figure size 1224x504 with 1 Axes>"
      ]
     },
     "metadata": {},
     "output_type": "display_data"
    }
   ],
   "source": [
    "objects = (la_df['Fly_date'].unique())\n",
    "y_pos = np.arange(len(objects))\n",
    "performance = la_df['Fly_date'].value_counts()[0:4]\n",
    "\n",
    "plt.bar(y_pos, performance, align='center', alpha=0.5)\n",
    "plt.xticks(y_pos, objects)\n",
    "plt.ylabel('Flights made')\n",
    "plt.title('Months')\n",
    "\n",
    "plt.show()"
   ]
  },
  {
   "cell_type": "code",
   "execution_count": 85,
   "metadata": {
    "scrolled": true
   },
   "outputs": [
    {
     "data": {
      "text/plain": [
       "<matplotlib.axes._subplots.AxesSubplot at 0x1a265bdc88>"
      ]
     },
     "execution_count": 85,
     "metadata": {},
     "output_type": "execute_result"
    },
    {
     "data": {
      "image/png": "[encoded data removed]",
      "text/plain": [
       "<Figure size 1224x504 with 1 Axes>"
      ]
     },
     "metadata": {},
     "output_type": "display_data"
    }
   ],
   "source": [
    "la_we.plot.line()"
   ]
  },
  {
   "cell_type": "code",
   "execution_count": 86,
   "metadata": {},
   "outputs": [
    {
     "data": {
      "text/plain": [
       "<matplotlib.axes._subplots.AxesSubplot at 0x1a267d3978>"
      ]
     },
     "execution_count": 86,
     "metadata": {},
     "output_type": "execute_result"
    },
    {
     "data": {
      "image/png": "[encoded data removed]",
      "text/plain": [
       "<Figure size 1224x504 with 1 Axes>"
      ]
     },
     "metadata": {},
     "output_type": "display_data"
    }
   ],
   "source": [
    "sea_we.plot.line()"
   ]
  },
  {
   "cell_type": "code",
   "execution_count": 87,
   "metadata": {},
   "outputs": [
    {
     "data": {
      "text/plain": [
       "<matplotlib.axes._subplots.AxesSubplot at 0x1a269e0978>"
      ]
     },
     "execution_count": 87,
     "metadata": {},
     "output_type": "execute_result"
    },
    {
     "data": {
      "image/png": "[encoded data removed]",
      "text/plain": [
       "<Figure size 1224x504 with 1 Axes>"
      ]
     },
     "metadata": {},
     "output_type": "display_data"
    }
   ],
   "source": [
    "chi_we.plot.line()"
   ]
  },
  {
   "cell_type": "code",
   "execution_count": 88,
   "metadata": {},
   "outputs": [
    {
     "data": {
      "text/plain": [
       "<matplotlib.axes._subplots.AxesSubplot at 0x1a25bad198>"
      ]
     },
     "execution_count": 88,
     "metadata": {},
     "output_type": "execute_result"
    },
    {
     "data": {
      "image/png": "[encoded data removed]",
      "text/plain": [
       "<Figure size 1224x504 with 1 Axes>"
      ]
     },
     "metadata": {},
     "output_type": "display_data"
    }
   ],
   "source": [
    "nyc_we.plot.line()"
   ]
  },
  {
   "cell_type": "code",
   "execution_count": 89,
   "metadata": {},
   "outputs": [
    {
     "data": {
      "text/plain": [
       "<matplotlib.axes._subplots.AxesSubplot at 0x1a24de4470>"
      ]
     },
     "execution_count": 89,
     "metadata": {},
     "output_type": "execute_result"
    },
    {
     "data": {
      "image/png": "[encoded data removed]",
      "text/plain": [
       "<Figure size 1224x504 with 1 Axes>"
      ]
     },
     "metadata": {},
     "output_type": "display_data"
    }
   ],
   "source": [
    "orl_we.plot.line()"
   ]
  },
  {
   "cell_type": "code",
   "execution_count": null,
   "metadata": {},
   "outputs": [],
   "source": []
  }
 ],
 "metadata": {
  "kernelspec": {
   "display_name": "Python 3",
   "language": "python",
   "name": "python3"
  },
  "language_info": {
   "codemirror_mode": {
    "name": "ipython",
    "version": 3
   },
   "file_extension": ".py",
   "mimetype": "text/x-python",
   "name": "python",
   "nbconvert_exporter": "python",
   "pygments_lexer": "ipython3",
   "version": "3.7.1"
  }
 },
 "nbformat": 4,
 "nbformat_minor": 2
}
