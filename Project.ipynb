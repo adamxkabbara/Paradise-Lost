{
 "cells": [
  {
   "cell_type": "code",
   "execution_count": 271,
   "metadata": {},
   "outputs": [],
   "source": [
    "# Imports used the the project\n",
    "\n",
    "# Display plots directly in the notebook instead of in a new window\n",
    "%matplotlib inline\n",
    "\n",
    "# Import libraries\n",
    "import numpy as np\n",
    "import pandas as pd\n",
    "import matplotlib.pyplot as plt\n",
    "import seaborn as sns\n",
    "import patsy\n",
    "import statsmodels.api as sm\n",
    "\n",
    "from scipy.stats import pearsonr, norm, ttest_ind"
   ]
  },
  {
   "cell_type": "code",
   "execution_count": 2,
   "metadata": {},
   "outputs": [],
   "source": [
    "# Configure libraries\n",
    "# The seaborn library makes plots look nicer\n",
    "sns.set()\n",
    "sns.set_context('talk')\n",
    "\n",
    "# Don't display too many rows/cols of DataFrames\n",
    "pd.options.display.max_rows = 7\n",
    "pd.options.display.max_columns = 8\n",
    "\n",
    "# Round decimals when displaying DataFrames\n",
    "pd.set_option('precision', 2)"
   ]
  },
  {
   "cell_type": "markdown",
   "metadata": {},
   "source": [
    "# Data Wrangling"
   ]
  },
  {
   "cell_type": "code",
   "execution_count": 3,
   "metadata": {},
   "outputs": [],
   "source": [
    "df_airports = pd.read_csv(\"Airports.csv\")"
   ]
  },
  {
   "cell_type": "code",
   "execution_count": 4,
   "metadata": {},
   "outputs": [
    {
     "name": "stdout",
     "output_type": "stream",
     "text": [
      "<class 'numpy.int64'>\n"
     ]
    }
   ],
   "source": [
    "print(type(df_airports[\"Fly_date\"][0]))"
   ]
  },
  {
   "cell_type": "code",
   "execution_count": 5,
   "metadata": {},
   "outputs": [],
   "source": [
    "df_09 = df_airports[df_airports[\"Fly_date\"]==200909]\n",
    "df_10 = df_airports[df_airports[\"Fly_date\"]==200910]\n",
    "df_11 = df_airports[df_airports[\"Fly_date\"]==200911]\n",
    "df_12 = df_airports[df_airports[\"Fly_date\"]==200912]\n",
    "\n",
    "all_years_df = pd.concat([df_09, df_10, df_11, df_12], axis=0, ignore_index=True, sort=False)"
   ]
  },
  {
   "cell_type": "code",
   "execution_count": 6,
   "metadata": {},
   "outputs": [
    {
     "data": {
      "text/html": [
       "<div>\n",
       "<style scoped>\n",
       "    .dataframe tbody tr th:only-of-type {\n",
       "        vertical-align: middle;\n",
       "    }\n",
       "\n",
       "    .dataframe tbody tr th {\n",
       "        vertical-align: top;\n",
       "    }\n",
       "\n",
       "    .dataframe thead th {\n",
       "        text-align: right;\n",
       "    }\n",
       "</style>\n",
       "<table border=\"1\" class=\"dataframe\">\n",
       "  <thead>\n",
       "    <tr style=\"text-align: right;\">\n",
       "      <th></th>\n",
       "      <th>Origin_airport</th>\n",
       "      <th>Destination_airport</th>\n",
       "      <th>Origin_city</th>\n",
       "      <th>Destination_city</th>\n",
       "      <th>...</th>\n",
       "      <th>Distance</th>\n",
       "      <th>Fly_date</th>\n",
       "      <th>Origin_population</th>\n",
       "      <th>Destination_population</th>\n",
       "    </tr>\n",
       "  </thead>\n",
       "  <tbody>\n",
       "    <tr>\n",
       "      <th>13678</th>\n",
       "      <td>BOS</td>\n",
       "      <td>LAX</td>\n",
       "      <td>Boston, MA</td>\n",
       "      <td>Los Angeles, CA</td>\n",
       "      <td>...</td>\n",
       "      <td>2611</td>\n",
       "      <td>200909</td>\n",
       "      <td>9177360</td>\n",
       "      <td>25749594</td>\n",
       "    </tr>\n",
       "    <tr>\n",
       "      <th>13679</th>\n",
       "      <td>BOS</td>\n",
       "      <td>LAX</td>\n",
       "      <td>Boston, MA</td>\n",
       "      <td>Los Angeles, CA</td>\n",
       "      <td>...</td>\n",
       "      <td>2611</td>\n",
       "      <td>200909</td>\n",
       "      <td>9177360</td>\n",
       "      <td>25749594</td>\n",
       "    </tr>\n",
       "    <tr>\n",
       "      <th>13680</th>\n",
       "      <td>BOS</td>\n",
       "      <td>LAX</td>\n",
       "      <td>Boston, MA</td>\n",
       "      <td>Los Angeles, CA</td>\n",
       "      <td>...</td>\n",
       "      <td>2611</td>\n",
       "      <td>200909</td>\n",
       "      <td>9177360</td>\n",
       "      <td>25749594</td>\n",
       "    </tr>\n",
       "    <tr>\n",
       "      <th>...</th>\n",
       "      <td>...</td>\n",
       "      <td>...</td>\n",
       "      <td>...</td>\n",
       "      <td>...</td>\n",
       "      <td>...</td>\n",
       "      <td>...</td>\n",
       "      <td>...</td>\n",
       "      <td>...</td>\n",
       "      <td>...</td>\n",
       "    </tr>\n",
       "    <tr>\n",
       "      <th>67042</th>\n",
       "      <td>MSP</td>\n",
       "      <td>LAX</td>\n",
       "      <td>Minneapolis, MN</td>\n",
       "      <td>Los Angeles, CA</td>\n",
       "      <td>...</td>\n",
       "      <td>1536</td>\n",
       "      <td>200912</td>\n",
       "      <td>3269814</td>\n",
       "      <td>25749594</td>\n",
       "    </tr>\n",
       "    <tr>\n",
       "      <th>67043</th>\n",
       "      <td>MSP</td>\n",
       "      <td>LAX</td>\n",
       "      <td>Minneapolis, MN</td>\n",
       "      <td>Los Angeles, CA</td>\n",
       "      <td>...</td>\n",
       "      <td>1536</td>\n",
       "      <td>200912</td>\n",
       "      <td>3269814</td>\n",
       "      <td>25749594</td>\n",
       "    </tr>\n",
       "    <tr>\n",
       "      <th>67044</th>\n",
       "      <td>LAX</td>\n",
       "      <td>LAX</td>\n",
       "      <td>Los Angeles, CA</td>\n",
       "      <td>Los Angeles, CA</td>\n",
       "      <td>...</td>\n",
       "      <td>0</td>\n",
       "      <td>200912</td>\n",
       "      <td>25749594</td>\n",
       "      <td>25749594</td>\n",
       "    </tr>\n",
       "  </tbody>\n",
       "</table>\n",
       "<p>1562 rows × 11 columns</p>\n",
       "</div>"
      ],
      "text/plain": [
       "      Origin_airport Destination_airport      Origin_city Destination_city  \\\n",
       "13678            BOS                 LAX       Boston, MA  Los Angeles, CA   \n",
       "13679            BOS                 LAX       Boston, MA  Los Angeles, CA   \n",
       "13680            BOS                 LAX       Boston, MA  Los Angeles, CA   \n",
       "...              ...                 ...              ...              ...   \n",
       "67042            MSP                 LAX  Minneapolis, MN  Los Angeles, CA   \n",
       "67043            MSP                 LAX  Minneapolis, MN  Los Angeles, CA   \n",
       "67044            LAX                 LAX  Los Angeles, CA  Los Angeles, CA   \n",
       "\n",
       "                ...            Distance  Fly_date  Origin_population  \\\n",
       "13678           ...                2611    200909            9177360   \n",
       "13679           ...                2611    200909            9177360   \n",
       "13680           ...                2611    200909            9177360   \n",
       "...             ...                 ...       ...                ...   \n",
       "67042           ...                1536    200912            3269814   \n",
       "67043           ...                1536    200912            3269814   \n",
       "67044           ...                   0    200912           25749594   \n",
       "\n",
       "       Destination_population  \n",
       "13678                25749594  \n",
       "13679                25749594  \n",
       "13680                25749594  \n",
       "...                       ...  \n",
       "67042                25749594  \n",
       "67043                25749594  \n",
       "67044                25749594  \n",
       "\n",
       "[1562 rows x 11 columns]"
      ]
     },
     "execution_count": 6,
     "metadata": {},
     "output_type": "execute_result"
    }
   ],
   "source": [
    "la_df = all_years_df[all_years_df[\"Destination_city\"] == \"Los Angeles, CA\"]\n",
    "la_df"
   ]
  },
  {
   "cell_type": "code",
   "execution_count": 7,
   "metadata": {},
   "outputs": [
    {
     "data": {
      "text/html": [
       "<div>\n",
       "<style scoped>\n",
       "    .dataframe tbody tr th:only-of-type {\n",
       "        vertical-align: middle;\n",
       "    }\n",
       "\n",
       "    .dataframe tbody tr th {\n",
       "        vertical-align: top;\n",
       "    }\n",
       "\n",
       "    .dataframe thead th {\n",
       "        text-align: right;\n",
       "    }\n",
       "</style>\n",
       "<table border=\"1\" class=\"dataframe\">\n",
       "  <thead>\n",
       "    <tr style=\"text-align: right;\">\n",
       "      <th></th>\n",
       "      <th>Origin_airport</th>\n",
       "      <th>Destination_airport</th>\n",
       "      <th>Origin_city</th>\n",
       "      <th>Destination_city</th>\n",
       "      <th>...</th>\n",
       "      <th>Distance</th>\n",
       "      <th>Fly_date</th>\n",
       "      <th>Origin_population</th>\n",
       "      <th>Destination_population</th>\n",
       "    </tr>\n",
       "  </thead>\n",
       "  <tbody>\n",
       "    <tr>\n",
       "      <th>7790</th>\n",
       "      <td>CMH</td>\n",
       "      <td>JFK</td>\n",
       "      <td>Columbus, OH</td>\n",
       "      <td>New York, NY</td>\n",
       "      <td>...</td>\n",
       "      <td>483</td>\n",
       "      <td>200909</td>\n",
       "      <td>1801848</td>\n",
       "      <td>38139592</td>\n",
       "    </tr>\n",
       "    <tr>\n",
       "      <th>7791</th>\n",
       "      <td>CMH</td>\n",
       "      <td>JFK</td>\n",
       "      <td>Columbus, OH</td>\n",
       "      <td>New York, NY</td>\n",
       "      <td>...</td>\n",
       "      <td>483</td>\n",
       "      <td>200909</td>\n",
       "      <td>1801848</td>\n",
       "      <td>38139592</td>\n",
       "    </tr>\n",
       "    <tr>\n",
       "      <th>7792</th>\n",
       "      <td>CMH</td>\n",
       "      <td>LGA</td>\n",
       "      <td>Columbus, OH</td>\n",
       "      <td>New York, NY</td>\n",
       "      <td>...</td>\n",
       "      <td>478</td>\n",
       "      <td>200909</td>\n",
       "      <td>1801848</td>\n",
       "      <td>38139592</td>\n",
       "    </tr>\n",
       "    <tr>\n",
       "      <th>...</th>\n",
       "      <td>...</td>\n",
       "      <td>...</td>\n",
       "      <td>...</td>\n",
       "      <td>...</td>\n",
       "      <td>...</td>\n",
       "      <td>...</td>\n",
       "      <td>...</td>\n",
       "      <td>...</td>\n",
       "      <td>...</td>\n",
       "    </tr>\n",
       "    <tr>\n",
       "      <th>60557</th>\n",
       "      <td>PIT</td>\n",
       "      <td>LGA</td>\n",
       "      <td>Pittsburgh, PA</td>\n",
       "      <td>New York, NY</td>\n",
       "      <td>...</td>\n",
       "      <td>335</td>\n",
       "      <td>200912</td>\n",
       "      <td>2354957</td>\n",
       "      <td>38139592</td>\n",
       "    </tr>\n",
       "    <tr>\n",
       "      <th>60558</th>\n",
       "      <td>PIT</td>\n",
       "      <td>JFK</td>\n",
       "      <td>Pittsburgh, PA</td>\n",
       "      <td>New York, NY</td>\n",
       "      <td>...</td>\n",
       "      <td>340</td>\n",
       "      <td>200912</td>\n",
       "      <td>2354957</td>\n",
       "      <td>38139592</td>\n",
       "    </tr>\n",
       "    <tr>\n",
       "      <th>60559</th>\n",
       "      <td>PVD</td>\n",
       "      <td>LGA</td>\n",
       "      <td>Providence, RI</td>\n",
       "      <td>New York, NY</td>\n",
       "      <td>...</td>\n",
       "      <td>143</td>\n",
       "      <td>200912</td>\n",
       "      <td>1600642</td>\n",
       "      <td>38139592</td>\n",
       "    </tr>\n",
       "  </tbody>\n",
       "</table>\n",
       "<p>1981 rows × 11 columns</p>\n",
       "</div>"
      ],
      "text/plain": [
       "      Origin_airport Destination_airport     Origin_city Destination_city  \\\n",
       "7790             CMH                 JFK    Columbus, OH     New York, NY   \n",
       "7791             CMH                 JFK    Columbus, OH     New York, NY   \n",
       "7792             CMH                 LGA    Columbus, OH     New York, NY   \n",
       "...              ...                 ...             ...              ...   \n",
       "60557            PIT                 LGA  Pittsburgh, PA     New York, NY   \n",
       "60558            PIT                 JFK  Pittsburgh, PA     New York, NY   \n",
       "60559            PVD                 LGA  Providence, RI     New York, NY   \n",
       "\n",
       "                ...            Distance  Fly_date  Origin_population  \\\n",
       "7790            ...                 483    200909            1801848   \n",
       "7791            ...                 483    200909            1801848   \n",
       "7792            ...                 478    200909            1801848   \n",
       "...             ...                 ...       ...                ...   \n",
       "60557           ...                 335    200912            2354957   \n",
       "60558           ...                 340    200912            2354957   \n",
       "60559           ...                 143    200912            1600642   \n",
       "\n",
       "       Destination_population  \n",
       "7790                 38139592  \n",
       "7791                 38139592  \n",
       "7792                 38139592  \n",
       "...                       ...  \n",
       "60557                38139592  \n",
       "60558                38139592  \n",
       "60559                38139592  \n",
       "\n",
       "[1981 rows x 11 columns]"
      ]
     },
     "execution_count": 7,
     "metadata": {},
     "output_type": "execute_result"
    }
   ],
   "source": [
    "ny_df = all_years_df[all_years_df[\"Destination_city\"] == \"New York, NY\"]\n",
    "ny_df"
   ]
  },
  {
   "cell_type": "markdown",
   "metadata": {},
   "source": [
    "Los Angeles"
   ]
  },
  {
   "cell_type": "code",
   "execution_count": 8,
   "metadata": {},
   "outputs": [
    {
     "data": {
      "text/html": [
       "<div>\n",
       "<style scoped>\n",
       "    .dataframe tbody tr th:only-of-type {\n",
       "        vertical-align: middle;\n",
       "    }\n",
       "\n",
       "    .dataframe tbody tr th {\n",
       "        vertical-align: top;\n",
       "    }\n",
       "\n",
       "    .dataframe thead th {\n",
       "        text-align: right;\n",
       "    }\n",
       "</style>\n",
       "<table border=\"1\" class=\"dataframe\">\n",
       "  <thead>\n",
       "    <tr style=\"text-align: right;\">\n",
       "      <th></th>\n",
       "      <th>Origin_airport</th>\n",
       "      <th>Destination_airport</th>\n",
       "      <th>Origin_city</th>\n",
       "      <th>Destination_city</th>\n",
       "      <th>...</th>\n",
       "      <th>Distance</th>\n",
       "      <th>Fly_date</th>\n",
       "      <th>Origin_population</th>\n",
       "      <th>Destination_population</th>\n",
       "    </tr>\n",
       "  </thead>\n",
       "  <tbody>\n",
       "    <tr>\n",
       "      <th>3227</th>\n",
       "      <td>MCI</td>\n",
       "      <td>MDW</td>\n",
       "      <td>Kansas City, MO</td>\n",
       "      <td>Chicago, IL</td>\n",
       "      <td>...</td>\n",
       "      <td>405</td>\n",
       "      <td>200909</td>\n",
       "      <td>2067585</td>\n",
       "      <td>19161134</td>\n",
       "    </tr>\n",
       "    <tr>\n",
       "      <th>3228</th>\n",
       "      <td>DCA</td>\n",
       "      <td>ORD</td>\n",
       "      <td>Washington, DC</td>\n",
       "      <td>Chicago, IL</td>\n",
       "      <td>...</td>\n",
       "      <td>612</td>\n",
       "      <td>200909</td>\n",
       "      <td>10952482</td>\n",
       "      <td>19161134</td>\n",
       "    </tr>\n",
       "    <tr>\n",
       "      <th>3229</th>\n",
       "      <td>DCA</td>\n",
       "      <td>ORD</td>\n",
       "      <td>Washington, DC</td>\n",
       "      <td>Chicago, IL</td>\n",
       "      <td>...</td>\n",
       "      <td>612</td>\n",
       "      <td>200909</td>\n",
       "      <td>10952482</td>\n",
       "      <td>19161134</td>\n",
       "    </tr>\n",
       "    <tr>\n",
       "      <th>...</th>\n",
       "      <td>...</td>\n",
       "      <td>...</td>\n",
       "      <td>...</td>\n",
       "      <td>...</td>\n",
       "      <td>...</td>\n",
       "      <td>...</td>\n",
       "      <td>...</td>\n",
       "      <td>...</td>\n",
       "      <td>...</td>\n",
       "    </tr>\n",
       "    <tr>\n",
       "      <th>55862</th>\n",
       "      <td>SFO</td>\n",
       "      <td>ORD</td>\n",
       "      <td>San Francisco, CA</td>\n",
       "      <td>Chicago, IL</td>\n",
       "      <td>...</td>\n",
       "      <td>1846</td>\n",
       "      <td>200912</td>\n",
       "      <td>8635706</td>\n",
       "      <td>19161134</td>\n",
       "    </tr>\n",
       "    <tr>\n",
       "      <th>55863</th>\n",
       "      <td>SFO</td>\n",
       "      <td>ORD</td>\n",
       "      <td>San Francisco, CA</td>\n",
       "      <td>Chicago, IL</td>\n",
       "      <td>...</td>\n",
       "      <td>1846</td>\n",
       "      <td>200912</td>\n",
       "      <td>8635706</td>\n",
       "      <td>19161134</td>\n",
       "    </tr>\n",
       "    <tr>\n",
       "      <th>55864</th>\n",
       "      <td>IND</td>\n",
       "      <td>MDW</td>\n",
       "      <td>Indianapolis, IN</td>\n",
       "      <td>Chicago, IL</td>\n",
       "      <td>...</td>\n",
       "      <td>162</td>\n",
       "      <td>200912</td>\n",
       "      <td>1743658</td>\n",
       "      <td>19161134</td>\n",
       "    </tr>\n",
       "  </tbody>\n",
       "</table>\n",
       "<p>3540 rows × 11 columns</p>\n",
       "</div>"
      ],
      "text/plain": [
       "      Origin_airport Destination_airport        Origin_city Destination_city  \\\n",
       "3227             MCI                 MDW    Kansas City, MO      Chicago, IL   \n",
       "3228             DCA                 ORD     Washington, DC      Chicago, IL   \n",
       "3229             DCA                 ORD     Washington, DC      Chicago, IL   \n",
       "...              ...                 ...                ...              ...   \n",
       "55862            SFO                 ORD  San Francisco, CA      Chicago, IL   \n",
       "55863            SFO                 ORD  San Francisco, CA      Chicago, IL   \n",
       "55864            IND                 MDW   Indianapolis, IN      Chicago, IL   \n",
       "\n",
       "                ...            Distance  Fly_date  Origin_population  \\\n",
       "3227            ...                 405    200909            2067585   \n",
       "3228            ...                 612    200909           10952482   \n",
       "3229            ...                 612    200909           10952482   \n",
       "...             ...                 ...       ...                ...   \n",
       "55862           ...                1846    200912            8635706   \n",
       "55863           ...                1846    200912            8635706   \n",
       "55864           ...                 162    200912            1743658   \n",
       "\n",
       "       Destination_population  \n",
       "3227                 19161134  \n",
       "3228                 19161134  \n",
       "3229                 19161134  \n",
       "...                       ...  \n",
       "55862                19161134  \n",
       "55863                19161134  \n",
       "55864                19161134  \n",
       "\n",
       "[3540 rows x 11 columns]"
      ]
     },
     "execution_count": 8,
     "metadata": {},
     "output_type": "execute_result"
    }
   ],
   "source": [
    "ch_df = all_years_df[all_years_df[\"Destination_city\"] == \"Chicago, IL\"]\n",
    "ch_df"
   ]
  },
  {
   "cell_type": "code",
   "execution_count": 9,
   "metadata": {},
   "outputs": [
    {
     "data": {
      "text/html": [
       "<div>\n",
       "<style scoped>\n",
       "    .dataframe tbody tr th:only-of-type {\n",
       "        vertical-align: middle;\n",
       "    }\n",
       "\n",
       "    .dataframe tbody tr th {\n",
       "        vertical-align: top;\n",
       "    }\n",
       "\n",
       "    .dataframe thead th {\n",
       "        text-align: right;\n",
       "    }\n",
       "</style>\n",
       "<table border=\"1\" class=\"dataframe\">\n",
       "  <thead>\n",
       "    <tr style=\"text-align: right;\">\n",
       "      <th></th>\n",
       "      <th>Origin_airport</th>\n",
       "      <th>Destination_airport</th>\n",
       "      <th>Origin_city</th>\n",
       "      <th>Destination_city</th>\n",
       "      <th>...</th>\n",
       "      <th>Distance</th>\n",
       "      <th>Fly_date</th>\n",
       "      <th>Origin_population</th>\n",
       "      <th>Destination_population</th>\n",
       "    </tr>\n",
       "  </thead>\n",
       "  <tbody>\n",
       "    <tr>\n",
       "      <th>5969</th>\n",
       "      <td>PBI</td>\n",
       "      <td>SFB</td>\n",
       "      <td>West Palm Beach, FL</td>\n",
       "      <td>Orlando, FL</td>\n",
       "      <td>...</td>\n",
       "      <td>160</td>\n",
       "      <td>200909</td>\n",
       "      <td>5547051</td>\n",
       "      <td>2082421</td>\n",
       "    </tr>\n",
       "    <tr>\n",
       "      <th>5970</th>\n",
       "      <td>FLL</td>\n",
       "      <td>MCO</td>\n",
       "      <td>Fort Lauderdale, FL</td>\n",
       "      <td>Orlando, FL</td>\n",
       "      <td>...</td>\n",
       "      <td>178</td>\n",
       "      <td>200909</td>\n",
       "      <td>5547051</td>\n",
       "      <td>2082421</td>\n",
       "    </tr>\n",
       "    <tr>\n",
       "      <th>5971</th>\n",
       "      <td>FLL</td>\n",
       "      <td>MCO</td>\n",
       "      <td>Fort Lauderdale, FL</td>\n",
       "      <td>Orlando, FL</td>\n",
       "      <td>...</td>\n",
       "      <td>178</td>\n",
       "      <td>200909</td>\n",
       "      <td>5547051</td>\n",
       "      <td>2082421</td>\n",
       "    </tr>\n",
       "    <tr>\n",
       "      <th>...</th>\n",
       "      <td>...</td>\n",
       "      <td>...</td>\n",
       "      <td>...</td>\n",
       "      <td>...</td>\n",
       "      <td>...</td>\n",
       "      <td>...</td>\n",
       "      <td>...</td>\n",
       "      <td>...</td>\n",
       "      <td>...</td>\n",
       "    </tr>\n",
       "    <tr>\n",
       "      <th>58300</th>\n",
       "      <td>CLT</td>\n",
       "      <td>MCO</td>\n",
       "      <td>Charlotte, NC</td>\n",
       "      <td>Orlando, FL</td>\n",
       "      <td>...</td>\n",
       "      <td>468</td>\n",
       "      <td>200912</td>\n",
       "      <td>1745524</td>\n",
       "      <td>2082421</td>\n",
       "    </tr>\n",
       "    <tr>\n",
       "      <th>58301</th>\n",
       "      <td>CLT</td>\n",
       "      <td>MCO</td>\n",
       "      <td>Charlotte, NC</td>\n",
       "      <td>Orlando, FL</td>\n",
       "      <td>...</td>\n",
       "      <td>468</td>\n",
       "      <td>200912</td>\n",
       "      <td>1745524</td>\n",
       "      <td>2082421</td>\n",
       "    </tr>\n",
       "    <tr>\n",
       "      <th>58302</th>\n",
       "      <td>CLT</td>\n",
       "      <td>MCO</td>\n",
       "      <td>Charlotte, NC</td>\n",
       "      <td>Orlando, FL</td>\n",
       "      <td>...</td>\n",
       "      <td>468</td>\n",
       "      <td>200912</td>\n",
       "      <td>1745524</td>\n",
       "      <td>2082421</td>\n",
       "    </tr>\n",
       "  </tbody>\n",
       "</table>\n",
       "<p>1200 rows × 11 columns</p>\n",
       "</div>"
      ],
      "text/plain": [
       "      Origin_airport Destination_airport          Origin_city  \\\n",
       "5969             PBI                 SFB  West Palm Beach, FL   \n",
       "5970             FLL                 MCO  Fort Lauderdale, FL   \n",
       "5971             FLL                 MCO  Fort Lauderdale, FL   \n",
       "...              ...                 ...                  ...   \n",
       "58300            CLT                 MCO        Charlotte, NC   \n",
       "58301            CLT                 MCO        Charlotte, NC   \n",
       "58302            CLT                 MCO        Charlotte, NC   \n",
       "\n",
       "      Destination_city           ...            Distance  Fly_date  \\\n",
       "5969       Orlando, FL           ...                 160    200909   \n",
       "5970       Orlando, FL           ...                 178    200909   \n",
       "5971       Orlando, FL           ...                 178    200909   \n",
       "...                ...           ...                 ...       ...   \n",
       "58300      Orlando, FL           ...                 468    200912   \n",
       "58301      Orlando, FL           ...                 468    200912   \n",
       "58302      Orlando, FL           ...                 468    200912   \n",
       "\n",
       "       Origin_population  Destination_population  \n",
       "5969             5547051                 2082421  \n",
       "5970             5547051                 2082421  \n",
       "5971             5547051                 2082421  \n",
       "...                  ...                     ...  \n",
       "58300            1745524                 2082421  \n",
       "58301            1745524                 2082421  \n",
       "58302            1745524                 2082421  \n",
       "\n",
       "[1200 rows x 11 columns]"
      ]
     },
     "execution_count": 9,
     "metadata": {},
     "output_type": "execute_result"
    }
   ],
   "source": [
    "orl_df = all_years_df[all_years_df[\"Destination_city\"] == \"Orlando, FL\"]\n",
    "orl_df"
   ]
  },
  {
   "cell_type": "code",
   "execution_count": 10,
   "metadata": {},
   "outputs": [
    {
     "data": {
      "text/html": [
       "<div>\n",
       "<style scoped>\n",
       "    .dataframe tbody tr th:only-of-type {\n",
       "        vertical-align: middle;\n",
       "    }\n",
       "\n",
       "    .dataframe tbody tr th {\n",
       "        vertical-align: top;\n",
       "    }\n",
       "\n",
       "    .dataframe thead th {\n",
       "        text-align: right;\n",
       "    }\n",
       "</style>\n",
       "<table border=\"1\" class=\"dataframe\">\n",
       "  <thead>\n",
       "    <tr style=\"text-align: right;\">\n",
       "      <th></th>\n",
       "      <th>Origin_airport</th>\n",
       "      <th>Destination_airport</th>\n",
       "      <th>Origin_city</th>\n",
       "      <th>Destination_city</th>\n",
       "      <th>...</th>\n",
       "      <th>Distance</th>\n",
       "      <th>Fly_date</th>\n",
       "      <th>Origin_population</th>\n",
       "      <th>Destination_population</th>\n",
       "    </tr>\n",
       "  </thead>\n",
       "  <tbody>\n",
       "    <tr>\n",
       "      <th>6785</th>\n",
       "      <td>LWS</td>\n",
       "      <td>SEA</td>\n",
       "      <td>Lewiston, ID</td>\n",
       "      <td>Seattle, WA</td>\n",
       "      <td>...</td>\n",
       "      <td>261</td>\n",
       "      <td>200909</td>\n",
       "      <td>60643</td>\n",
       "      <td>6815696</td>\n",
       "    </tr>\n",
       "    <tr>\n",
       "      <th>6786</th>\n",
       "      <td>HNL</td>\n",
       "      <td>SEA</td>\n",
       "      <td>Honolulu, HI</td>\n",
       "      <td>Seattle, WA</td>\n",
       "      <td>...</td>\n",
       "      <td>2677</td>\n",
       "      <td>200909</td>\n",
       "      <td>907574</td>\n",
       "      <td>6815696</td>\n",
       "    </tr>\n",
       "    <tr>\n",
       "      <th>6787</th>\n",
       "      <td>MSO</td>\n",
       "      <td>SEA</td>\n",
       "      <td>Missoula, MT</td>\n",
       "      <td>Seattle, WA</td>\n",
       "      <td>...</td>\n",
       "      <td>389</td>\n",
       "      <td>200909</td>\n",
       "      <td>108623</td>\n",
       "      <td>6815696</td>\n",
       "    </tr>\n",
       "    <tr>\n",
       "      <th>...</th>\n",
       "      <td>...</td>\n",
       "      <td>...</td>\n",
       "      <td>...</td>\n",
       "      <td>...</td>\n",
       "      <td>...</td>\n",
       "      <td>...</td>\n",
       "      <td>...</td>\n",
       "      <td>...</td>\n",
       "      <td>...</td>\n",
       "    </tr>\n",
       "    <tr>\n",
       "      <th>59272</th>\n",
       "      <td>ORD</td>\n",
       "      <td>SEA</td>\n",
       "      <td>Chicago, IL</td>\n",
       "      <td>Seattle, WA</td>\n",
       "      <td>...</td>\n",
       "      <td>1721</td>\n",
       "      <td>200912</td>\n",
       "      <td>19161134</td>\n",
       "      <td>6815696</td>\n",
       "    </tr>\n",
       "    <tr>\n",
       "      <th>59273</th>\n",
       "      <td>ORD</td>\n",
       "      <td>SEA</td>\n",
       "      <td>Chicago, IL</td>\n",
       "      <td>Seattle, WA</td>\n",
       "      <td>...</td>\n",
       "      <td>1721</td>\n",
       "      <td>200912</td>\n",
       "      <td>19161134</td>\n",
       "      <td>6815696</td>\n",
       "    </tr>\n",
       "    <tr>\n",
       "      <th>59274</th>\n",
       "      <td>ELP</td>\n",
       "      <td>SEA</td>\n",
       "      <td>El Paso, TX</td>\n",
       "      <td>Seattle, WA</td>\n",
       "      <td>...</td>\n",
       "      <td>1368</td>\n",
       "      <td>200912</td>\n",
       "      <td>751296</td>\n",
       "      <td>6815696</td>\n",
       "    </tr>\n",
       "  </tbody>\n",
       "</table>\n",
       "<p>1168 rows × 11 columns</p>\n",
       "</div>"
      ],
      "text/plain": [
       "      Origin_airport Destination_airport   Origin_city Destination_city  \\\n",
       "6785             LWS                 SEA  Lewiston, ID      Seattle, WA   \n",
       "6786             HNL                 SEA  Honolulu, HI      Seattle, WA   \n",
       "6787             MSO                 SEA  Missoula, MT      Seattle, WA   \n",
       "...              ...                 ...           ...              ...   \n",
       "59272            ORD                 SEA   Chicago, IL      Seattle, WA   \n",
       "59273            ORD                 SEA   Chicago, IL      Seattle, WA   \n",
       "59274            ELP                 SEA   El Paso, TX      Seattle, WA   \n",
       "\n",
       "                ...            Distance  Fly_date  Origin_population  \\\n",
       "6785            ...                 261    200909              60643   \n",
       "6786            ...                2677    200909             907574   \n",
       "6787            ...                 389    200909             108623   \n",
       "...             ...                 ...       ...                ...   \n",
       "59272           ...                1721    200912           19161134   \n",
       "59273           ...                1721    200912           19161134   \n",
       "59274           ...                1368    200912             751296   \n",
       "\n",
       "       Destination_population  \n",
       "6785                  6815696  \n",
       "6786                  6815696  \n",
       "6787                  6815696  \n",
       "...                       ...  \n",
       "59272                 6815696  \n",
       "59273                 6815696  \n",
       "59274                 6815696  \n",
       "\n",
       "[1168 rows x 11 columns]"
      ]
     },
     "execution_count": 10,
     "metadata": {},
     "output_type": "execute_result"
    }
   ],
   "source": [
    "sea_df = all_years_df[all_years_df[\"Destination_city\"] == \"Seattle, WA\"]\n",
    "sea_df"
   ]
  },
  {
   "cell_type": "markdown",
   "metadata": {},
   "source": [
    "Sample Airport Datasets"
   ]
  },
  {
   "cell_type": "code",
   "execution_count": 11,
   "metadata": {
    "scrolled": true
   },
   "outputs": [
    {
     "data": {
      "text/html": [
       "<div>\n",
       "<style scoped>\n",
       "    .dataframe tbody tr th:only-of-type {\n",
       "        vertical-align: middle;\n",
       "    }\n",
       "\n",
       "    .dataframe tbody tr th {\n",
       "        vertical-align: top;\n",
       "    }\n",
       "\n",
       "    .dataframe thead th {\n",
       "        text-align: right;\n",
       "    }\n",
       "</style>\n",
       "<table border=\"1\" class=\"dataframe\">\n",
       "  <thead>\n",
       "    <tr style=\"text-align: right;\">\n",
       "      <th></th>\n",
       "      <th>Origin_airport</th>\n",
       "      <th>Destination_airport</th>\n",
       "      <th>Origin_city</th>\n",
       "      <th>Destination_city</th>\n",
       "      <th>...</th>\n",
       "      <th>Distance</th>\n",
       "      <th>Fly_date</th>\n",
       "      <th>Origin_population</th>\n",
       "      <th>Destination_population</th>\n",
       "    </tr>\n",
       "  </thead>\n",
       "  <tbody>\n",
       "    <tr>\n",
       "      <th>13678</th>\n",
       "      <td>BOS</td>\n",
       "      <td>LAX</td>\n",
       "      <td>Boston, MA</td>\n",
       "      <td>Los Angeles, CA</td>\n",
       "      <td>...</td>\n",
       "      <td>2611</td>\n",
       "      <td>200909</td>\n",
       "      <td>9177360</td>\n",
       "      <td>25749594</td>\n",
       "    </tr>\n",
       "    <tr>\n",
       "      <th>13679</th>\n",
       "      <td>BOS</td>\n",
       "      <td>LAX</td>\n",
       "      <td>Boston, MA</td>\n",
       "      <td>Los Angeles, CA</td>\n",
       "      <td>...</td>\n",
       "      <td>2611</td>\n",
       "      <td>200909</td>\n",
       "      <td>9177360</td>\n",
       "      <td>25749594</td>\n",
       "    </tr>\n",
       "    <tr>\n",
       "      <th>13680</th>\n",
       "      <td>BOS</td>\n",
       "      <td>LAX</td>\n",
       "      <td>Boston, MA</td>\n",
       "      <td>Los Angeles, CA</td>\n",
       "      <td>...</td>\n",
       "      <td>2611</td>\n",
       "      <td>200909</td>\n",
       "      <td>9177360</td>\n",
       "      <td>25749594</td>\n",
       "    </tr>\n",
       "    <tr>\n",
       "      <th>13681</th>\n",
       "      <td>BOS</td>\n",
       "      <td>LAX</td>\n",
       "      <td>Boston, MA</td>\n",
       "      <td>Los Angeles, CA</td>\n",
       "      <td>...</td>\n",
       "      <td>2611</td>\n",
       "      <td>200909</td>\n",
       "      <td>9177360</td>\n",
       "      <td>25749594</td>\n",
       "    </tr>\n",
       "    <tr>\n",
       "      <th>13682</th>\n",
       "      <td>BOS</td>\n",
       "      <td>LAX</td>\n",
       "      <td>Boston, MA</td>\n",
       "      <td>Los Angeles, CA</td>\n",
       "      <td>...</td>\n",
       "      <td>2611</td>\n",
       "      <td>200909</td>\n",
       "      <td>9177360</td>\n",
       "      <td>25749594</td>\n",
       "    </tr>\n",
       "  </tbody>\n",
       "</table>\n",
       "<p>5 rows × 11 columns</p>\n",
       "</div>"
      ],
      "text/plain": [
       "      Origin_airport Destination_airport Origin_city Destination_city  \\\n",
       "13678            BOS                 LAX  Boston, MA  Los Angeles, CA   \n",
       "13679            BOS                 LAX  Boston, MA  Los Angeles, CA   \n",
       "13680            BOS                 LAX  Boston, MA  Los Angeles, CA   \n",
       "13681            BOS                 LAX  Boston, MA  Los Angeles, CA   \n",
       "13682            BOS                 LAX  Boston, MA  Los Angeles, CA   \n",
       "\n",
       "                ...            Distance  Fly_date  Origin_population  \\\n",
       "13678           ...                2611    200909            9177360   \n",
       "13679           ...                2611    200909            9177360   \n",
       "13680           ...                2611    200909            9177360   \n",
       "13681           ...                2611    200909            9177360   \n",
       "13682           ...                2611    200909            9177360   \n",
       "\n",
       "       Destination_population  \n",
       "13678                25749594  \n",
       "13679                25749594  \n",
       "13680                25749594  \n",
       "13681                25749594  \n",
       "13682                25749594  \n",
       "\n",
       "[5 rows x 11 columns]"
      ]
     },
     "execution_count": 11,
     "metadata": {},
     "output_type": "execute_result"
    }
   ],
   "source": [
    "la_df.head()"
   ]
  },
  {
   "cell_type": "code",
   "execution_count": 12,
   "metadata": {},
   "outputs": [
    {
     "data": {
      "text/html": [
       "<div>\n",
       "<style scoped>\n",
       "    .dataframe tbody tr th:only-of-type {\n",
       "        vertical-align: middle;\n",
       "    }\n",
       "\n",
       "    .dataframe tbody tr th {\n",
       "        vertical-align: top;\n",
       "    }\n",
       "\n",
       "    .dataframe thead th {\n",
       "        text-align: right;\n",
       "    }\n",
       "</style>\n",
       "<table border=\"1\" class=\"dataframe\">\n",
       "  <thead>\n",
       "    <tr style=\"text-align: right;\">\n",
       "      <th></th>\n",
       "      <th>Origin_airport</th>\n",
       "      <th>Destination_airport</th>\n",
       "      <th>Origin_city</th>\n",
       "      <th>Destination_city</th>\n",
       "      <th>...</th>\n",
       "      <th>Distance</th>\n",
       "      <th>Fly_date</th>\n",
       "      <th>Origin_population</th>\n",
       "      <th>Destination_population</th>\n",
       "    </tr>\n",
       "  </thead>\n",
       "  <tbody>\n",
       "    <tr>\n",
       "      <th>6785</th>\n",
       "      <td>LWS</td>\n",
       "      <td>SEA</td>\n",
       "      <td>Lewiston, ID</td>\n",
       "      <td>Seattle, WA</td>\n",
       "      <td>...</td>\n",
       "      <td>261</td>\n",
       "      <td>200909</td>\n",
       "      <td>60643</td>\n",
       "      <td>6815696</td>\n",
       "    </tr>\n",
       "    <tr>\n",
       "      <th>6786</th>\n",
       "      <td>HNL</td>\n",
       "      <td>SEA</td>\n",
       "      <td>Honolulu, HI</td>\n",
       "      <td>Seattle, WA</td>\n",
       "      <td>...</td>\n",
       "      <td>2677</td>\n",
       "      <td>200909</td>\n",
       "      <td>907574</td>\n",
       "      <td>6815696</td>\n",
       "    </tr>\n",
       "    <tr>\n",
       "      <th>6787</th>\n",
       "      <td>MSO</td>\n",
       "      <td>SEA</td>\n",
       "      <td>Missoula, MT</td>\n",
       "      <td>Seattle, WA</td>\n",
       "      <td>...</td>\n",
       "      <td>389</td>\n",
       "      <td>200909</td>\n",
       "      <td>108623</td>\n",
       "      <td>6815696</td>\n",
       "    </tr>\n",
       "    <tr>\n",
       "      <th>6788</th>\n",
       "      <td>HNL</td>\n",
       "      <td>SEA</td>\n",
       "      <td>Honolulu, HI</td>\n",
       "      <td>Seattle, WA</td>\n",
       "      <td>...</td>\n",
       "      <td>2677</td>\n",
       "      <td>200909</td>\n",
       "      <td>907574</td>\n",
       "      <td>6815696</td>\n",
       "    </tr>\n",
       "    <tr>\n",
       "      <th>6789</th>\n",
       "      <td>HNL</td>\n",
       "      <td>SEA</td>\n",
       "      <td>Honolulu, HI</td>\n",
       "      <td>Seattle, WA</td>\n",
       "      <td>...</td>\n",
       "      <td>2677</td>\n",
       "      <td>200909</td>\n",
       "      <td>907574</td>\n",
       "      <td>6815696</td>\n",
       "    </tr>\n",
       "  </tbody>\n",
       "</table>\n",
       "<p>5 rows × 11 columns</p>\n",
       "</div>"
      ],
      "text/plain": [
       "     Origin_airport Destination_airport   Origin_city Destination_city  \\\n",
       "6785            LWS                 SEA  Lewiston, ID      Seattle, WA   \n",
       "6786            HNL                 SEA  Honolulu, HI      Seattle, WA   \n",
       "6787            MSO                 SEA  Missoula, MT      Seattle, WA   \n",
       "6788            HNL                 SEA  Honolulu, HI      Seattle, WA   \n",
       "6789            HNL                 SEA  Honolulu, HI      Seattle, WA   \n",
       "\n",
       "               ...            Distance  Fly_date  Origin_population  \\\n",
       "6785           ...                 261    200909              60643   \n",
       "6786           ...                2677    200909             907574   \n",
       "6787           ...                 389    200909             108623   \n",
       "6788           ...                2677    200909             907574   \n",
       "6789           ...                2677    200909             907574   \n",
       "\n",
       "      Destination_population  \n",
       "6785                 6815696  \n",
       "6786                 6815696  \n",
       "6787                 6815696  \n",
       "6788                 6815696  \n",
       "6789                 6815696  \n",
       "\n",
       "[5 rows x 11 columns]"
      ]
     },
     "execution_count": 12,
     "metadata": {},
     "output_type": "execute_result"
    }
   ],
   "source": [
    "sea_df.head()"
   ]
  },
  {
   "cell_type": "code",
   "execution_count": 13,
   "metadata": {},
   "outputs": [
    {
     "data": {
      "text/html": [
       "<div>\n",
       "<style scoped>\n",
       "    .dataframe tbody tr th:only-of-type {\n",
       "        vertical-align: middle;\n",
       "    }\n",
       "\n",
       "    .dataframe tbody tr th {\n",
       "        vertical-align: top;\n",
       "    }\n",
       "\n",
       "    .dataframe thead th {\n",
       "        text-align: right;\n",
       "    }\n",
       "</style>\n",
       "<table border=\"1\" class=\"dataframe\">\n",
       "  <thead>\n",
       "    <tr style=\"text-align: right;\">\n",
       "      <th></th>\n",
       "      <th>Origin_airport</th>\n",
       "      <th>Destination_airport</th>\n",
       "      <th>Origin_city</th>\n",
       "      <th>Destination_city</th>\n",
       "      <th>...</th>\n",
       "      <th>Distance</th>\n",
       "      <th>Fly_date</th>\n",
       "      <th>Origin_population</th>\n",
       "      <th>Destination_population</th>\n",
       "    </tr>\n",
       "  </thead>\n",
       "  <tbody>\n",
       "    <tr>\n",
       "      <th>3227</th>\n",
       "      <td>MCI</td>\n",
       "      <td>MDW</td>\n",
       "      <td>Kansas City, MO</td>\n",
       "      <td>Chicago, IL</td>\n",
       "      <td>...</td>\n",
       "      <td>405</td>\n",
       "      <td>200909</td>\n",
       "      <td>2067585</td>\n",
       "      <td>19161134</td>\n",
       "    </tr>\n",
       "    <tr>\n",
       "      <th>3228</th>\n",
       "      <td>DCA</td>\n",
       "      <td>ORD</td>\n",
       "      <td>Washington, DC</td>\n",
       "      <td>Chicago, IL</td>\n",
       "      <td>...</td>\n",
       "      <td>612</td>\n",
       "      <td>200909</td>\n",
       "      <td>10952482</td>\n",
       "      <td>19161134</td>\n",
       "    </tr>\n",
       "    <tr>\n",
       "      <th>3229</th>\n",
       "      <td>DCA</td>\n",
       "      <td>ORD</td>\n",
       "      <td>Washington, DC</td>\n",
       "      <td>Chicago, IL</td>\n",
       "      <td>...</td>\n",
       "      <td>612</td>\n",
       "      <td>200909</td>\n",
       "      <td>10952482</td>\n",
       "      <td>19161134</td>\n",
       "    </tr>\n",
       "    <tr>\n",
       "      <th>3230</th>\n",
       "      <td>DCA</td>\n",
       "      <td>ORD</td>\n",
       "      <td>Washington, DC</td>\n",
       "      <td>Chicago, IL</td>\n",
       "      <td>...</td>\n",
       "      <td>612</td>\n",
       "      <td>200909</td>\n",
       "      <td>10952482</td>\n",
       "      <td>19161134</td>\n",
       "    </tr>\n",
       "    <tr>\n",
       "      <th>3231</th>\n",
       "      <td>DCA</td>\n",
       "      <td>ORD</td>\n",
       "      <td>Washington, DC</td>\n",
       "      <td>Chicago, IL</td>\n",
       "      <td>...</td>\n",
       "      <td>612</td>\n",
       "      <td>200909</td>\n",
       "      <td>10952482</td>\n",
       "      <td>19161134</td>\n",
       "    </tr>\n",
       "  </tbody>\n",
       "</table>\n",
       "<p>5 rows × 11 columns</p>\n",
       "</div>"
      ],
      "text/plain": [
       "     Origin_airport Destination_airport      Origin_city Destination_city  \\\n",
       "3227            MCI                 MDW  Kansas City, MO      Chicago, IL   \n",
       "3228            DCA                 ORD   Washington, DC      Chicago, IL   \n",
       "3229            DCA                 ORD   Washington, DC      Chicago, IL   \n",
       "3230            DCA                 ORD   Washington, DC      Chicago, IL   \n",
       "3231            DCA                 ORD   Washington, DC      Chicago, IL   \n",
       "\n",
       "               ...            Distance  Fly_date  Origin_population  \\\n",
       "3227           ...                 405    200909            2067585   \n",
       "3228           ...                 612    200909           10952482   \n",
       "3229           ...                 612    200909           10952482   \n",
       "3230           ...                 612    200909           10952482   \n",
       "3231           ...                 612    200909           10952482   \n",
       "\n",
       "      Destination_population  \n",
       "3227                19161134  \n",
       "3228                19161134  \n",
       "3229                19161134  \n",
       "3230                19161134  \n",
       "3231                19161134  \n",
       "\n",
       "[5 rows x 11 columns]"
      ]
     },
     "execution_count": 13,
     "metadata": {},
     "output_type": "execute_result"
    }
   ],
   "source": [
    "ch_df.head()"
   ]
  },
  {
   "cell_type": "code",
   "execution_count": 14,
   "metadata": {},
   "outputs": [
    {
     "data": {
      "text/html": [
       "<div>\n",
       "<style scoped>\n",
       "    .dataframe tbody tr th:only-of-type {\n",
       "        vertical-align: middle;\n",
       "    }\n",
       "\n",
       "    .dataframe tbody tr th {\n",
       "        vertical-align: top;\n",
       "    }\n",
       "\n",
       "    .dataframe thead th {\n",
       "        text-align: right;\n",
       "    }\n",
       "</style>\n",
       "<table border=\"1\" class=\"dataframe\">\n",
       "  <thead>\n",
       "    <tr style=\"text-align: right;\">\n",
       "      <th></th>\n",
       "      <th>Origin_airport</th>\n",
       "      <th>Destination_airport</th>\n",
       "      <th>Origin_city</th>\n",
       "      <th>Destination_city</th>\n",
       "      <th>...</th>\n",
       "      <th>Distance</th>\n",
       "      <th>Fly_date</th>\n",
       "      <th>Origin_population</th>\n",
       "      <th>Destination_population</th>\n",
       "    </tr>\n",
       "  </thead>\n",
       "  <tbody>\n",
       "    <tr>\n",
       "      <th>7790</th>\n",
       "      <td>CMH</td>\n",
       "      <td>JFK</td>\n",
       "      <td>Columbus, OH</td>\n",
       "      <td>New York, NY</td>\n",
       "      <td>...</td>\n",
       "      <td>483</td>\n",
       "      <td>200909</td>\n",
       "      <td>1801848</td>\n",
       "      <td>38139592</td>\n",
       "    </tr>\n",
       "    <tr>\n",
       "      <th>7791</th>\n",
       "      <td>CMH</td>\n",
       "      <td>JFK</td>\n",
       "      <td>Columbus, OH</td>\n",
       "      <td>New York, NY</td>\n",
       "      <td>...</td>\n",
       "      <td>483</td>\n",
       "      <td>200909</td>\n",
       "      <td>1801848</td>\n",
       "      <td>38139592</td>\n",
       "    </tr>\n",
       "    <tr>\n",
       "      <th>7792</th>\n",
       "      <td>CMH</td>\n",
       "      <td>LGA</td>\n",
       "      <td>Columbus, OH</td>\n",
       "      <td>New York, NY</td>\n",
       "      <td>...</td>\n",
       "      <td>478</td>\n",
       "      <td>200909</td>\n",
       "      <td>1801848</td>\n",
       "      <td>38139592</td>\n",
       "    </tr>\n",
       "    <tr>\n",
       "      <th>7793</th>\n",
       "      <td>CMH</td>\n",
       "      <td>LGA</td>\n",
       "      <td>Columbus, OH</td>\n",
       "      <td>New York, NY</td>\n",
       "      <td>...</td>\n",
       "      <td>478</td>\n",
       "      <td>200909</td>\n",
       "      <td>1801848</td>\n",
       "      <td>38139592</td>\n",
       "    </tr>\n",
       "    <tr>\n",
       "      <th>7794</th>\n",
       "      <td>BDL</td>\n",
       "      <td>JFK</td>\n",
       "      <td>Hartford, CT</td>\n",
       "      <td>New York, NY</td>\n",
       "      <td>...</td>\n",
       "      <td>106</td>\n",
       "      <td>200909</td>\n",
       "      <td>1195998</td>\n",
       "      <td>38139592</td>\n",
       "    </tr>\n",
       "  </tbody>\n",
       "</table>\n",
       "<p>5 rows × 11 columns</p>\n",
       "</div>"
      ],
      "text/plain": [
       "     Origin_airport Destination_airport   Origin_city Destination_city  \\\n",
       "7790            CMH                 JFK  Columbus, OH     New York, NY   \n",
       "7791            CMH                 JFK  Columbus, OH     New York, NY   \n",
       "7792            CMH                 LGA  Columbus, OH     New York, NY   \n",
       "7793            CMH                 LGA  Columbus, OH     New York, NY   \n",
       "7794            BDL                 JFK  Hartford, CT     New York, NY   \n",
       "\n",
       "               ...            Distance  Fly_date  Origin_population  \\\n",
       "7790           ...                 483    200909            1801848   \n",
       "7791           ...                 483    200909            1801848   \n",
       "7792           ...                 478    200909            1801848   \n",
       "7793           ...                 478    200909            1801848   \n",
       "7794           ...                 106    200909            1195998   \n",
       "\n",
       "      Destination_population  \n",
       "7790                38139592  \n",
       "7791                38139592  \n",
       "7792                38139592  \n",
       "7793                38139592  \n",
       "7794                38139592  \n",
       "\n",
       "[5 rows x 11 columns]"
      ]
     },
     "execution_count": 14,
     "metadata": {},
     "output_type": "execute_result"
    }
   ],
   "source": [
    "ny_df.head()"
   ]
  },
  {
   "cell_type": "code",
   "execution_count": 15,
   "metadata": {},
   "outputs": [
    {
     "data": {
      "text/html": [
       "<div>\n",
       "<style scoped>\n",
       "    .dataframe tbody tr th:only-of-type {\n",
       "        vertical-align: middle;\n",
       "    }\n",
       "\n",
       "    .dataframe tbody tr th {\n",
       "        vertical-align: top;\n",
       "    }\n",
       "\n",
       "    .dataframe thead th {\n",
       "        text-align: right;\n",
       "    }\n",
       "</style>\n",
       "<table border=\"1\" class=\"dataframe\">\n",
       "  <thead>\n",
       "    <tr style=\"text-align: right;\">\n",
       "      <th></th>\n",
       "      <th>Origin_airport</th>\n",
       "      <th>Destination_airport</th>\n",
       "      <th>Origin_city</th>\n",
       "      <th>Destination_city</th>\n",
       "      <th>...</th>\n",
       "      <th>Distance</th>\n",
       "      <th>Fly_date</th>\n",
       "      <th>Origin_population</th>\n",
       "      <th>Destination_population</th>\n",
       "    </tr>\n",
       "  </thead>\n",
       "  <tbody>\n",
       "    <tr>\n",
       "      <th>5969</th>\n",
       "      <td>PBI</td>\n",
       "      <td>SFB</td>\n",
       "      <td>West Palm Beach, FL</td>\n",
       "      <td>Orlando, FL</td>\n",
       "      <td>...</td>\n",
       "      <td>160</td>\n",
       "      <td>200909</td>\n",
       "      <td>5547051</td>\n",
       "      <td>2082421</td>\n",
       "    </tr>\n",
       "    <tr>\n",
       "      <th>5970</th>\n",
       "      <td>FLL</td>\n",
       "      <td>MCO</td>\n",
       "      <td>Fort Lauderdale, FL</td>\n",
       "      <td>Orlando, FL</td>\n",
       "      <td>...</td>\n",
       "      <td>178</td>\n",
       "      <td>200909</td>\n",
       "      <td>5547051</td>\n",
       "      <td>2082421</td>\n",
       "    </tr>\n",
       "    <tr>\n",
       "      <th>5971</th>\n",
       "      <td>FLL</td>\n",
       "      <td>MCO</td>\n",
       "      <td>Fort Lauderdale, FL</td>\n",
       "      <td>Orlando, FL</td>\n",
       "      <td>...</td>\n",
       "      <td>178</td>\n",
       "      <td>200909</td>\n",
       "      <td>5547051</td>\n",
       "      <td>2082421</td>\n",
       "    </tr>\n",
       "    <tr>\n",
       "      <th>5972</th>\n",
       "      <td>FLL</td>\n",
       "      <td>MCO</td>\n",
       "      <td>Fort Lauderdale, FL</td>\n",
       "      <td>Orlando, FL</td>\n",
       "      <td>...</td>\n",
       "      <td>178</td>\n",
       "      <td>200909</td>\n",
       "      <td>5547051</td>\n",
       "      <td>2082421</td>\n",
       "    </tr>\n",
       "    <tr>\n",
       "      <th>5973</th>\n",
       "      <td>SLC</td>\n",
       "      <td>MCO</td>\n",
       "      <td>Salt Lake City, UT</td>\n",
       "      <td>Orlando, FL</td>\n",
       "      <td>...</td>\n",
       "      <td>1929</td>\n",
       "      <td>200909</td>\n",
       "      <td>1130293</td>\n",
       "      <td>2082421</td>\n",
       "    </tr>\n",
       "  </tbody>\n",
       "</table>\n",
       "<p>5 rows × 11 columns</p>\n",
       "</div>"
      ],
      "text/plain": [
       "     Origin_airport Destination_airport          Origin_city Destination_city  \\\n",
       "5969            PBI                 SFB  West Palm Beach, FL      Orlando, FL   \n",
       "5970            FLL                 MCO  Fort Lauderdale, FL      Orlando, FL   \n",
       "5971            FLL                 MCO  Fort Lauderdale, FL      Orlando, FL   \n",
       "5972            FLL                 MCO  Fort Lauderdale, FL      Orlando, FL   \n",
       "5973            SLC                 MCO   Salt Lake City, UT      Orlando, FL   \n",
       "\n",
       "               ...            Distance  Fly_date  Origin_population  \\\n",
       "5969           ...                 160    200909            5547051   \n",
       "5970           ...                 178    200909            5547051   \n",
       "5971           ...                 178    200909            5547051   \n",
       "5972           ...                 178    200909            5547051   \n",
       "5973           ...                1929    200909            1130293   \n",
       "\n",
       "      Destination_population  \n",
       "5969                 2082421  \n",
       "5970                 2082421  \n",
       "5971                 2082421  \n",
       "5972                 2082421  \n",
       "5973                 2082421  \n",
       "\n",
       "[5 rows x 11 columns]"
      ]
     },
     "execution_count": 15,
     "metadata": {},
     "output_type": "execute_result"
    }
   ],
   "source": [
    "orl_df.head()"
   ]
  },
  {
   "cell_type": "markdown",
   "metadata": {},
   "source": [
    "# DATA EXPLORATION"
   ]
  },
  {
   "cell_type": "code",
   "execution_count": 16,
   "metadata": {
    "scrolled": true
   },
   "outputs": [
    {
     "data": {
      "text/plain": [
       "San Francisco, CA    65\n",
       "Anchorage, AK        65\n",
       "Phoenix, AZ          62\n",
       "                     ..\n",
       "St. George, UT        1\n",
       "Little Rock, AR       1\n",
       "Pullman, WA           1\n",
       "Name: Origin_city, Length: 98, dtype: int64"
      ]
     },
     "execution_count": 16,
     "metadata": {},
     "output_type": "execute_result"
    }
   ],
   "source": [
    "la_df['Origin_city'].value_counts()"
   ]
  },
  {
   "cell_type": "markdown",
   "metadata": {},
   "source": [
    "The most common flights to Los Angeles were from San Francisco, Anchorage, and Phoenix."
   ]
  },
  {
   "cell_type": "code",
   "execution_count": 17,
   "metadata": {
    "scrolled": true
   },
   "outputs": [
    {
     "data": {
      "text/plain": [
       "Portland, OR       50\n",
       "Spokane, WA        50\n",
       "Phoenix, AZ        47\n",
       "                   ..\n",
       "San Antonio, TX     1\n",
       "Eureka, CA          1\n",
       "El Paso, TX         1\n",
       "Name: Origin_city, Length: 90, dtype: int64"
      ]
     },
     "execution_count": 17,
     "metadata": {},
     "output_type": "execute_result"
    }
   ],
   "source": [
    "sea_df['Origin_city'].value_counts()"
   ]
  },
  {
   "cell_type": "markdown",
   "metadata": {},
   "source": [
    "The most common flights to Seattle were from Portland, Spokane, and Phoenix."
   ]
  },
  {
   "cell_type": "code",
   "execution_count": 18,
   "metadata": {
    "scrolled": true
   },
   "outputs": [
    {
     "data": {
      "text/plain": [
       "Detroit, MI       103\n",
       "Atlanta, GA       101\n",
       "Anchorage, AK      99\n",
       "                 ... \n",
       "Shreveport, LA      1\n",
       "Alexandria, LA      1\n",
       "Asheville, NC       1\n",
       "Name: Origin_city, Length: 142, dtype: int64"
      ]
     },
     "execution_count": 18,
     "metadata": {},
     "output_type": "execute_result"
    }
   ],
   "source": [
    "ch_df['Origin_city'].value_counts()"
   ]
  },
  {
   "cell_type": "markdown",
   "metadata": {},
   "source": [
    "The most common flights to Chicago were from Detroit, Atlanta, and Anchorage."
   ]
  },
  {
   "cell_type": "code",
   "execution_count": 19,
   "metadata": {},
   "outputs": [
    {
     "data": {
      "text/plain": [
       "Chicago, IL        108\n",
       "Washington, DC     100\n",
       "Boston, MA          66\n",
       "                  ... \n",
       "Columbia, MO         1\n",
       "Albuquerque, NM      1\n",
       "El Paso, TX          1\n",
       "Name: Origin_city, Length: 93, dtype: int64"
      ]
     },
     "execution_count": 19,
     "metadata": {},
     "output_type": "execute_result"
    }
   ],
   "source": [
    "ny_df['Origin_city'].value_counts()"
   ]
  },
  {
   "cell_type": "markdown",
   "metadata": {},
   "source": [
    "The most common flights to New York City were from Chicago, Washington DC, and Boston."
   ]
  },
  {
   "cell_type": "code",
   "execution_count": 20,
   "metadata": {},
   "outputs": [
    {
     "data": {
      "text/plain": [
       "Washington, DC      55\n",
       "Philadelphia, PA    47\n",
       "Houston, TX         45\n",
       "                    ..\n",
       "Myrtle Beach, SC     1\n",
       "Savannah, GA         1\n",
       "Hattiesburg, MS      1\n",
       "Name: Origin_city, Length: 111, dtype: int64"
      ]
     },
     "execution_count": 20,
     "metadata": {},
     "output_type": "execute_result"
    }
   ],
   "source": [
    "orl_df['Origin_city'].value_counts()"
   ]
  },
  {
   "cell_type": "markdown",
   "metadata": {},
   "source": [
    "The most common flights to Orlando were from Washington DC, Philadelphia, and Houston."
   ]
  },
  {
   "cell_type": "markdown",
   "metadata": {},
   "source": [
    "# DATA ANALYSIS "
   ]
  },
  {
   "cell_type": "markdown",
   "metadata": {},
   "source": [
    "Loading Weather Data"
   ]
  },
  {
   "cell_type": "code",
   "execution_count": 82,
   "metadata": {},
   "outputs": [],
   "source": [
    "la_we = pd.read_csv(\"./WEATHERDATA/USEABLE DATA/LAX.csv\")\n",
    "sea_we= pd.read_csv(\"./WEATHERDATA/USEABLE DATA/SEA.csv\")\n",
    "chi_we= pd.read_csv(\"./WEATHERDATA/USEABLE DATA/CHI.csv\")\n",
    "nyc_we= pd.read_csv(\"./WEATHERDATA/USEABLE DATA/NYC.csv\")\n",
    "orl_we= pd.read_csv(\"./WEATHERDATA/USEABLE DATA/ORL.csv\")"
   ]
  },
  {
   "cell_type": "code",
   "execution_count": 83,
   "metadata": {},
   "outputs": [],
   "source": [
    "la_we = la_we.drop(columns = 'Unnamed: 0')\n",
    "sea_we = sea_we.drop(columns = 'Unnamed: 0')\n",
    "chi_we = chi_we.drop(columns = 'Unnamed: 0')\n",
    "nyc_we = nyc_we.drop(columns = 'Unnamed: 0')\n",
    "orl_we = orl_we.drop(columns = 'Unnamed: 0')"
   ]
  },
  {
   "cell_type": "code",
   "execution_count": 91,
   "metadata": {},
   "outputs": [],
   "source": [
    "chi_we = chi_we.drop(columns = 'Unnamed: 0.1')"
   ]
  },
  {
   "cell_type": "code",
   "execution_count": 92,
   "metadata": {},
   "outputs": [],
   "source": [
    "nyc_we = nyc_we.drop(columns = 'Unnamed: 0.1')"
   ]
  },
  {
   "cell_type": "code",
   "execution_count": 93,
   "metadata": {},
   "outputs": [],
   "source": [
    "orl_we = orl_we.drop(columns = 'Unnamed: 0.1')"
   ]
  },
  {
   "cell_type": "markdown",
   "metadata": {},
   "source": [
    "We need to create a dataframe for the 4 month interval with number of flights and Temp+Humidity Conditions every month for every city."
   ]
  },
  {
   "cell_type": "markdown",
   "metadata": {},
   "source": [
    "Los Angeles"
   ]
  },
  {
   "cell_type": "code",
   "execution_count": 421,
   "metadata": {
    "scrolled": true
   },
   "outputs": [
    {
     "data": {
      "text/html": [
       "<div>\n",
       "<style scoped>\n",
       "    .dataframe tbody tr th:only-of-type {\n",
       "        vertical-align: middle;\n",
       "    }\n",
       "\n",
       "    .dataframe tbody tr th {\n",
       "        vertical-align: top;\n",
       "    }\n",
       "\n",
       "    .dataframe thead th {\n",
       "        text-align: right;\n",
       "    }\n",
       "</style>\n",
       "<table border=\"1\" class=\"dataframe\">\n",
       "  <thead>\n",
       "    <tr style=\"text-align: right;\">\n",
       "      <th></th>\n",
       "      <th>Date</th>\n",
       "      <th>Flights</th>\n",
       "      <th>Temp</th>\n",
       "      <th>Humidity</th>\n",
       "    </tr>\n",
       "  </thead>\n",
       "  <tbody>\n",
       "    <tr>\n",
       "      <th>0</th>\n",
       "      <td>9</td>\n",
       "      <td>354</td>\n",
       "      <td>57</td>\n",
       "      <td>59</td>\n",
       "    </tr>\n",
       "    <tr>\n",
       "      <th>1</th>\n",
       "      <td>10</td>\n",
       "      <td>382</td>\n",
       "      <td>72</td>\n",
       "      <td>68</td>\n",
       "    </tr>\n",
       "    <tr>\n",
       "      <th>2</th>\n",
       "      <td>11</td>\n",
       "      <td>390</td>\n",
       "      <td>67</td>\n",
       "      <td>62</td>\n",
       "    </tr>\n",
       "    <tr>\n",
       "      <th>3</th>\n",
       "      <td>12</td>\n",
       "      <td>436</td>\n",
       "      <td>62</td>\n",
       "      <td>56</td>\n",
       "    </tr>\n",
       "  </tbody>\n",
       "</table>\n",
       "</div>"
      ],
      "text/plain": [
       "   Date  Flights  Temp  Humidity\n",
       "0     9      354    57        59\n",
       "1    10      382    72        68\n",
       "2    11      390    67        62\n",
       "3    12      436    62        56"
      ]
     },
     "execution_count": 421,
     "metadata": {},
     "output_type": "execute_result"
    }
   ],
   "source": [
    "la_fly_num_data = [[9,354,57,59],[10,382,72,68],[11,390,67,62],[12,436,62,56]]\n",
    "la_fly_num = pd.DataFrame(la_fly_num_data, columns = ['Date','Flights','Temp','Humidity'])\n",
    "la_fly_num"
   ]
  },
  {
   "cell_type": "markdown",
   "metadata": {},
   "source": [
    "Seattle"
   ]
  },
  {
   "cell_type": "code",
   "execution_count": 424,
   "metadata": {},
   "outputs": [
    {
     "data": {
      "text/html": [
       "<div>\n",
       "<style scoped>\n",
       "    .dataframe tbody tr th:only-of-type {\n",
       "        vertical-align: middle;\n",
       "    }\n",
       "\n",
       "    .dataframe tbody tr th {\n",
       "        vertical-align: top;\n",
       "    }\n",
       "\n",
       "    .dataframe thead th {\n",
       "        text-align: right;\n",
       "    }\n",
       "</style>\n",
       "<table border=\"1\" class=\"dataframe\">\n",
       "  <thead>\n",
       "    <tr style=\"text-align: right;\">\n",
       "      <th></th>\n",
       "      <th>Date</th>\n",
       "      <th>Flights</th>\n",
       "      <th>Temp</th>\n",
       "      <th>Humidity</th>\n",
       "    </tr>\n",
       "  </thead>\n",
       "  <tbody>\n",
       "    <tr>\n",
       "      <th>0</th>\n",
       "      <td>9</td>\n",
       "      <td>303</td>\n",
       "      <td>38</td>\n",
       "      <td>74</td>\n",
       "    </tr>\n",
       "    <tr>\n",
       "      <th>1</th>\n",
       "      <td>10</td>\n",
       "      <td>274</td>\n",
       "      <td>63</td>\n",
       "      <td>68</td>\n",
       "    </tr>\n",
       "    <tr>\n",
       "      <th>2</th>\n",
       "      <td>11</td>\n",
       "      <td>304</td>\n",
       "      <td>53</td>\n",
       "      <td>75</td>\n",
       "    </tr>\n",
       "    <tr>\n",
       "      <th>3</th>\n",
       "      <td>12</td>\n",
       "      <td>287</td>\n",
       "      <td>47</td>\n",
       "      <td>79</td>\n",
       "    </tr>\n",
       "  </tbody>\n",
       "</table>\n",
       "</div>"
      ],
      "text/plain": [
       "   Date  Flights  Temp  Humidity\n",
       "0     9      303    38        74\n",
       "1    10      274    63        68\n",
       "2    11      304    53        75\n",
       "3    12      287    47        79"
      ]
     },
     "execution_count": 424,
     "metadata": {},
     "output_type": "execute_result"
    }
   ],
   "source": [
    "sea_fly_num_data = [[9,303,38,74],[10,274,63,68],[11,304,53,75],[12,287,47,79]]\n",
    "sea_fly_num = pd.DataFrame(sea_fly_num_data, columns = ['Date','Flights','Temp','Humidity'])\n",
    "sea_fly_num"
   ]
  },
  {
   "cell_type": "markdown",
   "metadata": {},
   "source": [
    "Chicago"
   ]
  },
  {
   "cell_type": "code",
   "execution_count": 380,
   "metadata": {},
   "outputs": [
    {
     "data": {
      "text/html": [
       "<div>\n",
       "<style scoped>\n",
       "    .dataframe tbody tr th:only-of-type {\n",
       "        vertical-align: middle;\n",
       "    }\n",
       "\n",
       "    .dataframe tbody tr th {\n",
       "        vertical-align: top;\n",
       "    }\n",
       "\n",
       "    .dataframe thead th {\n",
       "        text-align: right;\n",
       "    }\n",
       "</style>\n",
       "<table border=\"1\" class=\"dataframe\">\n",
       "  <thead>\n",
       "    <tr style=\"text-align: right;\">\n",
       "      <th></th>\n",
       "      <th>Date</th>\n",
       "      <th>Flights</th>\n",
       "      <th>Temp</th>\n",
       "      <th>Humidity</th>\n",
       "    </tr>\n",
       "  </thead>\n",
       "  <tbody>\n",
       "    <tr>\n",
       "      <th>0</th>\n",
       "      <td>9</td>\n",
       "      <td>913</td>\n",
       "      <td>28</td>\n",
       "      <td>75</td>\n",
       "    </tr>\n",
       "    <tr>\n",
       "      <th>1</th>\n",
       "      <td>10</td>\n",
       "      <td>845</td>\n",
       "      <td>66</td>\n",
       "      <td>72</td>\n",
       "    </tr>\n",
       "    <tr>\n",
       "      <th>2</th>\n",
       "      <td>11</td>\n",
       "      <td>841</td>\n",
       "      <td>50</td>\n",
       "      <td>75</td>\n",
       "    </tr>\n",
       "    <tr>\n",
       "      <th>3</th>\n",
       "      <td>12</td>\n",
       "      <td>941</td>\n",
       "      <td>46</td>\n",
       "      <td>69</td>\n",
       "    </tr>\n",
       "  </tbody>\n",
       "</table>\n",
       "</div>"
      ],
      "text/plain": [
       "   Date  Flights  Temp  Humidity\n",
       "0     9      913    28        75\n",
       "1    10      845    66        72\n",
       "2    11      841    50        75\n",
       "3    12      941    46        69"
      ]
     },
     "execution_count": 380,
     "metadata": {},
     "output_type": "execute_result"
    }
   ],
   "source": [
    "chi_fly_num_data = [[9,913,28,75],[10,845,66,72],[11,841,50,75],[12,941,46,69]]\n",
    "chi_fly_num = pd.DataFrame(chi_fly_freq_num, columns = ['Date','Flights','Temp','Humidity'])\n",
    "chi_fly_num"
   ]
  },
  {
   "cell_type": "markdown",
   "metadata": {},
   "source": [
    "New York City"
   ]
  },
  {
   "cell_type": "code",
   "execution_count": 382,
   "metadata": {},
   "outputs": [
    {
     "data": {
      "text/html": [
       "<div>\n",
       "<style scoped>\n",
       "    .dataframe tbody tr th:only-of-type {\n",
       "        vertical-align: middle;\n",
       "    }\n",
       "\n",
       "    .dataframe tbody tr th {\n",
       "        vertical-align: top;\n",
       "    }\n",
       "\n",
       "    .dataframe thead th {\n",
       "        text-align: right;\n",
       "    }\n",
       "</style>\n",
       "<table border=\"1\" class=\"dataframe\">\n",
       "  <thead>\n",
       "    <tr style=\"text-align: right;\">\n",
       "      <th></th>\n",
       "      <th>Date</th>\n",
       "      <th>Flights</th>\n",
       "      <th>Temp</th>\n",
       "      <th>Humidity</th>\n",
       "    </tr>\n",
       "  </thead>\n",
       "  <tbody>\n",
       "    <tr>\n",
       "      <th>0</th>\n",
       "      <td>9</td>\n",
       "      <td>492</td>\n",
       "      <td>36</td>\n",
       "      <td>61</td>\n",
       "    </tr>\n",
       "    <tr>\n",
       "      <th>1</th>\n",
       "      <td>10</td>\n",
       "      <td>484</td>\n",
       "      <td>65</td>\n",
       "      <td>72</td>\n",
       "    </tr>\n",
       "    <tr>\n",
       "      <th>2</th>\n",
       "      <td>11</td>\n",
       "      <td>477</td>\n",
       "      <td>54</td>\n",
       "      <td>69</td>\n",
       "    </tr>\n",
       "    <tr>\n",
       "      <th>3</th>\n",
       "      <td>12</td>\n",
       "      <td>528</td>\n",
       "      <td>51</td>\n",
       "      <td>68</td>\n",
       "    </tr>\n",
       "  </tbody>\n",
       "</table>\n",
       "</div>"
      ],
      "text/plain": [
       "   Date  Flights  Temp  Humidity\n",
       "0     9      492    36        61\n",
       "1    10      484    65        72\n",
       "2    11      477    54        69\n",
       "3    12      528    51        68"
      ]
     },
     "execution_count": 382,
     "metadata": {},
     "output_type": "execute_result"
    }
   ],
   "source": [
    "nyc_fly_num_data = [[9,492,36,61],[10,484,65,72],[11,477,54,69],[12,528,51,68]]\n",
    "nyc_fly_num = pd.DataFrame(nyc_fly_freq_num, columns = ['Date','Flights','Temp','Humidity'])\n",
    "nyc_fly_num"
   ]
  },
  {
   "cell_type": "markdown",
   "metadata": {},
   "source": [
    "Orlando"
   ]
  },
  {
   "cell_type": "code",
   "execution_count": 386,
   "metadata": {
    "scrolled": true
   },
   "outputs": [
    {
     "data": {
      "text/html": [
       "<div>\n",
       "<style scoped>\n",
       "    .dataframe tbody tr th:only-of-type {\n",
       "        vertical-align: middle;\n",
       "    }\n",
       "\n",
       "    .dataframe tbody tr th {\n",
       "        vertical-align: top;\n",
       "    }\n",
       "\n",
       "    .dataframe thead th {\n",
       "        text-align: right;\n",
       "    }\n",
       "</style>\n",
       "<table border=\"1\" class=\"dataframe\">\n",
       "  <thead>\n",
       "    <tr style=\"text-align: right;\">\n",
       "      <th></th>\n",
       "      <th>Date</th>\n",
       "      <th>Flights</th>\n",
       "      <th>Temp</th>\n",
       "      <th>Humidity</th>\n",
       "    </tr>\n",
       "  </thead>\n",
       "  <tbody>\n",
       "    <tr>\n",
       "      <th>0</th>\n",
       "      <td>9</td>\n",
       "      <td>254</td>\n",
       "      <td>63</td>\n",
       "      <td>77</td>\n",
       "    </tr>\n",
       "    <tr>\n",
       "      <th>1</th>\n",
       "      <td>10</td>\n",
       "      <td>280</td>\n",
       "      <td>81</td>\n",
       "      <td>75</td>\n",
       "    </tr>\n",
       "    <tr>\n",
       "      <th>2</th>\n",
       "      <td>11</td>\n",
       "      <td>327</td>\n",
       "      <td>77</td>\n",
       "      <td>74</td>\n",
       "    </tr>\n",
       "    <tr>\n",
       "      <th>3</th>\n",
       "      <td>12</td>\n",
       "      <td>339</td>\n",
       "      <td>78</td>\n",
       "      <td>72</td>\n",
       "    </tr>\n",
       "  </tbody>\n",
       "</table>\n",
       "</div>"
      ],
      "text/plain": [
       "   Date  Flights  Temp  Humidity\n",
       "0     9      254    63        77\n",
       "1    10      280    81        75\n",
       "2    11      327    77        74\n",
       "3    12      339    78        72"
      ]
     },
     "execution_count": 386,
     "metadata": {},
     "output_type": "execute_result"
    }
   ],
   "source": [
    "orl_fly_num_data = [[9,254,63,77],[10,280,81,75],[11,327,77,74],[12,339,78,72]]\n",
    "orl_fly_num = pd.DataFrame(orl_fly_num_data, columns = ['Date','Flights','Temp','Humidity'])\n",
    "orl_fly_num "
   ]
  },
  {
   "cell_type": "markdown",
   "metadata": {},
   "source": [
    "# GRAPHS "
   ]
  },
  {
   "cell_type": "markdown",
   "metadata": {},
   "source": [
    "This is simply a line plot of weather conditions over the 4 month duration in Los Angeles. Because the changes in Pressure are so small, we chose to eliminate Pressure as a weather factor for any analysis."
   ]
  },
  {
   "cell_type": "code",
   "execution_count": 391,
   "metadata": {},
   "outputs": [
    {
     "data": {
      "text/plain": [
       "<matplotlib.axes._subplots.AxesSubplot at 0x1a401c97f0>"
      ]
     },
     "execution_count": 391,
     "metadata": {},
     "output_type": "execute_result"
    },
    {
     "data": {
      "image/png": "[encoded data removed]",
      "text/plain": [
       "<Figure size 432x288 with 1 Axes>"
      ]
     },
     "metadata": {
      "needs_background": "light"
     },
     "output_type": "display_data"
    },
    {
     "data": {
      "image/png": "[encoded data removed]",
      "text/plain": [
       "<Figure size 432x288 with 1 Axes>"
      ]
     },
     "metadata": {
      "needs_background": "light"
     },
     "output_type": "display_data"
    },
    {
     "data": {
      "image/png": "[encoded data removed]",
      "text/plain": [
       "<Figure size 432x288 with 1 Axes>"
      ]
     },
     "metadata": {
      "needs_background": "light"
     },
     "output_type": "display_data"
    },
    {
     "data": {
      "image/png": "[encoded data removed]",
      "text/plain": [
       "<Figure size 432x288 with 1 Axes>"
      ]
     },
     "metadata": {
      "needs_background": "light"
     },
     "output_type": "display_data"
    },
    {
     "data": {
      "image/png": "[encoded data removed]",
      "text/plain": [
       "<Figure size 432x288 with 1 Axes>"
      ]
     },
     "metadata": {
      "needs_background": "light"
     },
     "output_type": "display_data"
    }
   ],
   "source": [
    "la_we.plot.line()\n",
    "sea_we.plot.line()\n",
    "chi_we.plot.line()\n",
    "nyc_we.plot.line()\n",
    "orl_we.plot.line()"
   ]
  },
  {
   "cell_type": "markdown",
   "metadata": {},
   "source": [
    "These multi-line plots show the change in Flights made to one of our five cities of interest as well as the Temperature and Humidity of said city over Sep.2009-Dec.2009. Even though this is discrete data, the change over time is important and better viewed as a line plot rather than bar plot."
   ]
  },
  {
   "cell_type": "markdown",
   "metadata": {},
   "source": [
    "Los Angeles"
   ]
  },
  {
   "cell_type": "code",
   "execution_count": 401,
   "metadata": {
    "scrolled": false
   },
   "outputs": [
    {
     "data": {
      "text/plain": [
       "<matplotlib.legend.Legend at 0x1a40d63390>"
      ]
     },
     "execution_count": 401,
     "metadata": {},
     "output_type": "execute_result"
    },
    {
     "data": {
      "image/png": "[encoded data removed]",
      "text/plain": [
       "<Figure size 432x288 with 1 Axes>"
      ]
     },
     "metadata": {
      "needs_background": "light"
     },
     "output_type": "display_data"
    }
   ],
   "source": [
    "plt.plot('Date', 'Flights', data=la_fly_freq, marker='o', markerfacecolor='red', markersize=12, color='skyblue', linewidth=4)\n",
    "plt.plot('Date', 'Temp', data=la_fly_freq, marker='o', markerfacecolor='yellow', markersize=12, color='skyblue', linewidth=4)\n",
    "plt.plot('Date', 'Humidity', data=la_fly_freq, marker='o', markerfacecolor='blue', markersize=12, color='skyblue', linewidth=4)\n",
    "plt.legend()"
   ]
  },
  {
   "cell_type": "markdown",
   "metadata": {},
   "source": [
    "Seattle"
   ]
  },
  {
   "cell_type": "code",
   "execution_count": 394,
   "metadata": {},
   "outputs": [
    {
     "data": {
      "text/plain": [
       "<matplotlib.legend.Legend at 0x1a40791908>"
      ]
     },
     "execution_count": 394,
     "metadata": {},
     "output_type": "execute_result"
    },
    {
     "data": {
      "image/png": "[encoded data removed]",
      "text/plain": [
       "<Figure size 432x288 with 1 Axes>"
      ]
     },
     "metadata": {
      "needs_background": "light"
     },
     "output_type": "display_data"
    }
   ],
   "source": [
    "plt.plot('Date', 'Flights', data=sea_fly_freq, marker='o', markerfacecolor='red', markersize=12, color='skyblue', linewidth=4)\n",
    "plt.plot('Date', 'Temp', data=sea_fly_freq, marker='o', markerfacecolor='yellow', markersize=12, color='skyblue', linewidth=4)\n",
    "plt.plot('Date', 'Humidity', data=sea_fly_freq, marker='o', markerfacecolor='blue', markersize=12, color='skyblue', linewidth=4)\n",
    "plt.legend()"
   ]
  },
  {
   "cell_type": "markdown",
   "metadata": {},
   "source": [
    "Chicago"
   ]
  },
  {
   "cell_type": "code",
   "execution_count": 395,
   "metadata": {},
   "outputs": [
    {
     "data": {
      "text/plain": [
       "<matplotlib.legend.Legend at 0x1a40218dd8>"
      ]
     },
     "execution_count": 395,
     "metadata": {},
     "output_type": "execute_result"
    },
    {
     "data": {
      "image/png": "[encoded data removed]",
      "text/plain": [
       "<Figure size 432x288 with 1 Axes>"
      ]
     },
     "metadata": {
      "needs_background": "light"
     },
     "output_type": "display_data"
    }
   ],
   "source": [
    "plt.plot('Date', 'Flights', data=chi_fly_freq, marker='o', markerfacecolor='red', markersize=12, color='skyblue', linewidth=4)\n",
    "plt.plot('Date', 'Temp', data=chi_fly_freq, marker='o', markerfacecolor='yellow', markersize=12, color='skyblue', linewidth=4)\n",
    "plt.plot('Date', 'Humidity', data=chi_fly_freq, marker='o', markerfacecolor='blue', markersize=12, color='skyblue', linewidth=4)\n",
    "plt.legend()"
   ]
  },
  {
   "cell_type": "markdown",
   "metadata": {},
   "source": [
    "New York City"
   ]
  },
  {
   "cell_type": "code",
   "execution_count": 397,
   "metadata": {},
   "outputs": [
    {
     "data": {
      "text/plain": [
       "<matplotlib.legend.Legend at 0x1a40ac9b70>"
      ]
     },
     "execution_count": 397,
     "metadata": {},
     "output_type": "execute_result"
    },
    {
     "data": {
      "image/png": "[encoded data removed]",
      "text/plain": [
       "<Figure size 432x288 with 1 Axes>"
      ]
     },
     "metadata": {
      "needs_background": "light"
     },
     "output_type": "display_data"
    }
   ],
   "source": [
    "plt.plot('Date', 'Flights', data=nyc_fly_freq, marker='o', markerfacecolor='red', markersize=12, color='skyblue', linewidth=4)\n",
    "plt.plot('Date', 'Temp', data=nyc_fly_freq, marker='o', markerfacecolor='yellow', markersize=12, color='skyblue', linewidth=4)\n",
    "plt.plot('Date', 'Humidity', data=nyc_fly_freq, marker='o', markerfacecolor='blue', markersize=12, color='skyblue', linewidth=4)\n",
    "plt.legend()"
   ]
  },
  {
   "cell_type": "markdown",
   "metadata": {},
   "source": [
    "Orlando"
   ]
  },
  {
   "cell_type": "code",
   "execution_count": 399,
   "metadata": {},
   "outputs": [
    {
     "data": {
      "text/plain": [
       "<matplotlib.legend.Legend at 0x1a40b52da0>"
      ]
     },
     "execution_count": 399,
     "metadata": {},
     "output_type": "execute_result"
    },
    {
     "data": {
      "image/png": "[encoded data removed]",
      "text/plain": [
       "<Figure size 432x288 with 1 Axes>"
      ]
     },
     "metadata": {
      "needs_background": "light"
     },
     "output_type": "display_data"
    }
   ],
   "source": [
    "plt.plot('Date', 'Flights', data=orl_fly_freq, marker='o', markerfacecolor='red', markersize=12, color='skyblue', linewidth=4)\n",
    "plt.plot('Date', 'Temp', data=orl_fly_freq, marker='o', markerfacecolor='yellow', markersize=12, color='skyblue', linewidth=4)\n",
    "plt.plot('Date', 'Humidity', data=orl_fly_freq, marker='o', markerfacecolor='blue', markersize=12, color='skyblue', linewidth=4)\n",
    "plt.legend()"
   ]
  },
  {
   "cell_type": "markdown",
   "metadata": {},
   "source": [
    "These are scatterplots for the distances traveled to each Destination City for each month. We added a small amount of jitter to the distribution so that density could be better observed. \n",
    "\n",
    "We added Distance as a possible influence on flight numbers because there was such little data to use for weather conditions."
   ]
  },
  {
   "cell_type": "markdown",
   "metadata": {},
   "source": [
    "Los Angeles"
   ]
  },
  {
   "cell_type": "markdown",
   "metadata": {},
   "source": [
    "Los Angeles looks fairly consisent across distances, with some higher density at further origin cities over 'middle' distances. Los Angeles is a very popular  tourist destination and is known for enjoyable weather."
   ]
  },
  {
   "cell_type": "code",
   "execution_count": 334,
   "metadata": {
    "scrolled": true
   },
   "outputs": [
    {
     "data": {
      "text/plain": [
       "<seaborn.axisgrid.FacetGrid at 0x1a3f43f780>"
      ]
     },
     "execution_count": 334,
     "metadata": {},
     "output_type": "execute_result"
    },
    {
     "data": {
      "image/png": "[encoded data removed]",
      "text/plain": [
       "<Figure size 864x432 with 1 Axes>"
      ]
     },
     "metadata": {
      "needs_background": "light"
     },
     "output_type": "display_data"
    }
   ],
   "source": [
    "sns.lmplot(x='Fly_date', y='Distance', data=la_df, \n",
    "           fit_reg=False, height=6, aspect=2, x_jitter = 0.1)"
   ]
  },
  {
   "cell_type": "markdown",
   "metadata": {},
   "source": [
    "Seattle"
   ]
  },
  {
   "cell_type": "markdown",
   "metadata": {},
   "source": [
    "Seattle looks reasonably consistent across distances but a noticeable drop off in far distances. The most popular origin city was Portland, so it may be a good argument that international trips to Seattle are much less common than domestic."
   ]
  },
  {
   "cell_type": "code",
   "execution_count": 216,
   "metadata": {
    "scrolled": false
   },
   "outputs": [
    {
     "data": {
      "text/plain": [
       "<seaborn.axisgrid.FacetGrid at 0x1a39cfed68>"
      ]
     },
     "execution_count": 216,
     "metadata": {},
     "output_type": "execute_result"
    },
    {
     "data": {
      "image/png": "[encoded data removed]",
      "text/plain": [
       "<Figure size 864x432 with 1 Axes>"
      ]
     },
     "metadata": {},
     "output_type": "display_data"
    }
   ],
   "source": [
    "sns.lmplot(x='Fly_date', y='Distance', data=sea_df, \n",
    "           fit_reg=False, height=6, aspect=2,x_jitter = 0.1)"
   ]
  },
  {
   "cell_type": "markdown",
   "metadata": {},
   "source": [
    "Chicago"
   ]
  },
  {
   "cell_type": "markdown",
   "metadata": {},
   "source": [
    "Few flights were made to Chicago from far distances. A few flights from Hawaii look like outliers in the data, but flights from Anchorage made up the third highest amount of flights to Chicago."
   ]
  },
  {
   "cell_type": "code",
   "execution_count": 241,
   "metadata": {
    "scrolled": true
   },
   "outputs": [
    {
     "data": {
      "text/plain": [
       "<seaborn.axisgrid.FacetGrid at 0x1a346cda90>"
      ]
     },
     "execution_count": 241,
     "metadata": {},
     "output_type": "execute_result"
    },
    {
     "data": {
      "image/png": "[encoded data removed]",
      "text/plain": [
       "<Figure size 864x432 with 1 Axes>"
      ]
     },
     "metadata": {},
     "output_type": "display_data"
    }
   ],
   "source": [
    "sns.lmplot(x='Fly_date', y='Distance', data=ch_df, \n",
    "           fit_reg=False, height=6, aspect=2,x_jitter = 0.1)"
   ]
  },
  {
   "cell_type": "markdown",
   "metadata": {},
   "source": [
    "New York City"
   ]
  },
  {
   "cell_type": "markdown",
   "metadata": {},
   "source": [
    "New York City -- a clear high density of domestic flights, but noticeably more international flights than Chicago. It looks like there are certain sweet spots in the higher distances that may be popular regions to leave for New York City.  "
   ]
  },
  {
   "cell_type": "code",
   "execution_count": 226,
   "metadata": {
    "scrolled": true
   },
   "outputs": [
    {
     "data": {
      "image/png": "[encoded data removed]",
      "text/plain": [
       "<Figure size 864x432 with 1 Axes>"
      ]
     },
     "metadata": {},
     "output_type": "display_data"
    }
   ],
   "source": [
    "sns.lmplot(x='Fly_date', y='Distance', data=ny_df, \n",
    "           fit_reg=False, height=6, aspect=2,x_jitter = 0.1)\n",
    "sns.lmplot?"
   ]
  },
  {
   "cell_type": "markdown",
   "metadata": {},
   "source": [
    "Orlando"
   ]
  },
  {
   "cell_type": "markdown",
   "metadata": {},
   "source": [
    "Orlando looks like there is a sweet spot somewhere around 500 and ~1300 miles. Orlando is a more popular destination for regional flights than cross country?"
   ]
  },
  {
   "cell_type": "code",
   "execution_count": 219,
   "metadata": {
    "scrolled": true
   },
   "outputs": [
    {
     "data": {
      "text/plain": [
       "<seaborn.axisgrid.FacetGrid at 0x1a3a565550>"
      ]
     },
     "execution_count": 219,
     "metadata": {},
     "output_type": "execute_result"
    },
    {
     "data": {
      "image/png": "[encoded data removed]",
      "text/plain": [
       "<Figure size 864x432 with 1 Axes>"
      ]
     },
     "metadata": {},
     "output_type": "display_data"
    }
   ],
   "source": [
    "sns.lmplot(x='Fly_date', y='Distance', data=orl_df, \n",
    "           fit_reg=False, height=6, aspect=2,x_jitter = 0.1)"
   ]
  },
  {
   "cell_type": "code",
   "execution_count": 255,
   "metadata": {},
   "outputs": [
    {
     "data": {
      "text/plain": [
       "Los Angeles, CA       28\n",
       "Phoenix, AZ           20\n",
       "Las Vegas, NV         12\n",
       "                      ..\n",
       "Salt Lake City, UT     8\n",
       "Seattle, WA            5\n",
       "Fargo, ND              3\n",
       "Name: Origin_city, Length: 8, dtype: int64"
      ]
     },
     "execution_count": 255,
     "metadata": {},
     "output_type": "execute_result"
    }
   ],
   "source": [
    "orl_df['Origin_city'].loc[orl_df['Distance'] > 1500].value_counts()"
   ]
  },
  {
   "cell_type": "code",
   "execution_count": 256,
   "metadata": {},
   "outputs": [
    {
     "data": {
      "text/plain": [
       "Washington, DC       55\n",
       "Philadelphia, PA     47\n",
       "Houston, TX          45\n",
       "                     ..\n",
       "Oklahoma City, OK     1\n",
       "Savannah, GA          1\n",
       "Hattiesburg, MS       1\n",
       "Name: Origin_city, Length: 103, dtype: int64"
      ]
     },
     "execution_count": 256,
     "metadata": {},
     "output_type": "execute_result"
    }
   ],
   "source": [
    "orl_df['Origin_city'].loc[orl_df['Distance'] < 1500].value_counts()"
   ]
  },
  {
   "cell_type": "markdown",
   "metadata": {},
   "source": [
    "Looks like the west coast travels far less to Orlando in this time period than the rest of the country."
   ]
  },
  {
   "cell_type": "markdown",
   "metadata": {},
   "source": [
    "# STATISTICAL ANALYSIS"
   ]
  },
  {
   "cell_type": "markdown",
   "metadata": {},
   "source": [
    "Los Angeles"
   ]
  },
  {
   "cell_type": "code",
   "execution_count": 358,
   "metadata": {
    "scrolled": true
   },
   "outputs": [
    {
     "name": "stdout",
     "output_type": "stream",
     "text": [
      "                            OLS Regression Results                            \n",
      "==============================================================================\n",
      "Dep. Variable:                   Temp   R-squared:                       0.021\n",
      "Model:                            OLS   Adj. R-squared:                 -0.469\n",
      "Method:                 Least Squares   F-statistic:                   0.04244\n",
      "Date:                Fri, 07 Jun 2019   Prob (F-statistic):              0.856\n",
      "Time:                        17:24:40   Log-Likelihood:                -12.518\n",
      "No. Observations:                   4   AIC:                             29.04\n",
      "Df Residuals:                       2   BIC:                             27.81\n",
      "Df Model:                           1                                         \n",
      "Covariance Type:            nonrobust                                         \n",
      "==============================================================================\n",
      "                 coef    std err          t      P>|t|      [0.025      0.975]\n",
      "------------------------------------------------------------------------------\n",
      "Intercept     53.8245     51.971      1.036      0.409    -169.787     277.436\n",
      "Flights        0.0273      0.133      0.206      0.856      -0.544       0.598\n",
      "==============================================================================\n",
      "Omnibus:                          nan   Durbin-Watson:                   2.198\n",
      "Prob(Omnibus):                    nan   Jarque-Bera (JB):                0.411\n",
      "Skew:                           0.223   Prob(JB):                        0.814\n",
      "Kurtosis:                       1.495   Cond. No.                     5.20e+03\n",
      "==============================================================================\n",
      "\n",
      "Warnings:\n",
      "[1] Standard Errors assume that the covariance matrix of the errors is correctly specified.\n",
      "[2] The condition number is large, 5.2e+03. This might indicate that there are\n",
      "strong multicollinearity or other numerical problems.\n"
     ]
    },
    {
     "name": "stderr",
     "output_type": "stream",
     "text": [
      "/Users/Robbie/anaconda3/lib/python3.7/site-packages/statsmodels/stats/stattools.py:72: ValueWarning: omni_normtest is not valid with less than 8 observations; 4 samples were given.\n",
      "  \"samples were given.\" % int(n), ValueWarning)\n"
     ]
    }
   ],
   "source": [
    "outcome, predictors = patsy.dmatrices('Temp ~ Flights', la_fly_freq)\n",
    "mod = sm.OLS(outcome, predictors)\n",
    "res = mod.fit()\n",
    "print(res.summary())"
   ]
  },
  {
   "cell_type": "code",
   "execution_count": 405,
   "metadata": {},
   "outputs": [
    {
     "name": "stdout",
     "output_type": "stream",
     "text": [
      "                            OLS Regression Results                            \n",
      "==============================================================================\n",
      "Dep. Variable:               Humidity   R-squared:                       0.168\n",
      "Model:                            OLS   Adj. R-squared:                 -0.248\n",
      "Method:                 Least Squares   F-statistic:                    0.4042\n",
      "Date:                Fri, 07 Jun 2019   Prob (F-statistic):              0.590\n",
      "Time:                        18:58:48   Log-Likelihood:                -11.268\n",
      "No. Observations:                   4   AIC:                             26.54\n",
      "Df Residuals:                       2   BIC:                             25.31\n",
      "Df Model:                           1                                         \n",
      "Covariance Type:            nonrobust                                         \n",
      "==============================================================================\n",
      "                 coef    std err          t      P>|t|      [0.025      0.975]\n",
      "------------------------------------------------------------------------------\n",
      "Intercept     85.3542     38.020      2.245      0.154     -78.234     248.942\n",
      "Flights       -0.0617      0.097     -0.636      0.590      -0.479       0.356\n",
      "==============================================================================\n",
      "Omnibus:                          nan   Durbin-Watson:                   2.372\n",
      "Prob(Omnibus):                    nan   Jarque-Bera (JB):                0.408\n",
      "Skew:                           0.512   Prob(JB):                        0.815\n",
      "Kurtosis:                       1.817   Cond. No.                     5.20e+03\n",
      "==============================================================================\n",
      "\n",
      "Warnings:\n",
      "[1] Standard Errors assume that the covariance matrix of the errors is correctly specified.\n",
      "[2] The condition number is large, 5.2e+03. This might indicate that there are\n",
      "strong multicollinearity or other numerical problems.\n"
     ]
    },
    {
     "name": "stderr",
     "output_type": "stream",
     "text": [
      "/Users/Robbie/anaconda3/lib/python3.7/site-packages/statsmodels/stats/stattools.py:72: ValueWarning: omni_normtest is not valid with less than 8 observations; 4 samples were given.\n",
      "  \"samples were given.\" % int(n), ValueWarning)\n"
     ]
    }
   ],
   "source": [
    "outcome, predictors = patsy.dmatrices('Humidity ~ Flights', la_fly_freq)\n",
    "mod = sm.OLS(outcome, predictors)\n",
    "res = mod.fit()\n",
    "print(res.summary())"
   ]
  },
  {
   "cell_type": "markdown",
   "metadata": {},
   "source": [
    "Seattle"
   ]
  },
  {
   "cell_type": "code",
   "execution_count": 373,
   "metadata": {
    "scrolled": true
   },
   "outputs": [
    {
     "name": "stdout",
     "output_type": "stream",
     "text": [
      "                            OLS Regression Results                            \n",
      "==============================================================================\n",
      "Dep. Variable:                   Temp   R-squared:                       0.489\n",
      "Model:                            OLS   Adj. R-squared:                  0.233\n",
      "Method:                 Least Squares   F-statistic:                     1.911\n",
      "Date:                Fri, 07 Jun 2019   Prob (F-statistic):              0.301\n",
      "Time:                        17:47:01   Log-Likelihood:                -13.165\n",
      "No. Observations:                   4   AIC:                             30.33\n",
      "Df Residuals:                       2   BIC:                             29.10\n",
      "Df Model:                           1                                         \n",
      "Covariance Type:            nonrobust                                         \n",
      "==============================================================================\n",
      "                 coef    std err          t      P>|t|      [0.025      0.975]\n",
      "------------------------------------------------------------------------------\n",
      "Intercept    200.0546    108.469      1.844      0.206    -266.649     666.758\n",
      "Flights       -0.5130      0.371     -1.382      0.301      -2.110       1.084\n",
      "==============================================================================\n",
      "Omnibus:                          nan   Durbin-Watson:                   2.059\n",
      "Prob(Omnibus):                    nan   Jarque-Bera (JB):                0.505\n",
      "Skew:                           0.241   Prob(JB):                        0.777\n",
      "Kurtosis:                       1.327   Cond. No.                     6.89e+03\n",
      "==============================================================================\n",
      "\n",
      "Warnings:\n",
      "[1] Standard Errors assume that the covariance matrix of the errors is correctly specified.\n",
      "[2] The condition number is large, 6.89e+03. This might indicate that there are\n",
      "strong multicollinearity or other numerical problems.\n"
     ]
    },
    {
     "name": "stderr",
     "output_type": "stream",
     "text": [
      "/Users/Robbie/anaconda3/lib/python3.7/site-packages/statsmodels/stats/stattools.py:72: ValueWarning: omni_normtest is not valid with less than 8 observations; 4 samples were given.\n",
      "  \"samples were given.\" % int(n), ValueWarning)\n"
     ]
    }
   ],
   "source": [
    "outcome, predictors = patsy.dmatrices('Temp ~ Flights', sea_fly_freq)\n",
    "mod = sm.OLS(outcome, predictors)\n",
    "res = mod.fit()\n",
    "print(res.summary())"
   ]
  },
  {
   "cell_type": "code",
   "execution_count": 406,
   "metadata": {},
   "outputs": [
    {
     "name": "stdout",
     "output_type": "stream",
     "text": [
      "                            OLS Regression Results                            \n",
      "==============================================================================\n",
      "Dep. Variable:               Humidity   R-squared:                       0.237\n",
      "Model:                            OLS   Adj. R-squared:                 -0.144\n",
      "Method:                 Least Squares   F-statistic:                    0.6215\n",
      "Date:                Fri, 07 Jun 2019   Prob (F-statistic):              0.513\n",
      "Time:                        18:58:56   Log-Likelihood:                -10.616\n",
      "No. Observations:                   4   AIC:                             25.23\n",
      "Df Residuals:                       2   BIC:                             24.01\n",
      "Df Model:                           1                                         \n",
      "Covariance Type:            nonrobust                                         \n",
      "==============================================================================\n",
      "                 coef    std err          t      P>|t|      [0.025      0.975]\n",
      "------------------------------------------------------------------------------\n",
      "Intercept     28.8208     57.360      0.502      0.665    -217.980     275.622\n",
      "Flights        0.1547      0.196      0.788      0.513      -0.690       0.999\n",
      "==============================================================================\n",
      "Omnibus:                          nan   Durbin-Watson:                   1.095\n",
      "Prob(Omnibus):                    nan   Jarque-Bera (JB):                0.703\n",
      "Skew:                           0.945   Prob(JB):                        0.703\n",
      "Kurtosis:                       2.194   Cond. No.                     6.89e+03\n",
      "==============================================================================\n",
      "\n",
      "Warnings:\n",
      "[1] Standard Errors assume that the covariance matrix of the errors is correctly specified.\n",
      "[2] The condition number is large, 6.89e+03. This might indicate that there are\n",
      "strong multicollinearity or other numerical problems.\n"
     ]
    },
    {
     "name": "stderr",
     "output_type": "stream",
     "text": [
      "/Users/Robbie/anaconda3/lib/python3.7/site-packages/statsmodels/stats/stattools.py:72: ValueWarning: omni_normtest is not valid with less than 8 observations; 4 samples were given.\n",
      "  \"samples were given.\" % int(n), ValueWarning)\n"
     ]
    }
   ],
   "source": [
    "outcome, predictors = patsy.dmatrices('Humidity ~ Flights', sea_fly_freq)\n",
    "mod = sm.OLS(outcome, predictors)\n",
    "res = mod.fit()\n",
    "print(res.summary())"
   ]
  },
  {
   "cell_type": "markdown",
   "metadata": {},
   "source": [
    "Chicago"
   ]
  },
  {
   "cell_type": "code",
   "execution_count": 402,
   "metadata": {},
   "outputs": [
    {
     "name": "stdout",
     "output_type": "stream",
     "text": [
      "                            OLS Regression Results                            \n",
      "==============================================================================\n",
      "Dep. Variable:                   Temp   R-squared:                       0.402\n",
      "Model:                            OLS   Adj. R-squared:                  0.103\n",
      "Method:                 Least Squares   F-statistic:                     1.344\n",
      "Date:                Fri, 07 Jun 2019   Prob (F-statistic):              0.366\n",
      "Time:                        18:57:20   Log-Likelihood:                -15.064\n",
      "No. Observations:                   4   AIC:                             34.13\n",
      "Df Residuals:                       2   BIC:                             32.90\n",
      "Df Model:                           1                                         \n",
      "Covariance Type:            nonrobust                                         \n",
      "==============================================================================\n",
      "                 coef    std err          t      P>|t|      [0.025      0.975]\n",
      "------------------------------------------------------------------------------\n",
      "Intercept    223.1706    151.720      1.471      0.279    -429.628     875.969\n",
      "Flights       -0.1985      0.171     -1.159      0.366      -0.935       0.538\n",
      "==============================================================================\n",
      "Omnibus:                          nan   Durbin-Watson:                   2.593\n",
      "Prob(Omnibus):                    nan   Jarque-Bera (JB):                0.529\n",
      "Skew:                          -0.194   Prob(JB):                        0.768\n",
      "Kurtosis:                       1.261   Cond. No.                     1.82e+04\n",
      "==============================================================================\n",
      "\n",
      "Warnings:\n",
      "[1] Standard Errors assume that the covariance matrix of the errors is correctly specified.\n",
      "[2] The condition number is large, 1.82e+04. This might indicate that there are\n",
      "strong multicollinearity or other numerical problems.\n"
     ]
    },
    {
     "name": "stderr",
     "output_type": "stream",
     "text": [
      "/Users/Robbie/anaconda3/lib/python3.7/site-packages/statsmodels/stats/stattools.py:72: ValueWarning: omni_normtest is not valid with less than 8 observations; 4 samples were given.\n",
      "  \"samples were given.\" % int(n), ValueWarning)\n"
     ]
    }
   ],
   "source": [
    "outcome, predictors = patsy.dmatrices('Temp ~ Flights', chi_fly_freq)\n",
    "mod = sm.OLS(outcome, predictors)\n",
    "res = mod.fit()\n",
    "print(res.summary())"
   ]
  },
  {
   "cell_type": "code",
   "execution_count": 407,
   "metadata": {},
   "outputs": [
    {
     "name": "stdout",
     "output_type": "stream",
     "text": [
      "                            OLS Regression Results                            \n",
      "==============================================================================\n",
      "Dep. Variable:               Humidity   R-squared:                       0.253\n",
      "Model:                            OLS   Adj. R-squared:                 -0.121\n",
      "Method:                 Least Squares   F-statistic:                    0.6768\n",
      "Date:                Fri, 07 Jun 2019   Prob (F-statistic):              0.497\n",
      "Time:                        18:59:55   Log-Likelihood:                -8.7379\n",
      "No. Observations:                   4   AIC:                             21.48\n",
      "Df Residuals:                       2   BIC:                             20.25\n",
      "Df Model:                           1                                         \n",
      "Covariance Type:            nonrobust                                         \n",
      "==============================================================================\n",
      "                 coef    std err          t      P>|t|      [0.025      0.975]\n",
      "------------------------------------------------------------------------------\n",
      "Intercept     98.3884     31.202      3.153      0.088     -35.865     232.642\n",
      "Flights       -0.0290      0.035     -0.823      0.497      -0.180       0.123\n",
      "==============================================================================\n",
      "Omnibus:                          nan   Durbin-Watson:                   2.306\n",
      "Prob(Omnibus):                    nan   Jarque-Bera (JB):                0.481\n",
      "Skew:                           0.328   Prob(JB):                        0.786\n",
      "Kurtosis:                       1.433   Cond. No.                     1.82e+04\n",
      "==============================================================================\n",
      "\n",
      "Warnings:\n",
      "[1] Standard Errors assume that the covariance matrix of the errors is correctly specified.\n",
      "[2] The condition number is large, 1.82e+04. This might indicate that there are\n",
      "strong multicollinearity or other numerical problems.\n"
     ]
    },
    {
     "name": "stderr",
     "output_type": "stream",
     "text": [
      "/Users/Robbie/anaconda3/lib/python3.7/site-packages/statsmodels/stats/stattools.py:72: ValueWarning: omni_normtest is not valid with less than 8 observations; 4 samples were given.\n",
      "  \"samples were given.\" % int(n), ValueWarning)\n"
     ]
    }
   ],
   "source": [
    "outcome, predictors = patsy.dmatrices('Humidity ~ Flights', chi_fly_freq)\n",
    "mod = sm.OLS(outcome, predictors)\n",
    "res = mod.fit()\n",
    "print(res.summary())"
   ]
  },
  {
   "cell_type": "markdown",
   "metadata": {},
   "source": [
    "New York City"
   ]
  },
  {
   "cell_type": "code",
   "execution_count": 403,
   "metadata": {},
   "outputs": [
    {
     "name": "stdout",
     "output_type": "stream",
     "text": [
      "                            OLS Regression Results                            \n",
      "==============================================================================\n",
      "Dep. Variable:                   Temp   R-squared:                       0.396\n",
      "Model:                            OLS   Adj. R-squared:                  0.094\n",
      "Method:                 Least Squares   F-statistic:                     1.310\n",
      "Date:                Fri, 07 Jun 2019   Prob (F-statistic):              0.371\n",
      "Time:                        18:57:25   Log-Likelihood:                -12.418\n",
      "No. Observations:                   4   AIC:                             28.84\n",
      "Df Residuals:                       2   BIC:                             27.61\n",
      "Df Model:                           1                                         \n",
      "Covariance Type:            nonrobust                                         \n",
      "==============================================================================\n",
      "                 coef    std err          t      P>|t|      [0.025      0.975]\n",
      "------------------------------------------------------------------------------\n",
      "Intercept     36.7936     33.379      1.102      0.385    -106.823     180.411\n",
      "Flights        0.1265      0.111      1.145      0.371      -0.349       0.602\n",
      "==============================================================================\n",
      "Omnibus:                          nan   Durbin-Watson:                   2.710\n",
      "Prob(Omnibus):                    nan   Jarque-Bera (JB):                0.489\n",
      "Skew:                           0.735   Prob(JB):                        0.783\n",
      "Kurtosis:                       2.121   Cond. No.                     2.64e+03\n",
      "==============================================================================\n",
      "\n",
      "Warnings:\n",
      "[1] Standard Errors assume that the covariance matrix of the errors is correctly specified.\n",
      "[2] The condition number is large, 2.64e+03. This might indicate that there are\n",
      "strong multicollinearity or other numerical problems.\n"
     ]
    },
    {
     "name": "stderr",
     "output_type": "stream",
     "text": [
      "/Users/Robbie/anaconda3/lib/python3.7/site-packages/statsmodels/stats/stattools.py:72: ValueWarning: omni_normtest is not valid with less than 8 observations; 4 samples were given.\n",
      "  \"samples were given.\" % int(n), ValueWarning)\n"
     ]
    }
   ],
   "source": [
    "outcome, predictors = patsy.dmatrices('Temp ~ Flights', nyc_fly_freq)\n",
    "mod = sm.OLS(outcome, predictors)\n",
    "res = mod.fit()\n",
    "print(res.summary())"
   ]
  },
  {
   "cell_type": "code",
   "execution_count": 408,
   "metadata": {},
   "outputs": [
    {
     "name": "stdout",
     "output_type": "stream",
     "text": [
      "                            OLS Regression Results                            \n",
      "==============================================================================\n",
      "Dep. Variable:               Humidity   R-squared:                       0.899\n",
      "Model:                            OLS   Adj. R-squared:                  0.848\n",
      "Method:                 Least Squares   F-statistic:                     17.79\n",
      "Date:                Fri, 07 Jun 2019   Prob (F-statistic):             0.0519\n",
      "Time:                        19:00:11   Log-Likelihood:                -3.4491\n",
      "No. Observations:                   4   AIC:                             10.90\n",
      "Df Residuals:                       2   BIC:                             9.671\n",
      "Df Model:                           1                                         \n",
      "Covariance Type:            nonrobust                                         \n",
      "==============================================================================\n",
      "                 coef    std err          t      P>|t|      [0.025      0.975]\n",
      "------------------------------------------------------------------------------\n",
      "Intercept     89.3552      3.545     25.203      0.002      74.101     104.610\n",
      "Flights       -0.0495      0.012     -4.218      0.052      -0.100       0.001\n",
      "==============================================================================\n",
      "Omnibus:                          nan   Durbin-Watson:                   3.231\n",
      "Prob(Omnibus):                    nan   Jarque-Bera (JB):                0.468\n",
      "Skew:                           0.392   Prob(JB):                        0.791\n",
      "Kurtosis:                       1.519   Cond. No.                     2.64e+03\n",
      "==============================================================================\n",
      "\n",
      "Warnings:\n",
      "[1] Standard Errors assume that the covariance matrix of the errors is correctly specified.\n",
      "[2] The condition number is large, 2.64e+03. This might indicate that there are\n",
      "strong multicollinearity or other numerical problems.\n"
     ]
    },
    {
     "name": "stderr",
     "output_type": "stream",
     "text": [
      "/Users/Robbie/anaconda3/lib/python3.7/site-packages/statsmodels/stats/stattools.py:72: ValueWarning: omni_normtest is not valid with less than 8 observations; 4 samples were given.\n",
      "  \"samples were given.\" % int(n), ValueWarning)\n"
     ]
    }
   ],
   "source": [
    "outcome, predictors = patsy.dmatrices('Humidity ~ Flights', nyc_fly_freq)\n",
    "mod = sm.OLS(outcome, predictors)\n",
    "res = mod.fit()\n",
    "print(res.summary())"
   ]
  },
  {
   "cell_type": "markdown",
   "metadata": {},
   "source": [
    "Orlando"
   ]
  },
  {
   "cell_type": "code",
   "execution_count": 404,
   "metadata": {},
   "outputs": [
    {
     "name": "stdout",
     "output_type": "stream",
     "text": [
      "                            OLS Regression Results                            \n",
      "==============================================================================\n",
      "Dep. Variable:                   Temp   R-squared:                       0.396\n",
      "Model:                            OLS   Adj. R-squared:                  0.094\n",
      "Method:                 Least Squares   F-statistic:                     1.310\n",
      "Date:                Fri, 07 Jun 2019   Prob (F-statistic):              0.371\n",
      "Time:                        18:57:28   Log-Likelihood:                -12.418\n",
      "No. Observations:                   4   AIC:                             28.84\n",
      "Df Residuals:                       2   BIC:                             27.61\n",
      "Df Model:                           1                                         \n",
      "Covariance Type:            nonrobust                                         \n",
      "==============================================================================\n",
      "                 coef    std err          t      P>|t|      [0.025      0.975]\n",
      "------------------------------------------------------------------------------\n",
      "Intercept     36.7936     33.379      1.102      0.385    -106.823     180.411\n",
      "Flights        0.1265      0.111      1.145      0.371      -0.349       0.602\n",
      "==============================================================================\n",
      "Omnibus:                          nan   Durbin-Watson:                   2.710\n",
      "Prob(Omnibus):                    nan   Jarque-Bera (JB):                0.489\n",
      "Skew:                           0.735   Prob(JB):                        0.783\n",
      "Kurtosis:                       2.121   Cond. No.                     2.64e+03\n",
      "==============================================================================\n",
      "\n",
      "Warnings:\n",
      "[1] Standard Errors assume that the covariance matrix of the errors is correctly specified.\n",
      "[2] The condition number is large, 2.64e+03. This might indicate that there are\n",
      "strong multicollinearity or other numerical problems.\n"
     ]
    },
    {
     "name": "stderr",
     "output_type": "stream",
     "text": [
      "/Users/Robbie/anaconda3/lib/python3.7/site-packages/statsmodels/stats/stattools.py:72: ValueWarning: omni_normtest is not valid with less than 8 observations; 4 samples were given.\n",
      "  \"samples were given.\" % int(n), ValueWarning)\n"
     ]
    }
   ],
   "source": [
    "outcome, predictors = patsy.dmatrices('Temp ~ Flights', orl_fly_freq)\n",
    "mod = sm.OLS(outcome, predictors)\n",
    "res = mod.fit()\n",
    "print(res.summary())"
   ]
  },
  {
   "cell_type": "code",
   "execution_count": 411,
   "metadata": {},
   "outputs": [
    {
     "name": "stdout",
     "output_type": "stream",
     "text": [
      "                            OLS Regression Results                            \n",
      "==============================================================================\n",
      "Dep. Variable:               Humidity   R-squared:                       0.899\n",
      "Model:                            OLS   Adj. R-squared:                  0.848\n",
      "Method:                 Least Squares   F-statistic:                     17.79\n",
      "Date:                Fri, 07 Jun 2019   Prob (F-statistic):             0.0519\n",
      "Time:                        19:02:54   Log-Likelihood:                -3.4491\n",
      "No. Observations:                   4   AIC:                             10.90\n",
      "Df Residuals:                       2   BIC:                             9.671\n",
      "Df Model:                           1                                         \n",
      "Covariance Type:            nonrobust                                         \n",
      "==============================================================================\n",
      "                 coef    std err          t      P>|t|      [0.025      0.975]\n",
      "------------------------------------------------------------------------------\n",
      "Intercept     89.3552      3.545     25.203      0.002      74.101     104.610\n",
      "Flights       -0.0495      0.012     -4.218      0.052      -0.100       0.001\n",
      "==============================================================================\n",
      "Omnibus:                          nan   Durbin-Watson:                   3.231\n",
      "Prob(Omnibus):                    nan   Jarque-Bera (JB):                0.468\n",
      "Skew:                           0.392   Prob(JB):                        0.791\n",
      "Kurtosis:                       1.519   Cond. No.                     2.64e+03\n",
      "==============================================================================\n",
      "\n",
      "Warnings:\n",
      "[1] Standard Errors assume that the covariance matrix of the errors is correctly specified.\n",
      "[2] The condition number is large, 2.64e+03. This might indicate that there are\n",
      "strong multicollinearity or other numerical problems.\n"
     ]
    },
    {
     "name": "stderr",
     "output_type": "stream",
     "text": [
      "/Users/Robbie/anaconda3/lib/python3.7/site-packages/statsmodels/stats/stattools.py:72: ValueWarning: omni_normtest is not valid with less than 8 observations; 4 samples were given.\n",
      "  \"samples were given.\" % int(n), ValueWarning)\n"
     ]
    }
   ],
   "source": [
    "outcome, predictors = patsy.dmatrices('Humidity ~ Flights', orl_fly_freq)\n",
    "mod = sm.OLS(outcome, predictors)\n",
    "res = mod.fit()\n",
    "print(res.summary())"
   ]
  },
  {
   "cell_type": "markdown",
   "metadata": {},
   "source": [
    "It is is important to note that due to the incredible small number of observations these extreme R-squared values are hard to take seriously. Note the Adj. R-squared values and their drastic changes in some cases.\n",
    "\n",
    "If we aggregate the frequency flight tables into one though, will there be a more signifcant statistical analysis?"
   ]
  },
  {
   "cell_type": "code",
   "execution_count": 418,
   "metadata": {},
   "outputs": [
    {
     "data": {
      "text/html": [
       "<div>\n",
       "<style scoped>\n",
       "    .dataframe tbody tr th:only-of-type {\n",
       "        vertical-align: middle;\n",
       "    }\n",
       "\n",
       "    .dataframe tbody tr th {\n",
       "        vertical-align: top;\n",
       "    }\n",
       "\n",
       "    .dataframe thead th {\n",
       "        text-align: right;\n",
       "    }\n",
       "</style>\n",
       "<table border=\"1\" class=\"dataframe\">\n",
       "  <thead>\n",
       "    <tr style=\"text-align: right;\">\n",
       "      <th></th>\n",
       "      <th>Date</th>\n",
       "      <th>Flights</th>\n",
       "      <th>Temp</th>\n",
       "      <th>Humidity</th>\n",
       "    </tr>\n",
       "  </thead>\n",
       "  <tbody>\n",
       "    <tr>\n",
       "      <th>0</th>\n",
       "      <td>9</td>\n",
       "      <td>354</td>\n",
       "      <td>57</td>\n",
       "      <td>59</td>\n",
       "    </tr>\n",
       "    <tr>\n",
       "      <th>1</th>\n",
       "      <td>10</td>\n",
       "      <td>382</td>\n",
       "      <td>72</td>\n",
       "      <td>68</td>\n",
       "    </tr>\n",
       "    <tr>\n",
       "      <th>2</th>\n",
       "      <td>11</td>\n",
       "      <td>390</td>\n",
       "      <td>67</td>\n",
       "      <td>62</td>\n",
       "    </tr>\n",
       "    <tr>\n",
       "      <th>...</th>\n",
       "      <td>...</td>\n",
       "      <td>...</td>\n",
       "      <td>...</td>\n",
       "      <td>...</td>\n",
       "    </tr>\n",
       "    <tr>\n",
       "      <th>1</th>\n",
       "      <td>10</td>\n",
       "      <td>280</td>\n",
       "      <td>81</td>\n",
       "      <td>75</td>\n",
       "    </tr>\n",
       "    <tr>\n",
       "      <th>2</th>\n",
       "      <td>11</td>\n",
       "      <td>327</td>\n",
       "      <td>77</td>\n",
       "      <td>74</td>\n",
       "    </tr>\n",
       "    <tr>\n",
       "      <th>3</th>\n",
       "      <td>12</td>\n",
       "      <td>339</td>\n",
       "      <td>78</td>\n",
       "      <td>72</td>\n",
       "    </tr>\n",
       "  </tbody>\n",
       "</table>\n",
       "<p>20 rows × 4 columns</p>\n",
       "</div>"
      ],
      "text/plain": [
       "    Date  Flights  Temp  Humidity\n",
       "0      9      354    57        59\n",
       "1     10      382    72        68\n",
       "2     11      390    67        62\n",
       "..   ...      ...   ...       ...\n",
       "1     10      280    81        75\n",
       "2     11      327    77        74\n",
       "3     12      339    78        72\n",
       "\n",
       "[20 rows x 4 columns]"
      ]
     },
     "execution_count": 418,
     "metadata": {},
     "output_type": "execute_result"
    }
   ],
   "source": [
    "agg = [la_fly_freq, sea_fly_freq, chi_fly_freq, nyc_fly_freq, orl_fly_freq ]\n",
    "aggregate = pd.concat(agg)\n",
    "aggregate"
   ]
  },
  {
   "cell_type": "code",
   "execution_count": 419,
   "metadata": {},
   "outputs": [
    {
     "name": "stdout",
     "output_type": "stream",
     "text": [
      "                            OLS Regression Results                            \n",
      "==============================================================================\n",
      "Dep. Variable:                   Temp   R-squared:                       0.254\n",
      "Model:                            OLS   Adj. R-squared:                  0.212\n",
      "Method:                 Least Squares   F-statistic:                     6.125\n",
      "Date:                Fri, 07 Jun 2019   Prob (F-statistic):             0.0235\n",
      "Time:                        19:10:43   Log-Likelihood:                -79.130\n",
      "No. Observations:                  20   AIC:                             162.3\n",
      "Df Residuals:                      18   BIC:                             164.3\n",
      "Df Model:                           1                                         \n",
      "Covariance Type:            nonrobust                                         \n",
      "==============================================================================\n",
      "                 coef    std err          t      P>|t|      [0.025      0.975]\n",
      "------------------------------------------------------------------------------\n",
      "Intercept     76.2008      6.341     12.017      0.000      62.879      89.523\n",
      "Flights       -0.0320      0.013     -2.475      0.024      -0.059      -0.005\n",
      "==============================================================================\n",
      "Omnibus:                        1.741   Durbin-Watson:                   1.375\n",
      "Prob(Omnibus):                  0.419   Jarque-Bera (JB):                1.475\n",
      "Skew:                          -0.595   Prob(JB):                        0.478\n",
      "Kurtosis:                       2.404   Cond. No.                     1.04e+03\n",
      "==============================================================================\n",
      "\n",
      "Warnings:\n",
      "[1] Standard Errors assume that the covariance matrix of the errors is correctly specified.\n",
      "[2] The condition number is large, 1.04e+03. This might indicate that there are\n",
      "strong multicollinearity or other numerical problems.\n"
     ]
    }
   ],
   "source": [
    "outcome, predictors = patsy.dmatrices('Temp ~ Flights', aggregate)\n",
    "mod = sm.OLS(outcome, predictors)\n",
    "res = mod.fit()\n",
    "print(res.summary())"
   ]
  },
  {
   "cell_type": "code",
   "execution_count": 420,
   "metadata": {},
   "outputs": [
    {
     "name": "stdout",
     "output_type": "stream",
     "text": [
      "                            OLS Regression Results                            \n",
      "==============================================================================\n",
      "Dep. Variable:               Humidity   R-squared:                       0.003\n",
      "Model:                            OLS   Adj. R-squared:                 -0.053\n",
      "Method:                 Least Squares   F-statistic:                   0.04680\n",
      "Date:                Fri, 07 Jun 2019   Prob (F-statistic):              0.831\n",
      "Time:                        19:11:03   Log-Likelihood:                -64.116\n",
      "No. Observations:                  20   AIC:                             132.2\n",
      "Df Residuals:                      18   BIC:                             134.2\n",
      "Df Model:                           1                                         \n",
      "Covariance Type:            nonrobust                                         \n",
      "==============================================================================\n",
      "                 coef    std err          t      P>|t|      [0.025      0.975]\n",
      "------------------------------------------------------------------------------\n",
      "Intercept     71.9715      2.993     24.045      0.000      65.683      78.260\n",
      "Flights       -0.0013      0.006     -0.216      0.831      -0.014       0.011\n",
      "==============================================================================\n",
      "Omnibus:                        8.357   Durbin-Watson:                   1.020\n",
      "Prob(Omnibus):                  0.015   Jarque-Bera (JB):                6.046\n",
      "Skew:                          -1.297   Prob(JB):                       0.0487\n",
      "Kurtosis:                       3.729   Cond. No.                     1.04e+03\n",
      "==============================================================================\n",
      "\n",
      "Warnings:\n",
      "[1] Standard Errors assume that the covariance matrix of the errors is correctly specified.\n",
      "[2] The condition number is large, 1.04e+03. This might indicate that there are\n",
      "strong multicollinearity or other numerical problems.\n"
     ]
    }
   ],
   "source": [
    "outcome, predictors = patsy.dmatrices('Humidity ~ Flights', aggregate)\n",
    "mod = sm.OLS(outcome, predictors)\n",
    "res = mod.fit()\n",
    "print(res.summary())"
   ]
  },
  {
   "cell_type": "markdown",
   "metadata": {},
   "source": [
    "With this aggregate of the five cities, we gain 5x the observations and see a 0.254 R-squared value for Temperature and Flights, but only 0.003 for Humidity and Flights.\n",
    "\n",
    "The limited duration of months available to use has certainly made a strong analysis difficult. \n",
    "What we can argue with these results, however, is that Humidity likely did not have any influence on the rise or fall of flights to Los Angeles, Seattle, Chicago, New York City, or Orlando made in the time period of September 2009 to December 2009. \n",
    "Likewise, there is small significant evidence across these five cities and time period that Temperature may have made a small influence on the number of flights made."
   ]
  },
  {
   "cell_type": "code",
   "execution_count": null,
   "metadata": {},
   "outputs": [],
   "source": []
  }
 ],
 "metadata": {
  "kernelspec": {
   "display_name": "Python 3",
   "language": "python",
   "name": "python3"
  },
  "language_info": {
   "codemirror_mode": {
    "name": "ipython",
    "version": 3
   },
   "file_extension": ".py",
   "mimetype": "text/x-python",
   "name": "python",
   "nbconvert_exporter": "python",
   "pygments_lexer": "ipython3",
   "version": "3.7.1"
  }
 },
 "nbformat": 4,
 "nbformat_minor": 2
}
