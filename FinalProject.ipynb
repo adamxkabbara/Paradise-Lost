{
 "cells": [
  {
   "cell_type": "markdown",
   "metadata": {},
   "source": [
    "# COGS 108 - Final Project "
   ]
  },
  {
   "cell_type": "markdown",
   "metadata": {},
   "source": [
    "# Overview"
   ]
  },
  {
   "cell_type": "markdown",
   "metadata": {},
   "source": [
    "Our team, MARCK, is working with datasets of weather (temperature, humidity, air pressure, months, major cities) and flights (passenger traffic and date).  Based on current knowledge, we assume that the most measures of successful trip include pleasant weather.  We know that these aspects of weather fluctuate over the year, with some seasons not being optimal for travel for certain cities."
   ]
  },
  {
   "cell_type": "markdown",
   "metadata": {},
   "source": [
    "# Names\n",
    "\n",
    "- Robert Ball\n",
    "- Adam Kabbara \n",
    "- Karen Thai\n",
    "- Ching-Han Tu\n",
    "- Marjorie Tolentino"
   ]
  },
  {
   "cell_type": "markdown",
   "metadata": {},
   "source": [
    "# Group Members IDs\n",
    "\n",
    "- A12727981\n",
    "- A14723936\n",
    "- A15503591\n",
    "- A14528237\n",
    "- A13649532"
   ]
  },
  {
   "cell_type": "markdown",
   "metadata": {},
   "source": [
    "# Research Question"
   ]
  },
  {
   "cell_type": "markdown",
   "metadata": {},
   "source": [
    "To what extent does bad weather impact flight bookings? Specifically, we want to identify a potential threshold of some factor(s), such as temperature, humidity, natural disasters, etc. in common travel destinations that causes deceleration or negative growth of flights booked to that destination. We believe that by looking at flights booked over the course of 10 years to major American cities, namley Los Angeles, Seattle, Chicago, New York City and Orlando and by comparing them to changes in such as temperature, humidity, and air pressure, we can identify at what point of factors of weather may reliably make a significant impact on booked flights."
   ]
  },
  {
   "cell_type": "markdown",
   "metadata": {},
   "source": [
    "## Background and Prior Work"
   ]
  },
  {
   "cell_type": "markdown",
   "metadata": {},
   "source": [
    "Vacation is fun -- when weather permits. Throughout the year, there are peak and off-peak time for traveling. People would comment: “ I don’t want to go to New York now because it is too cold” or “I don’t want to go to Seattle because it’s going to rain.” However, these places are still remaining as popular locations to travel. Hence, we are interested in learning more about what meteorological factors play into booking flights.\n",
    "\n",
    "There are many reasons why people decide not to travel. Whether it is the fact the flights get canceled/delayed too often at that time of year or that their destination is not suited with the weather they desire. The Bureau of Transportation Statistics reports the reason why flights get canceled. It is important to understand the reason why flights cancel for a few reasons. We will be able to determine that the weather at the destination is not that great. This will be able to tell us whether there were fewer travelers to that destination using another dataset alongside the dataset with the one that has the information about the flight cancellations. Extreme Weather is defined\n",
    "\n",
    "Business Insider’s “Why cold winter weather cancels roughly 60,000 flights a year in the US” also explores this idea from the context of what happens on the ground.  Although planes can physically fly well in cold weather, there is the issue of uneven runways or visibility issues.  Iced passenger airplanes take turns at defrosting stations, which can cause delays.  The combination of bad road conditions that have caused passengers to miss their flights and delays causing passengers to miss connecting flights lead to a domino effect of cancellations as airports do not find it beneficial to fly with few passengers.\n",
    "\t\n",
    "The Federal Aviation Administration addressed several questions regarding weather delays. It noted that weather is the largest delay in the National Air System and that New York and San Francisco airports tend to have the most weather-related delays.  However, air traffic delays differ over the course of the year depending on the type of weather. During winter, surface winds and low ceiling and visibility are the main causes of weather delays, while in the summer the main causes are convective weather and low ceiling and visibility. It also explained that when flights encounter thunderstorms, aircrafts may have to divert to other airports, which causes large passenger delay and high costs.  It would be more desirable to predict the weather before a flight’s departure in order to determine if it should be cancelled or not for the airport.\n",
    "\n",
    "References (include links):\n",
    "- Causes of flight delays and cancellations with one cause is weather \n",
    "\n",
    "https://www.bts.gov/topics/airlines-and-airports/understanding-reporting-causes-flight-delays-and-cancellations\n",
    "\n",
    "Describes 50% flight were delayed due to weather (Extreme weather and NAS weather)\n",
    "\n",
    "- Cold weather leads to the cancellation of 60,000 Flights per year\n",
    "\n",
    "https://www.businessinsider.com/flight-cancellation-cold-weather-storm-blizzard-closing-airports-2019-2\n",
    "\n",
    "Cold weather can inhibit the plane from take-off when there ice on the plane or on the runway\n",
    "\n",
    "- Weather is the main cause of flight delays\n",
    "\n",
    "https://www.faa.gov/nextgen/programs/weather/faq/\n",
    "\n",
    "Shows the different types of weather conditions and how many delays they cause in winter and summer"
   ]
  },
  {
   "cell_type": "markdown",
   "metadata": {},
   "source": [
    "# Hypothesis\n"
   ]
  },
  {
   "cell_type": "markdown",
   "metadata": {},
   "source": [
    "We hypothesized that as the weather gets more unfriendly, which is when the temperature highly increases and decreases, precipitation increases, or when the atmospheric pressure decreases, the booked flights will decrease accordingly. This is because an unfriendly weather would affect the schedule negatively. Unbearable high temperature and low temperature would decrease tourists’ will for visiting that location. Rainy days would reduce the available events and locations to visit.  Moreover, atmospheric pressure can lead to cloudiness, wind, and precipitation, when it’s low, which can decrease tourists’ willingness of visiting the location. In contrast, high pressure can bring calm weather, which is favorable when touring a city. Hence, the more the weather is friendly, the more the flights will be booked. \n"
   ]
  },
  {
   "cell_type": "markdown",
   "metadata": {},
   "source": [
    "# Dataset(s)"
   ]
  },
  {
   "cell_type": "markdown",
   "metadata": {},
   "source": [
    "\n",
    "Dataset Name: Welcome Aboard : USA Airport Dataset EDA\n",
    "\n",
    "Link to the dataset: https://www.kaggle.com/flashgordon/welcome-aboard-usa-airport-dataset-eda/data\n",
    "\n",
    "Number of observations: 39,674,833\n",
    "\n",
    "Description: This dataset contains over 3.6 million flights and information about their origin city/airport/population, destination city/airport/population, number of passengers, seats, and distance of flight. It also contains the flight dates but only the month and year.  It is restricted to only flights coming to and from cities in the United States. \n",
    "\n",
    "\n",
    "Dataset Name: 'Timeanddate.com' <b>This was created with  Beautiful Soup webscraping</b>\n",
    "\n",
    "Link to the dataset: Timeanddate.com (Note: an example link from this website would be https://www.timeanddate.com/weather/usa/los-angeles/historic?month=9&year=2009, but we used information from over one thousand links) \n",
    "\n",
    "Number of observations: 2,240 \n",
    "\n",
    "Description: This website has data on past temperature, humidity, and pressure for hundreds of cities around the world. We used BeautifulSoup to webscrape this website for this data and build a table of weather conditions for the average Temperature, Humidity, and Air Pressure each month (we had to retain weather conditions to average month data because the exact dates of flights was not listed in the previous dataset)\n",
    "\n",
    "For the five citites of observation, Los Angeles, Seattle, Chicago, New York City, and Orlando, we used these two datasets to compare monthly weather conditions with their corresponding flight data in order to see what relationships exist between the available variabes."
   ]
  },
  {
   "cell_type": "markdown",
   "metadata": {},
   "source": [
    "# Setup"
   ]
  },
  {
   "cell_type": "code",
   "execution_count": 11,
   "metadata": {},
   "outputs": [],
   "source": [
    "# Imports used the the project\n",
    "\n",
    "# Display plots directly in the notebook instead of in a new window\n",
    "%matplotlib inline\n",
    "\n",
    "# Import libraries\n",
    "import numpy as np\n",
    "import pandas as pd\n",
    "import matplotlib.pyplot as plt\n",
    "import seaborn as sns\n",
    "import patsy\n",
    "import statsmodels.api as sm\n",
    "from scipy.stats import pearsonr, norm, ttest_ind\n",
    "import requests\n",
    "import bs4\n",
    "from bs4 import BeautifulSoup"
   ]
  },
  {
   "cell_type": "code",
   "execution_count": 12,
   "metadata": {},
   "outputs": [],
   "source": [
    "# Configure libraries\n",
    "# The seaborn library makes plots look nicer\n",
    "sns.set()\n",
    "sns.set_context('talk')\n",
    "\n",
    "# Don't display too many rows/cols of DataFrames\n",
    "pd.options.display.max_rows = 7\n",
    "pd.options.display.max_columns = 8\n",
    "\n",
    "# Round decimals when displaying DataFrames\n",
    "pd.set_option('precision', 2)"
   ]
  },
  {
   "cell_type": "markdown",
   "metadata": {},
   "source": [
    "Loading the airport data"
   ]
  },
  {
   "cell_type": "code",
   "execution_count": 13,
   "metadata": {},
   "outputs": [],
   "source": [
    "df_airports = pd.read_csv(\"Airports.csv\")"
   ]
  },
  {
   "cell_type": "code",
   "execution_count": 14,
   "metadata": {},
   "outputs": [
    {
     "data": {
      "text/html": [
       "<div>\n",
       "<style scoped>\n",
       "    .dataframe tbody tr th:only-of-type {\n",
       "        vertical-align: middle;\n",
       "    }\n",
       "\n",
       "    .dataframe tbody tr th {\n",
       "        vertical-align: top;\n",
       "    }\n",
       "\n",
       "    .dataframe thead th {\n",
       "        text-align: right;\n",
       "    }\n",
       "</style>\n",
       "<table border=\"1\" class=\"dataframe\">\n",
       "  <thead>\n",
       "    <tr style=\"text-align: right;\">\n",
       "      <th></th>\n",
       "      <th>Origin_airport</th>\n",
       "      <th>Destination_airport</th>\n",
       "      <th>Origin_city</th>\n",
       "      <th>Destination_city</th>\n",
       "      <th>...</th>\n",
       "      <th>Distance</th>\n",
       "      <th>Fly_date</th>\n",
       "      <th>Origin_population</th>\n",
       "      <th>Destination_population</th>\n",
       "    </tr>\n",
       "  </thead>\n",
       "  <tbody>\n",
       "    <tr>\n",
       "      <th>0</th>\n",
       "      <td>MHK</td>\n",
       "      <td>AMW</td>\n",
       "      <td>Manhattan, KS</td>\n",
       "      <td>Ames, IA</td>\n",
       "      <td>...</td>\n",
       "      <td>254</td>\n",
       "      <td>200810</td>\n",
       "      <td>122049</td>\n",
       "      <td>86219</td>\n",
       "    </tr>\n",
       "    <tr>\n",
       "      <th>1</th>\n",
       "      <td>EUG</td>\n",
       "      <td>RDM</td>\n",
       "      <td>Eugene, OR</td>\n",
       "      <td>Bend, OR</td>\n",
       "      <td>...</td>\n",
       "      <td>103</td>\n",
       "      <td>199011</td>\n",
       "      <td>284093</td>\n",
       "      <td>76034</td>\n",
       "    </tr>\n",
       "    <tr>\n",
       "      <th>2</th>\n",
       "      <td>EUG</td>\n",
       "      <td>RDM</td>\n",
       "      <td>Eugene, OR</td>\n",
       "      <td>Bend, OR</td>\n",
       "      <td>...</td>\n",
       "      <td>103</td>\n",
       "      <td>199012</td>\n",
       "      <td>284093</td>\n",
       "      <td>76034</td>\n",
       "    </tr>\n",
       "    <tr>\n",
       "      <th>3</th>\n",
       "      <td>EUG</td>\n",
       "      <td>RDM</td>\n",
       "      <td>Eugene, OR</td>\n",
       "      <td>Bend, OR</td>\n",
       "      <td>...</td>\n",
       "      <td>103</td>\n",
       "      <td>199010</td>\n",
       "      <td>284093</td>\n",
       "      <td>76034</td>\n",
       "    </tr>\n",
       "    <tr>\n",
       "      <th>4</th>\n",
       "      <td>MFR</td>\n",
       "      <td>RDM</td>\n",
       "      <td>Medford, OR</td>\n",
       "      <td>Bend, OR</td>\n",
       "      <td>...</td>\n",
       "      <td>156</td>\n",
       "      <td>199002</td>\n",
       "      <td>147300</td>\n",
       "      <td>76034</td>\n",
       "    </tr>\n",
       "  </tbody>\n",
       "</table>\n",
       "<p>5 rows × 11 columns</p>\n",
       "</div>"
      ],
      "text/plain": [
       "  Origin_airport Destination_airport    Origin_city Destination_city  \\\n",
       "0            MHK                 AMW  Manhattan, KS         Ames, IA   \n",
       "1            EUG                 RDM     Eugene, OR         Bend, OR   \n",
       "2            EUG                 RDM     Eugene, OR         Bend, OR   \n",
       "3            EUG                 RDM     Eugene, OR         Bend, OR   \n",
       "4            MFR                 RDM    Medford, OR         Bend, OR   \n",
       "\n",
       "            ...            Distance  Fly_date  Origin_population  \\\n",
       "0           ...                 254    200810             122049   \n",
       "1           ...                 103    199011             284093   \n",
       "2           ...                 103    199012             284093   \n",
       "3           ...                 103    199010             284093   \n",
       "4           ...                 156    199002             147300   \n",
       "\n",
       "   Destination_population  \n",
       "0                   86219  \n",
       "1                   76034  \n",
       "2                   76034  \n",
       "3                   76034  \n",
       "4                   76034  \n",
       "\n",
       "[5 rows x 11 columns]"
      ]
     },
     "execution_count": 14,
     "metadata": {},
     "output_type": "execute_result"
    }
   ],
   "source": [
    "df_airports.head()"
   ]
  },
  {
   "cell_type": "markdown",
   "metadata": {},
   "source": [
    "Webscraping the weather data from Timeanddate.com "
   ]
  },
  {
   "cell_type": "code",
   "execution_count": 16,
   "metadata": {},
   "outputs": [],
   "source": [
    "#creating lists to iterate through for weather years and months\n",
    "years = list(range(2010,2019))\n",
    "months = list(range(1,13))\n",
    "\n",
    "#creating 'temprorary' lists for Temperature, Humidity, and Pressure for creating the weather tables (by city)\n",
    "lst_T = []\n",
    "lst_H = []\n",
    "lst_P = []"
   ]
  },
  {
   "cell_type": "code",
   "execution_count": 17,
   "metadata": {},
   "outputs": [],
   "source": [
    "#this function takes in a url (that should follow the format of the example link given above from Timeanddate.com) \n",
    "#It appends the 3 weather conditions to the above lists and returns a dataframe for the weather conditions \n",
    "def WeatherAppend(site):\n",
    "    page = requests.get(site)\n",
    "    soup = BeautifulSoup(page.content)\n",
    "    avg_table = soup.find('div',{'class':'eight columns'})\n",
    "    td_avg_table = avg_table.find_all(\"td\")\n",
    "    T = td_avg_table[6]\n",
    "    H = td_avg_table[7]\n",
    "    P = td_avg_table[8]\n",
    "    lst_T.append(T.string)\n",
    "    lst_H.append(H.string)\n",
    "    lst_P.append(P.string)\n",
    "    data = {'Temperature':lst_T, \"Humidity\":lst_H, \"Pressure\":lst_P}\n",
    "    city = pd.DataFrame(data)\n",
    "    return city"
   ]
  },
  {
   "cell_type": "code",
   "execution_count": 18,
   "metadata": {},
   "outputs": [],
   "source": [
    "#example of webscraping, iterating through the month and year ranges starting with January 2010 in Los Angeles\n",
    "site = 'https://www.timeanddate.com/weather/usa/los-angeles/historic?month=1&year=2010'    \n",
    "for ind in years:\n",
    "    site = site.replace(site[site.find(\"year=\")+5:],str(years[ind-2011]),1)\n",
    "    for i in months:\n",
    "        losangeles = WeatherAppend(site.replace(site[site.find(\"=\")+1:site.find(\"&\")],str(months[i-1]),1))  "
   ]
  },
  {
   "cell_type": "code",
   "execution_count": 20,
   "metadata": {},
   "outputs": [
    {
     "data": {
      "text/html": [
       "<div>\n",
       "<style scoped>\n",
       "    .dataframe tbody tr th:only-of-type {\n",
       "        vertical-align: middle;\n",
       "    }\n",
       "\n",
       "    .dataframe tbody tr th {\n",
       "        vertical-align: top;\n",
       "    }\n",
       "\n",
       "    .dataframe thead th {\n",
       "        text-align: right;\n",
       "    }\n",
       "</style>\n",
       "<table border=\"1\" class=\"dataframe\">\n",
       "  <thead>\n",
       "    <tr style=\"text-align: right;\">\n",
       "      <th></th>\n",
       "      <th>Temperature</th>\n",
       "      <th>Humidity</th>\n",
       "      <th>Pressure</th>\n",
       "    </tr>\n",
       "  </thead>\n",
       "  <tbody>\n",
       "    <tr>\n",
       "      <th>0</th>\n",
       "      <td>60 °F</td>\n",
       "      <td>59%</td>\n",
       "      <td>30.07 \"Hg</td>\n",
       "    </tr>\n",
       "    <tr>\n",
       "      <th>1</th>\n",
       "      <td>58 °F</td>\n",
       "      <td>53%</td>\n",
       "      <td>30.04 \"Hg</td>\n",
       "    </tr>\n",
       "    <tr>\n",
       "      <th>2</th>\n",
       "      <td>59 °F</td>\n",
       "      <td>71%</td>\n",
       "      <td>30.03 \"Hg</td>\n",
       "    </tr>\n",
       "    <tr>\n",
       "      <th>...</th>\n",
       "      <td>...</td>\n",
       "      <td>...</td>\n",
       "      <td>...</td>\n",
       "    </tr>\n",
       "    <tr>\n",
       "      <th>105</th>\n",
       "      <td>72 °F</td>\n",
       "      <td>56%</td>\n",
       "      <td>29.89 \"Hg</td>\n",
       "    </tr>\n",
       "    <tr>\n",
       "      <th>106</th>\n",
       "      <td>65 °F</td>\n",
       "      <td>63%</td>\n",
       "      <td>30.01 \"Hg</td>\n",
       "    </tr>\n",
       "    <tr>\n",
       "      <th>107</th>\n",
       "      <td>59 °F</td>\n",
       "      <td>48%</td>\n",
       "      <td>30.08 \"Hg</td>\n",
       "    </tr>\n",
       "  </tbody>\n",
       "</table>\n",
       "<p>108 rows × 3 columns</p>\n",
       "</div>"
      ],
      "text/plain": [
       "    Temperature Humidity   Pressure\n",
       "0         60 °F      59%  30.07 \"Hg\n",
       "1         58 °F      53%  30.04 \"Hg\n",
       "2         59 °F      71%  30.03 \"Hg\n",
       "..          ...      ...        ...\n",
       "105       72 °F      56%  29.89 \"Hg\n",
       "106       65 °F      63%  30.01 \"Hg\n",
       "107       59 °F      48%  30.08 \"Hg\n",
       "\n",
       "[108 rows x 3 columns]"
      ]
     },
     "execution_count": 20,
     "metadata": {},
     "output_type": "execute_result"
    }
   ],
   "source": [
    "losangeles"
   ]
  },
  {
   "cell_type": "markdown",
   "metadata": {},
   "source": [
    "Looks great, but wait, a problem with the data!\n",
    "\n",
    "Unfortunately, we had not realized until later exploring the airport data that the flight dates, which are represetned in the dataset as YearMonth (e.g. 200910), only go to the end of 2009. We could not find any other datasets that had the airport data we needed for 2010-2019. Timeanddate.com only has past weather data that goes back to September of 2009. Futher research showed that weather data traditionally was obtained by www.wunderground.com, until access was discontinued (https://apicommunity.wunderground.com/weatherapi/topics/end-of-service-for-the-weather-underground-api). We tried to run similar code to iterate through their website for past weather data but found that it would be impossible or illegal to do so because the html restricted weather data from webscraping.\n",
    "\n",
    "Because we did not want to risk any legal reprecussions in obtaining weather data, we decided it would be best to use the overlap our datasets did include, despite how small. As a result, we could only work with four months of data, September-December of 2009. This made it very difficult to create a holistic answer to our hypothesis. However, across the five cities, there were still 9,505 rows of flight data that fell into this small date range we could work with."
   ]
  },
  {
   "cell_type": "markdown",
   "metadata": {},
   "source": [
    "# Data Cleaning"
   ]
  },
  {
   "cell_type": "markdown",
   "metadata": {},
   "source": [
    "Describe your data cleaning steps here."
   ]
  },
  {
   "cell_type": "code",
   "execution_count": 4,
   "metadata": {},
   "outputs": [],
   "source": [
    "## YOUR CODE HERE\n",
    "## FEEL FREE TO ADD MULTIPLE CELLS PER SECTION"
   ]
  },
  {
   "cell_type": "markdown",
   "metadata": {},
   "source": [
    "# Data Analysis & Results"
   ]
  },
  {
   "cell_type": "markdown",
   "metadata": {},
   "source": [
    "Include cells that describe the steps in your data analysis."
   ]
  },
  {
   "cell_type": "code",
   "execution_count": 5,
   "metadata": {},
   "outputs": [],
   "source": [
    "## YOUR CODE HERE\n",
    "## FEEL FREE TO ADD MULTIPLE CELLS PER SECTION"
   ]
  },
  {
   "cell_type": "markdown",
   "metadata": {},
   "source": [
    "# Ethics & Privacy"
   ]
  },
  {
   "cell_type": "markdown",
   "metadata": {},
   "source": [
    "All the data is publically available. The datasets regarding air and passenger traffic has anonymized the data and removed any personally identifying information.  However, our study reflects trends that can influence plane ticket purchases.  A possible unintended consequence of our work is that travelers may be able to see what months have lower/higher traffic in number of flights to a certain destination, and this could affect their plans in terms of when to go.  For example, seeing a decrease in traffic to a city one passenger could infer lower hotel rates due to lower demand or low amount of travelers.  Due to the change of plans, this could have an economic impact in the area for any local business hoping to attract travelers (rental car service, restaurants, tourist activities, etc.)  There could also be unintentional harm that affects the traveler’s experience, for there would be a tradeoff between pleasing travel weather or conditions of less traffic (less busy areas, waiting in lines, parking etc.)\n",
    "\n",
    "\n",
    "Possible biases in our data come from our team’s perception of “popular, major” cities based on our pre-existing knowledge.  However, these places are not completely representative of major cities throughout the U.S. (variety in climate, compactness, landmarks to visit).\n",
    "\n",
    "The data is limited so it should not influence people’s travelling decision that much. The data for flights only provide the month and year. As we are limited to the month and the year instead of the exact date, it decreases the accuracy of the analysis by reducing the data of changes we can use. In this case, based on the result of our analysis, we can see that there was overall a small correlation and should not be too significantly used by these parties (airlines, tourist agencies, customers, etc.) because of the risk if our data were to be taken as fact.\n"
   ]
  },
  {
   "cell_type": "markdown",
   "metadata": {},
   "source": [
    "# Conclusion & Discussion"
   ]
  },
  {
   "cell_type": "markdown",
   "metadata": {},
   "source": [
    "In conclusion, the result does not match with our hypothesis. We hypothesized that as the weather gets more unfriendly, which is when the temperature highly increases and decreases, precipitation increases, or when the atmospheric pressure decreases, the booked flights will decrease accordingly. However, the result of analysis shows that "
   ]
  }
 ],
 "metadata": {
  "kernelspec": {
   "display_name": "Python 3",
   "language": "python",
   "name": "python3"
  },
  "language_info": {
   "codemirror_mode": {
    "name": "ipython",
    "version": 3
   },
   "file_extension": ".py",
   "mimetype": "text/x-python",
   "name": "python",
   "nbconvert_exporter": "python",
   "pygments_lexer": "ipython3",
   "version": "3.7.1"
  }
 },
 "nbformat": 4,
 "nbformat_minor": 2
}
