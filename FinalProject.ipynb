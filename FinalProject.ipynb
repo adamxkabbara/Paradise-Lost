{
 "cells": [
  {
   "cell_type": "markdown",
   "metadata": {},
   "source": [
    "# COGS 108 - Final Project "
   ]
  },
  {
   "cell_type": "markdown",
   "metadata": {},
   "source": [
    "# Overview"
   ]
  },
  {
   "cell_type": "markdown",
   "metadata": {},
   "source": [
    "Our team, MARCK, is working with datasets of weather (temperature, humidity, air pressure, months, major cities) and flights (passenger traffic and date).  Based on current knowledge, we assume that the most measures of successful trip include pleasant weather.  We know that these aspects of weather fluctuate over the year, with some seasons not being optimal for travel for certain cities."
   ]
  },
  {
   "cell_type": "markdown",
   "metadata": {},
   "source": [
    "# Names\n",
    "\n",
    "- Robert Ball\n",
    "- Adam Kabbara \n",
    "- Karen Thai\n",
    "- Ching-Han Tu\n",
    "- Marjorie Tolentino"
   ]
  },
  {
   "cell_type": "markdown",
   "metadata": {},
   "source": [
    "# Group Members IDs\n",
    "\n",
    "- A12727981\n",
    "- A14723936\n",
    "- A15503591\n",
    "- A14528237\n",
    "- A13649532"
   ]
  },
  {
   "cell_type": "markdown",
   "metadata": {},
   "source": [
    "# Research Question"
   ]
  },
  {
   "cell_type": "markdown",
   "metadata": {},
   "source": [
    "To what extent does bad weather impact flight bookings? Specifically, we want to identify a potential threshold of some factor(s), such as temperature, humidity, natural disasters, etc. in common travel destinations that causes deceleration or negative growth of flights booked to that destination. We believe that by looking at flights booked over the course of 10 years to major American cities such as New York, Seattle, Los Angeles, Alaska, and Hawaii and by comparing them to changes in temperature, precipitation, and occurrences of natural disasters, we can identify at what point of factors of weather may reliably make a significant impact on booked flights."
   ]
  },
  {
   "cell_type": "markdown",
   "metadata": {},
   "source": [
    "## Background and Prior Work"
   ]
  },
  {
   "cell_type": "markdown",
   "metadata": {},
   "source": [
    "Vacation is fun -- when weather permits. Throughout the year, there are peak and off-peak time for traveling. People would comment: “ I don’t want to go to New York now because it is too cold” or “I don’t want to go to Seattle because it’s going to rain.” However, these places are still remaining as popular locations to travel. Hence, we are interested in learning more about what meteorological factors play into booking flights.\n",
    "\n",
    "There are many reasons why people decide not to travel. Whether it is the fact the flights get canceled/delayed too often at that time of year or that their destination is not suited with the weather they desire. The Bureau of Transportation Statistics reports the reason why flights get canceled. It is important to understand the reason why flights cancel for a few reasons. We will be able to determine that the weather at the destination is not that great. This will be able to tell us whether there were fewer travelers to that destination using another dataset alongside the dataset with the one that has the information about the flight cancellations. Extreme Weather is defined\n",
    "\n",
    "Business Insider’s “Why cold winter weather cancels roughly 60,000 flights a year in the US” also explores this idea from the context of what happens on the ground.  Although planes can physically fly well in cold weather, there is the issue of uneven runways or visibility issues.  Iced passenger airplanes take turns at defrosting stations, which can cause delays.  The combination of bad road conditions that have caused passengers to miss their flights and delays causing passengers to miss connecting flights lead to a domino effect of cancellations as airports do not find it beneficial to fly with few passengers.\n",
    "\t\n",
    "The Federal Aviation Administration addressed several questions regarding weather delays. It noted that weather is the largest delay in the National Air System and that New York and San Francisco airports tend to have the most weather-related delays.  However, air traffic delays differ over the course of the year depending on the type of weather. During winter, surface winds and low ceiling and visibility are the main causes of weather delays, while in the summer the main causes are convective weather and low ceiling and visibility. It also explained that when flights encounter thunderstorms, aircrafts may have to divert to other airports, which causes large passenger delay and high costs.  It would be more desirable to predict the weather before a flight’s departure in order to determine if it should be cancelled or not for the airport.\n",
    "\n",
    "References (include links):\n",
    "- 1) https://www.businessinsider.com/flight-cancellation-cold-weather-storm-blizzard-closing-airports-2019-2\n",
    "- 2)"
   ]
  },
  {
   "cell_type": "markdown",
   "metadata": {},
   "source": [
    "# Hypothesis\n"
   ]
  },
  {
   "cell_type": "markdown",
   "metadata": {},
   "source": [
    "We hypothesized that as the weather gets more unfriendly, which is when the temperature highly increases and decreases, precipitation increases, or when the atmospheric pressure decreases, the booked flights will decrease accordingly. This is because an unfriendly weather would affect the schedule negatively. Unbearable high temperature and low temperature would decrease tourists’ will for visiting that location. Rainy days would reduce the available events and locations to visit.  Moreover, atmospheric pressure can lead to cloudiness, wind, and precipitation, when it’s low, which can decrease tourists’ willingness of visiting the location. In contrast, high pressure can bring calm weather, which is favorable when touring a city. Hence, the more the weather is friendly, the more the flights will be booked. \n"
   ]
  },
  {
   "cell_type": "markdown",
   "metadata": {},
   "source": [
    "# Dataset(s)"
   ]
  },
  {
   "cell_type": "markdown",
   "metadata": {},
   "source": [
    "Dataset Name: Timeanddate.com\n",
    "\n",
    "Link to the dataset: Timeanddate.com \n",
    "\n",
    "Number of observations: 1,605 \n",
    "\n",
    "Description: This website has data on past temperature, humidity, and pressure for hundreds of cities around the world. We can use BeautifulSoup to webscrape this website for this data and build a fairly comprehensive database of weather highs and lows in our major cities of focus over the past 10 years.\n",
    "\n",
    "\n",
    "\n",
    "Dataset Name: Welcome Aboard : USA Airport Dataset EDA\n",
    "\n",
    "Link to the dataset: https://www.kaggle.com/flashgordon/welcome-aboard-usa-airport-dataset-eda/data\n",
    "\n",
    "Number of observations: Need to wait for dropped columns\n",
    "\n",
    "Description: This dataset contains the departure and destination location (city and airport) of the flight with number of travels to a location.\n",
    "\n",
    "\n",
    "We plan to group the data from both sets by location in the USA and date, two variables that are present on both.\n"
   ]
  },
  {
   "cell_type": "markdown",
   "metadata": {},
   "source": [
    "# Setup"
   ]
  },
  {
   "cell_type": "code",
   "execution_count": 3,
   "metadata": {},
   "outputs": [],
   "source": [
    "## YOUR CODE HERE"
   ]
  },
  {
   "cell_type": "markdown",
   "metadata": {},
   "source": [
    "# Data Cleaning"
   ]
  },
  {
   "cell_type": "markdown",
   "metadata": {},
   "source": [
    "Describe your data cleaning steps here."
   ]
  },
  {
   "cell_type": "code",
   "execution_count": 4,
   "metadata": {},
   "outputs": [],
   "source": [
    "## YOUR CODE HERE\n",
    "## FEEL FREE TO ADD MULTIPLE CELLS PER SECTION"
   ]
  },
  {
   "cell_type": "markdown",
   "metadata": {},
   "source": [
    "# Data Analysis & Results"
   ]
  },
  {
   "cell_type": "markdown",
   "metadata": {},
   "source": [
    "Include cells that describe the steps in your data analysis."
   ]
  },
  {
   "cell_type": "code",
   "execution_count": 5,
   "metadata": {},
   "outputs": [],
   "source": [
    "## YOUR CODE HERE\n",
    "## FEEL FREE TO ADD MULTIPLE CELLS PER SECTION"
   ]
  },
  {
   "cell_type": "markdown",
   "metadata": {},
   "source": [
    "# Ethics & Privacy"
   ]
  },
  {
   "cell_type": "markdown",
   "metadata": {},
   "source": [
    "*Fill in your ethics & privacy discussion here*"
   ]
  },
  {
   "cell_type": "markdown",
   "metadata": {},
   "source": [
    "# Conclusion & Discussion"
   ]
  },
  {
   "cell_type": "markdown",
   "metadata": {},
   "source": [
    "*Fill in your discussion information here*"
   ]
  }
 ],
 "metadata": {
  "kernelspec": {
   "display_name": "Python 3",
   "language": "python",
   "name": "python3"
  },
  "language_info": {
   "codemirror_mode": {
    "name": "ipython",
    "version": 3
   },
   "file_extension": ".py",
   "mimetype": "text/x-python",
   "name": "python",
   "nbconvert_exporter": "python",
   "pygments_lexer": "ipython3",
   "version": "3.7.3"
  }
 },
 "nbformat": 4,
 "nbformat_minor": 2
}
