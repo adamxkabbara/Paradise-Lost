{
 "cells": [
  {
   "cell_type": "markdown",
   "metadata": {},
   "source": [
    "# WebScraping for WUNDERGROUND"
   ]
  },
  {
   "cell_type": "markdown",
   "metadata": {},
   "source": [
    "LOS ANGELES"
   ]
  },
  {
   "cell_type": "code",
   "execution_count": 27,
   "metadata": {},
   "outputs": [],
   "source": [
    "import pandas as pd\n",
    "import requests\n",
    "import bs4\n",
    "from bs4 import BeautifulSoup"
   ]
  },
  {
   "cell_type": "code",
   "execution_count": 28,
   "metadata": {},
   "outputs": [],
   "source": [
    "\n",
    "from urllib.request import Request, urlopen\n",
    "\n",
    "req = Request('https://www.wunderground.com/history/daily/us/ca/los-angeles/KLAX/date/1990-1-1', headers={'User-Agent': 'Mozilla/5.0'})\n",
    "webpage = urlopen(req).read()"
   ]
  },
  {
   "cell_type": "code",
   "execution_count": 29,
   "metadata": {},
   "outputs": [
    {
     "ename": "AttributeError",
     "evalue": "'NoneType' object has no attribute 'b'",
     "output_type": "error",
     "traceback": [
      "\u001b[0;31m---------------------------------------------------------------------------\u001b[0m",
      "\u001b[0;31mAttributeError\u001b[0m                            Traceback (most recent call last)",
      "\u001b[0;32m<ipython-input-29-8b8f542238dd>\u001b[0m in \u001b[0;36m<module>\u001b[0;34m\u001b[0m\n\u001b[1;32m     34\u001b[0m       \u001b[0;31m# Get temperature from page\u001b[0m\u001b[0;34m\u001b[0m\u001b[0;34m\u001b[0m\u001b[0;34m\u001b[0m\u001b[0m\n\u001b[1;32m     35\u001b[0m       \u001b[0msoup\u001b[0m \u001b[0;34m=\u001b[0m \u001b[0mBeautifulSoup\u001b[0m\u001b[0;34m(\u001b[0m\u001b[0mpage\u001b[0m\u001b[0;34m)\u001b[0m\u001b[0;34m\u001b[0m\u001b[0;34m\u001b[0m\u001b[0m\n\u001b[0;32m---> 36\u001b[0;31m       \u001b[0mdayTemp\u001b[0m \u001b[0;34m=\u001b[0m \u001b[0msoup\u001b[0m\u001b[0;34m.\u001b[0m\u001b[0mbody\u001b[0m\u001b[0;34m.\u001b[0m\u001b[0mnobr\u001b[0m\u001b[0;34m.\u001b[0m\u001b[0mb\u001b[0m\u001b[0;34m.\u001b[0m\u001b[0mstring\u001b[0m\u001b[0;34m\u001b[0m\u001b[0;34m\u001b[0m\u001b[0m\n\u001b[0m\u001b[1;32m     37\u001b[0m \u001b[0;34m\u001b[0m\u001b[0m\n\u001b[1;32m     38\u001b[0m       \u001b[0;31m# Format month for timestamp\u001b[0m\u001b[0;34m\u001b[0m\u001b[0;34m\u001b[0m\u001b[0;34m\u001b[0m\u001b[0m\n",
      "\u001b[0;31mAttributeError\u001b[0m: 'NoneType' object has no attribute 'b'"
     ]
    }
   ],
   "source": [
    "# Create/open a file called wunder.txt (which will be a comma-delimited file)\n",
    "f = open('LA_w.txt', 'w')\n",
    " \n",
    "# Iter# Create/open a file called wunder.txt (which will be a comma-delimited file)\n",
    "f = open('wunder-data.txt', 'w')\n",
    " \n",
    "# Iterate through year, month, and day\n",
    "for y in range(1980, 2007):\n",
    "  for m in range(1, 13):\n",
    "    for d in range(1, 32):\n",
    " \n",
    "      # Check if leap year\n",
    "      if y%400 == 0:\n",
    "        leap = True\n",
    "      elif y%100 == 0:\n",
    "        leap = False\n",
    "      elif y%4 == 0:\n",
    "        leap = True\n",
    "      else:\n",
    "        leap = False\n",
    " \n",
    "      # Check if already gone through month\n",
    "      if (m == 2 and leap and d > 29):\n",
    "        continue\n",
    "      elif (m == 2 and d > 28):\n",
    "        continue\n",
    "      elif (m in [4, 6, 9, 10] and d > 30):\n",
    "        continue\n",
    " \n",
    "      # Open wunderground.com url   \n",
    "      req = Request(\"http://www.wunderground.com/history/airport/KBUF/\"+str(y)+ \"/\" + str(m) + \"/\" + str(d) + \"/DailyHistory.html\", headers={'User-Agent': 'Mozilla/5.0'})\n",
    "      page = urlopen(req).read()\n",
    " \n",
    "      # Get temperature from page\n",
    "      soup = BeautifulSoup(page)\n",
    "      dayTemp = soup.body.nobr.b.string\n",
    " \n",
    "      # Format month for timestamp\n",
    "      if len(str(m)) < 2:\n",
    "        mStamp = '0' + str(m)\n",
    "      else:\n",
    "        mStamp = str(m)\n",
    " \n",
    "      # Format day for timestamp\n",
    "      if len(str(d)) < 2:\n",
    "        dStamp = '0' + str(d)\n",
    "      else:\n",
    "        dStamp = str(d)\n",
    " \n",
    "      # Build timestamp\n",
    "      timestamp = str(y) + mStamp + dStamp\n",
    " \n",
    "      # Write timestamp and temperature to file\n",
    "      f.write(timestamp + ',' + dayTemp + '\\n')\n",
    " \n",
    "# Done getting data! Close file.\n",
    "f.close()\n"
   ]
  },
  {
   "cell_type": "code",
   "execution_count": 38,
   "metadata": {},
   "outputs": [],
   "source": [
    "req = Request(\"https://www.wunderground.com/history/daily/us/ca/los-angeles/KLAX/date/1990-1-1\", headers={'User-Agent': 'Mozilla/5.0'})\n",
    "page = urlopen(req).read()\n",
    "soup = BeautifulSoup(page)"
   ]
  },
  {
   "cell_type": "code",
   "execution_count": 61,
   "metadata": {
    "scrolled": true
   },
   "outputs": [
    {
     "data": {
      "text/plain": [
       "<city-history-summary _nghost-c57=\"\"><div _ngcontent-c57=\"\">\n",
       "<div _ngcontent-c57=\"\" class=\"summary-title\">Summary</div>\n",
       "<div _ngcontent-c57=\"\" class=\"summary-table\">\n",
       "<!-- -->     \n",
       "        No data recorded\n",
       "      \n",
       "      <!-- -->\n",
       "</div>\n",
       "</div></city-history-summary>"
      ]
     },
     "execution_count": 61,
     "metadata": {},
     "output_type": "execute_result"
    }
   ],
   "source": [
    "soup.body.app.find('city-history-summary')"
   ]
  },
  {
   "cell_type": "code",
   "execution_count": null,
   "metadata": {},
   "outputs": [],
   "source": []
  }
 ],
 "metadata": {
  "kernelspec": {
   "display_name": "Python 3",
   "language": "python",
   "name": "python3"
  },
  "language_info": {
   "codemirror_mode": {
    "name": "ipython",
    "version": 3
   },
   "file_extension": ".py",
   "mimetype": "text/x-python",
   "name": "python",
   "nbconvert_exporter": "python",
   "pygments_lexer": "ipython3",
   "version": "3.7.1"
  }
 },
 "nbformat": 4,
 "nbformat_minor": 2
}
